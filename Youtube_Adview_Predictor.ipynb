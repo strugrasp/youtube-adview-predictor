{
  "cells": [
    {
      "cell_type": "code",
      "execution_count": null,
      "metadata": {
        "id": "RC0AVdV0W7b0"
      },
      "outputs": [],
      "source": [
        "import numpy as np\n",
        "import pandas as pd\n",
        "import seaborn as sns\n",
        "import matplotlib.pyplot as plt\n"
      ]
    },
    {
      "cell_type": "code",
      "execution_count": 2,
      "metadata": {
        "id": "0tGgV9RVX2wH"
      },
      "outputs": [],
      "source": [
        "data_train = pd.read_csv(\"train.csv\")"
      ]
    },
    {
      "cell_type": "code",
      "execution_count": 3,
      "metadata": {
        "colab": {
          "base_uri": "https://localhost:8080/",
          "height": 206
        },
        "id": "OdGriW42Yc19",
        "outputId": "fbc18539-a122-4c7a-8f1d-6647c7e78444"
      },
      "outputs": [
        {
          "data": {
            "text/html": [
              "<div>\n",
              "<style scoped>\n",
              "    .dataframe tbody tr th:only-of-type {\n",
              "        vertical-align: middle;\n",
              "    }\n",
              "\n",
              "    .dataframe tbody tr th {\n",
              "        vertical-align: top;\n",
              "    }\n",
              "\n",
              "    .dataframe thead th {\n",
              "        text-align: right;\n",
              "    }\n",
              "</style>\n",
              "<table border=\"1\" class=\"dataframe\">\n",
              "  <thead>\n",
              "    <tr style=\"text-align: right;\">\n",
              "      <th></th>\n",
              "      <th>vidid</th>\n",
              "      <th>adview</th>\n",
              "      <th>views</th>\n",
              "      <th>likes</th>\n",
              "      <th>dislikes</th>\n",
              "      <th>comment</th>\n",
              "      <th>published</th>\n",
              "      <th>duration</th>\n",
              "      <th>category</th>\n",
              "    </tr>\n",
              "  </thead>\n",
              "  <tbody>\n",
              "    <tr>\n",
              "      <th>0</th>\n",
              "      <td>VID_18655</td>\n",
              "      <td>40</td>\n",
              "      <td>1031602</td>\n",
              "      <td>8523</td>\n",
              "      <td>363</td>\n",
              "      <td>1095</td>\n",
              "      <td>2016-09-14</td>\n",
              "      <td>PT7M37S</td>\n",
              "      <td>F</td>\n",
              "    </tr>\n",
              "    <tr>\n",
              "      <th>1</th>\n",
              "      <td>VID_14135</td>\n",
              "      <td>2</td>\n",
              "      <td>1707</td>\n",
              "      <td>56</td>\n",
              "      <td>2</td>\n",
              "      <td>6</td>\n",
              "      <td>2016-10-01</td>\n",
              "      <td>PT9M30S</td>\n",
              "      <td>D</td>\n",
              "    </tr>\n",
              "    <tr>\n",
              "      <th>2</th>\n",
              "      <td>VID_2187</td>\n",
              "      <td>1</td>\n",
              "      <td>2023</td>\n",
              "      <td>25</td>\n",
              "      <td>0</td>\n",
              "      <td>2</td>\n",
              "      <td>2016-07-02</td>\n",
              "      <td>PT2M16S</td>\n",
              "      <td>C</td>\n",
              "    </tr>\n",
              "    <tr>\n",
              "      <th>3</th>\n",
              "      <td>VID_23096</td>\n",
              "      <td>6</td>\n",
              "      <td>620860</td>\n",
              "      <td>777</td>\n",
              "      <td>161</td>\n",
              "      <td>153</td>\n",
              "      <td>2016-07-27</td>\n",
              "      <td>PT4M22S</td>\n",
              "      <td>H</td>\n",
              "    </tr>\n",
              "    <tr>\n",
              "      <th>4</th>\n",
              "      <td>VID_10175</td>\n",
              "      <td>1</td>\n",
              "      <td>666</td>\n",
              "      <td>1</td>\n",
              "      <td>0</td>\n",
              "      <td>0</td>\n",
              "      <td>2016-06-29</td>\n",
              "      <td>PT31S</td>\n",
              "      <td>D</td>\n",
              "    </tr>\n",
              "  </tbody>\n",
              "</table>\n",
              "</div>"
            ],
            "text/plain": [
              "       vidid  adview    views likes dislikes comment   published duration  \\\n",
              "0  VID_18655      40  1031602  8523      363    1095  2016-09-14  PT7M37S   \n",
              "1  VID_14135       2     1707    56        2       6  2016-10-01  PT9M30S   \n",
              "2   VID_2187       1     2023    25        0       2  2016-07-02  PT2M16S   \n",
              "3  VID_23096       6   620860   777      161     153  2016-07-27  PT4M22S   \n",
              "4  VID_10175       1      666     1        0       0  2016-06-29    PT31S   \n",
              "\n",
              "  category  \n",
              "0        F  \n",
              "1        D  \n",
              "2        C  \n",
              "3        H  \n",
              "4        D  "
            ]
          },
          "execution_count": 3,
          "metadata": {},
          "output_type": "execute_result"
        }
      ],
      "source": [
        "data_train.head()"
      ]
    },
    {
      "cell_type": "code",
      "execution_count": 4,
      "metadata": {
        "colab": {
          "base_uri": "https://localhost:8080/"
        },
        "id": "ZohaL7WVYhr2",
        "outputId": "8c50ea49-2c05-413d-a57a-f885437b7097"
      },
      "outputs": [
        {
          "data": {
            "text/plain": [
              "(14999, 9)"
            ]
          },
          "execution_count": 4,
          "metadata": {},
          "output_type": "execute_result"
        }
      ],
      "source": [
        "data_train.shape"
      ]
    },
    {
      "cell_type": "code",
      "execution_count": 5,
      "metadata": {
        "colab": {
          "base_uri": "https://localhost:8080/"
        },
        "id": "zxHz1jqPdbQI",
        "outputId": "b44b22b4-51db-4a43-8532-c8c7dad18f90"
      },
      "outputs": [
        {
          "data": {
            "text/plain": [
              "<bound method DataFrame.info of            vidid  adview    views likes dislikes comment   published duration  \\\n",
              "0      VID_18655      40  1031602  8523      363    1095  2016-09-14  PT7M37S   \n",
              "1      VID_14135       2     1707    56        2       6  2016-10-01  PT9M30S   \n",
              "2       VID_2187       1     2023    25        0       2  2016-07-02  PT2M16S   \n",
              "3      VID_23096       6   620860   777      161     153  2016-07-27  PT4M22S   \n",
              "4      VID_10175       1      666     1        0       0  2016-06-29    PT31S   \n",
              "...          ...     ...      ...   ...      ...     ...         ...      ...   \n",
              "14994     VID_31       2   525949  1137       83      86  2015-05-18  PT6M10S   \n",
              "14995   VID_5861       1   665673  3849      156     569  2015-10-20  PT3M56S   \n",
              "14996    VID_805       4     3479    16        1       1  2013-08-23  PT3M13S   \n",
              "14997  VID_19843       1      963     0        0       0  2010-10-02    PT26S   \n",
              "14998   VID_8534       1    15212    22        5       4  2016-02-19   PT1M1S   \n",
              "\n",
              "      category  \n",
              "0            F  \n",
              "1            D  \n",
              "2            C  \n",
              "3            H  \n",
              "4            D  \n",
              "...        ...  \n",
              "14994        A  \n",
              "14995        D  \n",
              "14996        B  \n",
              "14997        G  \n",
              "14998        D  \n",
              "\n",
              "[14999 rows x 9 columns]>"
            ]
          },
          "execution_count": 5,
          "metadata": {},
          "output_type": "execute_result"
        }
      ],
      "source": [
        "data_train.info"
      ]
    },
    {
      "cell_type": "code",
      "execution_count": 6,
      "metadata": {
        "colab": {
          "base_uri": "https://localhost:8080/"
        },
        "id": "_Lz1OpQBeHp9",
        "outputId": "4e6e4094-d73a-44d9-fcef-221eaccda007"
      },
      "outputs": [
        {
          "data": {
            "text/plain": [
              "vidid        0\n",
              "adview       0\n",
              "views        0\n",
              "likes        0\n",
              "dislikes     0\n",
              "comment      0\n",
              "published    0\n",
              "duration     0\n",
              "category     0\n",
              "dtype: int64"
            ]
          },
          "execution_count": 6,
          "metadata": {},
          "output_type": "execute_result"
        }
      ],
      "source": [
        "data_train.isna().sum()"
      ]
    },
    {
      "cell_type": "code",
      "execution_count": 7,
      "metadata": {
        "colab": {
          "base_uri": "https://localhost:8080/"
        },
        "id": "p1MGiDoieMCo",
        "outputId": "6399492e-de71-4d93-af10-7563a6da4086"
      },
      "outputs": [
        {
          "data": {
            "text/plain": [
              "vidid        object\n",
              "adview        int64\n",
              "views        object\n",
              "likes        object\n",
              "dislikes     object\n",
              "comment      object\n",
              "published    object\n",
              "duration     object\n",
              "category     object\n",
              "dtype: object"
            ]
          },
          "execution_count": 7,
          "metadata": {},
          "output_type": "execute_result"
        }
      ],
      "source": [
        "data_train.dtypes"
      ]
    },
    {
      "cell_type": "code",
      "execution_count": 8,
      "metadata": {
        "colab": {
          "base_uri": "https://localhost:8080/",
          "height": 206
        },
        "id": "qho84P2WrQrr",
        "outputId": "c6117edd-d2ad-4f34-c2f3-5db255f48778"
      },
      "outputs": [
        {
          "data": {
            "text/html": [
              "<div>\n",
              "<style scoped>\n",
              "    .dataframe tbody tr th:only-of-type {\n",
              "        vertical-align: middle;\n",
              "    }\n",
              "\n",
              "    .dataframe tbody tr th {\n",
              "        vertical-align: top;\n",
              "    }\n",
              "\n",
              "    .dataframe thead th {\n",
              "        text-align: right;\n",
              "    }\n",
              "</style>\n",
              "<table border=\"1\" class=\"dataframe\">\n",
              "  <thead>\n",
              "    <tr style=\"text-align: right;\">\n",
              "      <th></th>\n",
              "      <th>vidid</th>\n",
              "      <th>adview</th>\n",
              "      <th>views</th>\n",
              "      <th>likes</th>\n",
              "      <th>dislikes</th>\n",
              "      <th>comment</th>\n",
              "      <th>published</th>\n",
              "      <th>duration</th>\n",
              "      <th>category</th>\n",
              "    </tr>\n",
              "  </thead>\n",
              "  <tbody>\n",
              "    <tr>\n",
              "      <th>0</th>\n",
              "      <td>VID_18655</td>\n",
              "      <td>40</td>\n",
              "      <td>1031602</td>\n",
              "      <td>8523</td>\n",
              "      <td>363</td>\n",
              "      <td>1095</td>\n",
              "      <td>2016-09-14</td>\n",
              "      <td>PT7M37S</td>\n",
              "      <td>F</td>\n",
              "    </tr>\n",
              "    <tr>\n",
              "      <th>1</th>\n",
              "      <td>VID_14135</td>\n",
              "      <td>2</td>\n",
              "      <td>1707</td>\n",
              "      <td>56</td>\n",
              "      <td>2</td>\n",
              "      <td>6</td>\n",
              "      <td>2016-10-01</td>\n",
              "      <td>PT9M30S</td>\n",
              "      <td>D</td>\n",
              "    </tr>\n",
              "    <tr>\n",
              "      <th>2</th>\n",
              "      <td>VID_2187</td>\n",
              "      <td>1</td>\n",
              "      <td>2023</td>\n",
              "      <td>25</td>\n",
              "      <td>0</td>\n",
              "      <td>2</td>\n",
              "      <td>2016-07-02</td>\n",
              "      <td>PT2M16S</td>\n",
              "      <td>C</td>\n",
              "    </tr>\n",
              "    <tr>\n",
              "      <th>3</th>\n",
              "      <td>VID_23096</td>\n",
              "      <td>6</td>\n",
              "      <td>620860</td>\n",
              "      <td>777</td>\n",
              "      <td>161</td>\n",
              "      <td>153</td>\n",
              "      <td>2016-07-27</td>\n",
              "      <td>PT4M22S</td>\n",
              "      <td>H</td>\n",
              "    </tr>\n",
              "    <tr>\n",
              "      <th>4</th>\n",
              "      <td>VID_10175</td>\n",
              "      <td>1</td>\n",
              "      <td>666</td>\n",
              "      <td>1</td>\n",
              "      <td>0</td>\n",
              "      <td>0</td>\n",
              "      <td>2016-06-29</td>\n",
              "      <td>PT31S</td>\n",
              "      <td>D</td>\n",
              "    </tr>\n",
              "  </tbody>\n",
              "</table>\n",
              "</div>"
            ],
            "text/plain": [
              "       vidid  adview    views likes dislikes comment   published duration  \\\n",
              "0  VID_18655      40  1031602  8523      363    1095  2016-09-14  PT7M37S   \n",
              "1  VID_14135       2     1707    56        2       6  2016-10-01  PT9M30S   \n",
              "2   VID_2187       1     2023    25        0       2  2016-07-02  PT2M16S   \n",
              "3  VID_23096       6   620860   777      161     153  2016-07-27  PT4M22S   \n",
              "4  VID_10175       1      666     1        0       0  2016-06-29    PT31S   \n",
              "\n",
              "  category  \n",
              "0        F  \n",
              "1        D  \n",
              "2        C  \n",
              "3        H  \n",
              "4        D  "
            ]
          },
          "execution_count": 8,
          "metadata": {},
          "output_type": "execute_result"
        }
      ],
      "source": [
        "data_train.head()"
      ]
    },
    {
      "cell_type": "code",
      "execution_count": 9,
      "metadata": {
        "colab": {
          "base_uri": "https://localhost:8080/",
          "height": 279
        },
        "id": "I6_USSVDeTFz",
        "outputId": "6d9ffbb0-beec-4031-d5b7-4229ec9ffd27"
      },
      "outputs": [
        {
          "data": {
            "image/png": "[encoded data removed]",
            "text/plain": [
              "<Figure size 432x288 with 1 Axes>"
            ]
          },
          "metadata": {
            "needs_background": "light"
          },
          "output_type": "display_data"
        }
      ],
      "source": [
        "data_train.plot(kind='box')\n",
        "plt.show()"
      ]
    },
    {
      "cell_type": "code",
      "execution_count": 10,
      "metadata": {
        "colab": {
          "base_uri": "https://localhost:8080/",
          "height": 300
        },
        "id": "5WrlZSc8rfbf",
        "outputId": "1f730b47-10aa-4605-ac80-32db65446aef"
      },
      "outputs": [
        {
          "data": {
            "text/html": [
              "<div>\n",
              "<style scoped>\n",
              "    .dataframe tbody tr th:only-of-type {\n",
              "        vertical-align: middle;\n",
              "    }\n",
              "\n",
              "    .dataframe tbody tr th {\n",
              "        vertical-align: top;\n",
              "    }\n",
              "\n",
              "    .dataframe thead th {\n",
              "        text-align: right;\n",
              "    }\n",
              "</style>\n",
              "<table border=\"1\" class=\"dataframe\">\n",
              "  <thead>\n",
              "    <tr style=\"text-align: right;\">\n",
              "      <th></th>\n",
              "      <th>adview</th>\n",
              "    </tr>\n",
              "  </thead>\n",
              "  <tbody>\n",
              "    <tr>\n",
              "      <th>count</th>\n",
              "      <td>1.499900e+04</td>\n",
              "    </tr>\n",
              "    <tr>\n",
              "      <th>mean</th>\n",
              "      <td>2.107791e+03</td>\n",
              "    </tr>\n",
              "    <tr>\n",
              "      <th>std</th>\n",
              "      <td>5.237711e+04</td>\n",
              "    </tr>\n",
              "    <tr>\n",
              "      <th>min</th>\n",
              "      <td>1.000000e+00</td>\n",
              "    </tr>\n",
              "    <tr>\n",
              "      <th>25%</th>\n",
              "      <td>1.000000e+00</td>\n",
              "    </tr>\n",
              "    <tr>\n",
              "      <th>50%</th>\n",
              "      <td>2.000000e+00</td>\n",
              "    </tr>\n",
              "    <tr>\n",
              "      <th>75%</th>\n",
              "      <td>6.000000e+00</td>\n",
              "    </tr>\n",
              "    <tr>\n",
              "      <th>max</th>\n",
              "      <td>5.429665e+06</td>\n",
              "    </tr>\n",
              "  </tbody>\n",
              "</table>\n",
              "</div>"
            ],
            "text/plain": [
              "             adview\n",
              "count  1.499900e+04\n",
              "mean   2.107791e+03\n",
              "std    5.237711e+04\n",
              "min    1.000000e+00\n",
              "25%    1.000000e+00\n",
              "50%    2.000000e+00\n",
              "75%    6.000000e+00\n",
              "max    5.429665e+06"
            ]
          },
          "execution_count": 10,
          "metadata": {},
          "output_type": "execute_result"
        }
      ],
      "source": [
        "data_train.describe()"
      ]
    },
    {
      "cell_type": "code",
      "execution_count": 11,
      "metadata": {
        "colab": {
          "base_uri": "https://localhost:8080/",
          "height": 206
        },
        "id": "3LxgHaUptHC_",
        "outputId": "8af38f04-d508-49cd-aba8-9136925fb8cf"
      },
      "outputs": [
        {
          "data": {
            "text/html": [
              "<div>\n",
              "<style scoped>\n",
              "    .dataframe tbody tr th:only-of-type {\n",
              "        vertical-align: middle;\n",
              "    }\n",
              "\n",
              "    .dataframe tbody tr th {\n",
              "        vertical-align: top;\n",
              "    }\n",
              "\n",
              "    .dataframe thead th {\n",
              "        text-align: right;\n",
              "    }\n",
              "</style>\n",
              "<table border=\"1\" class=\"dataframe\">\n",
              "  <thead>\n",
              "    <tr style=\"text-align: right;\">\n",
              "      <th></th>\n",
              "      <th>vidid</th>\n",
              "      <th>adview</th>\n",
              "      <th>views</th>\n",
              "      <th>likes</th>\n",
              "      <th>dislikes</th>\n",
              "      <th>comment</th>\n",
              "      <th>published</th>\n",
              "      <th>duration</th>\n",
              "      <th>category</th>\n",
              "    </tr>\n",
              "  </thead>\n",
              "  <tbody>\n",
              "    <tr>\n",
              "      <th>0</th>\n",
              "      <td>VID_18655</td>\n",
              "      <td>40</td>\n",
              "      <td>1031602</td>\n",
              "      <td>8523</td>\n",
              "      <td>363</td>\n",
              "      <td>1095</td>\n",
              "      <td>2016-09-14</td>\n",
              "      <td>PT7M37S</td>\n",
              "      <td>F</td>\n",
              "    </tr>\n",
              "    <tr>\n",
              "      <th>1</th>\n",
              "      <td>VID_14135</td>\n",
              "      <td>2</td>\n",
              "      <td>1707</td>\n",
              "      <td>56</td>\n",
              "      <td>2</td>\n",
              "      <td>6</td>\n",
              "      <td>2016-10-01</td>\n",
              "      <td>PT9M30S</td>\n",
              "      <td>D</td>\n",
              "    </tr>\n",
              "    <tr>\n",
              "      <th>2</th>\n",
              "      <td>VID_2187</td>\n",
              "      <td>1</td>\n",
              "      <td>2023</td>\n",
              "      <td>25</td>\n",
              "      <td>0</td>\n",
              "      <td>2</td>\n",
              "      <td>2016-07-02</td>\n",
              "      <td>PT2M16S</td>\n",
              "      <td>C</td>\n",
              "    </tr>\n",
              "    <tr>\n",
              "      <th>3</th>\n",
              "      <td>VID_23096</td>\n",
              "      <td>6</td>\n",
              "      <td>620860</td>\n",
              "      <td>777</td>\n",
              "      <td>161</td>\n",
              "      <td>153</td>\n",
              "      <td>2016-07-27</td>\n",
              "      <td>PT4M22S</td>\n",
              "      <td>H</td>\n",
              "    </tr>\n",
              "    <tr>\n",
              "      <th>4</th>\n",
              "      <td>VID_10175</td>\n",
              "      <td>1</td>\n",
              "      <td>666</td>\n",
              "      <td>1</td>\n",
              "      <td>0</td>\n",
              "      <td>0</td>\n",
              "      <td>2016-06-29</td>\n",
              "      <td>PT31S</td>\n",
              "      <td>D</td>\n",
              "    </tr>\n",
              "  </tbody>\n",
              "</table>\n",
              "</div>"
            ],
            "text/plain": [
              "       vidid  adview    views likes dislikes comment   published duration  \\\n",
              "0  VID_18655      40  1031602  8523      363    1095  2016-09-14  PT7M37S   \n",
              "1  VID_14135       2     1707    56        2       6  2016-10-01  PT9M30S   \n",
              "2   VID_2187       1     2023    25        0       2  2016-07-02  PT2M16S   \n",
              "3  VID_23096       6   620860   777      161     153  2016-07-27  PT4M22S   \n",
              "4  VID_10175       1      666     1        0       0  2016-06-29    PT31S   \n",
              "\n",
              "  category  \n",
              "0        F  \n",
              "1        D  \n",
              "2        C  \n",
              "3        H  \n",
              "4        D  "
            ]
          },
          "execution_count": 11,
          "metadata": {},
          "output_type": "execute_result"
        }
      ],
      "source": [
        "# Removing character \"F\" present in data\n",
        "data_train=data_train[data_train.views!='F']\n",
        "data_train=data_train[data_train.likes!='F']\n",
        "data_train=data_train[data_train.dislikes!='F']\n",
        "data_train=data_train[data_train.comment!='F']\n",
        "data_train.head()"
      ]
    },
    {
      "cell_type": "code",
      "execution_count": 12,
      "metadata": {
        "colab": {
          "base_uri": "https://localhost:8080/"
        },
        "id": "PVTpkmlxttUk",
        "outputId": "f1115cb2-729b-4bf6-dfba-237b120ad522"
      },
      "outputs": [
        {
          "data": {
            "text/plain": [
              "vidid        object\n",
              "adview        int64\n",
              "views        object\n",
              "likes        object\n",
              "dislikes     object\n",
              "comment      object\n",
              "published    object\n",
              "duration     object\n",
              "category     object\n",
              "dtype: object"
            ]
          },
          "execution_count": 12,
          "metadata": {},
          "output_type": "execute_result"
        }
      ],
      "source": [
        "data_train.dtypes"
      ]
    },
    {
      "cell_type": "code",
      "execution_count": 13,
      "metadata": {
        "id": "GZr4UN9v5Wrp"
      },
      "outputs": [],
      "source": [
        "#Convert values to integers for views, likes, comments, dislikes and adview\n",
        "data_train[\"views\"] = pd.to_numeric(data_train[\"views\"])\n",
        "data_train[\"comment\"] = pd.to_numeric(data_train[\"comment\"])\n",
        "data_train[\"likes\"] = pd.to_numeric(data_train[\"likes\"])\n",
        "data_train[\"dislikes\"] = pd.to_numeric(data_train[\"dislikes\"])\n",
        "data_train[\"adview\"]=pd.to_numeric(data_train[\"adview\"])\n",
        "column_vidid=data_train['vidid']"
      ]
    },
    {
      "cell_type": "code",
      "execution_count": 14,
      "metadata": {
        "colab": {
          "base_uri": "https://localhost:8080/"
        },
        "id": "JNWV089W5bUV",
        "outputId": "bd87b40e-e038-44b3-8815-8c6f2a3eb868"
      },
      "outputs": [
        {
          "data": {
            "text/plain": [
              "vidid        object\n",
              "adview        int64\n",
              "views         int64\n",
              "likes         int64\n",
              "dislikes      int64\n",
              "comment       int64\n",
              "published    object\n",
              "duration     object\n",
              "category     object\n",
              "dtype: object"
            ]
          },
          "execution_count": 14,
          "metadata": {},
          "output_type": "execute_result"
        }
      ],
      "source": [
        "data_train.dtypes"
      ]
    },
    {
      "cell_type": "code",
      "execution_count": 15,
      "metadata": {
        "colab": {
          "base_uri": "https://localhost:8080/",
          "height": 206
        },
        "id": "GVBckhul5doP",
        "outputId": "7008aa6f-6913-4cbc-9380-57d2f5d3e7ea"
      },
      "outputs": [
        {
          "data": {
            "text/html": [
              "<div>\n",
              "<style scoped>\n",
              "    .dataframe tbody tr th:only-of-type {\n",
              "        vertical-align: middle;\n",
              "    }\n",
              "\n",
              "    .dataframe tbody tr th {\n",
              "        vertical-align: top;\n",
              "    }\n",
              "\n",
              "    .dataframe thead th {\n",
              "        text-align: right;\n",
              "    }\n",
              "</style>\n",
              "<table border=\"1\" class=\"dataframe\">\n",
              "  <thead>\n",
              "    <tr style=\"text-align: right;\">\n",
              "      <th></th>\n",
              "      <th>vidid</th>\n",
              "      <th>adview</th>\n",
              "      <th>views</th>\n",
              "      <th>likes</th>\n",
              "      <th>dislikes</th>\n",
              "      <th>comment</th>\n",
              "      <th>published</th>\n",
              "      <th>duration</th>\n",
              "      <th>category_B</th>\n",
              "      <th>category_C</th>\n",
              "      <th>category_D</th>\n",
              "      <th>category_E</th>\n",
              "      <th>category_F</th>\n",
              "      <th>category_G</th>\n",
              "      <th>category_H</th>\n",
              "    </tr>\n",
              "  </thead>\n",
              "  <tbody>\n",
              "    <tr>\n",
              "      <th>0</th>\n",
              "      <td>VID_18655</td>\n",
              "      <td>40</td>\n",
              "      <td>1031602</td>\n",
              "      <td>8523</td>\n",
              "      <td>363</td>\n",
              "      <td>1095</td>\n",
              "      <td>2016-09-14</td>\n",
              "      <td>PT7M37S</td>\n",
              "      <td>0</td>\n",
              "      <td>0</td>\n",
              "      <td>0</td>\n",
              "      <td>0</td>\n",
              "      <td>1</td>\n",
              "      <td>0</td>\n",
              "      <td>0</td>\n",
              "    </tr>\n",
              "    <tr>\n",
              "      <th>1</th>\n",
              "      <td>VID_14135</td>\n",
              "      <td>2</td>\n",
              "      <td>1707</td>\n",
              "      <td>56</td>\n",
              "      <td>2</td>\n",
              "      <td>6</td>\n",
              "      <td>2016-10-01</td>\n",
              "      <td>PT9M30S</td>\n",
              "      <td>0</td>\n",
              "      <td>0</td>\n",
              "      <td>1</td>\n",
              "      <td>0</td>\n",
              "      <td>0</td>\n",
              "      <td>0</td>\n",
              "      <td>0</td>\n",
              "    </tr>\n",
              "    <tr>\n",
              "      <th>2</th>\n",
              "      <td>VID_2187</td>\n",
              "      <td>1</td>\n",
              "      <td>2023</td>\n",
              "      <td>25</td>\n",
              "      <td>0</td>\n",
              "      <td>2</td>\n",
              "      <td>2016-07-02</td>\n",
              "      <td>PT2M16S</td>\n",
              "      <td>0</td>\n",
              "      <td>1</td>\n",
              "      <td>0</td>\n",
              "      <td>0</td>\n",
              "      <td>0</td>\n",
              "      <td>0</td>\n",
              "      <td>0</td>\n",
              "    </tr>\n",
              "    <tr>\n",
              "      <th>3</th>\n",
              "      <td>VID_23096</td>\n",
              "      <td>6</td>\n",
              "      <td>620860</td>\n",
              "      <td>777</td>\n",
              "      <td>161</td>\n",
              "      <td>153</td>\n",
              "      <td>2016-07-27</td>\n",
              "      <td>PT4M22S</td>\n",
              "      <td>0</td>\n",
              "      <td>0</td>\n",
              "      <td>0</td>\n",
              "      <td>0</td>\n",
              "      <td>0</td>\n",
              "      <td>0</td>\n",
              "      <td>1</td>\n",
              "    </tr>\n",
              "    <tr>\n",
              "      <th>4</th>\n",
              "      <td>VID_10175</td>\n",
              "      <td>1</td>\n",
              "      <td>666</td>\n",
              "      <td>1</td>\n",
              "      <td>0</td>\n",
              "      <td>0</td>\n",
              "      <td>2016-06-29</td>\n",
              "      <td>PT31S</td>\n",
              "      <td>0</td>\n",
              "      <td>0</td>\n",
              "      <td>1</td>\n",
              "      <td>0</td>\n",
              "      <td>0</td>\n",
              "      <td>0</td>\n",
              "      <td>0</td>\n",
              "    </tr>\n",
              "  </tbody>\n",
              "</table>\n",
              "</div>"
            ],
            "text/plain": [
              "       vidid  adview    views  likes  dislikes  comment   published duration  \\\n",
              "0  VID_18655      40  1031602   8523       363     1095  2016-09-14  PT7M37S   \n",
              "1  VID_14135       2     1707     56         2        6  2016-10-01  PT9M30S   \n",
              "2   VID_2187       1     2023     25         0        2  2016-07-02  PT2M16S   \n",
              "3  VID_23096       6   620860    777       161      153  2016-07-27  PT4M22S   \n",
              "4  VID_10175       1      666      1         0        0  2016-06-29    PT31S   \n",
              "\n",
              "   category_B  category_C  category_D  category_E  category_F  category_G  \\\n",
              "0           0           0           0           0           1           0   \n",
              "1           0           0           1           0           0           0   \n",
              "2           0           1           0           0           0           0   \n",
              "3           0           0           0           0           0           0   \n",
              "4           0           0           1           0           0           0   \n",
              "\n",
              "   category_H  \n",
              "0           0  \n",
              "1           0  \n",
              "2           0  \n",
              "3           1  \n",
              "4           0  "
            ]
          },
          "execution_count": 15,
          "metadata": {},
          "output_type": "execute_result"
        }
      ],
      "source": [
        "data_train = pd.get_dummies(data_train,columns = ['category'],drop_first=True)\n",
        "data_train.head()"
      ]
    },
    {
      "cell_type": "code",
      "execution_count": 16,
      "metadata": {
        "id": "sfqDZqom64Bq"
      },
      "outputs": [],
      "source": [
        "# Convert Time_in_sec for duration\n",
        "import datetime\n",
        "import time\n",
        "def checki(x):\n",
        "    y = x[2:]\n",
        "    h = ''\n",
        "    m = ''\n",
        "    s = ''\n",
        "    mm = ''\n",
        "    P = ['H','M','S']\n",
        "    for i in y:\n",
        "        if i not in P:\n",
        "            mm+=i\n",
        "        else:\n",
        "            if(i==\"H\"):\n",
        "                h = mm\n",
        "                mm = ''\n",
        "            elif(i == \"M\"):\n",
        "                m = mm\n",
        "                mm = ''\n",
        "            else:\n",
        "                s = mm\n",
        "                mm = ''\n",
        "    if(h==''):\n",
        "        h = '00'\n",
        "    if(m == ''):\n",
        "        m = '00'\n",
        "    if(s==''):\n",
        "        s='00'\n",
        "    bp = h+':'+m+':'+s\n",
        "    return bp\n",
        "train=pd.read_csv(\"train.csv\")\n",
        "mp = pd.read_csv(\"train.csv\")[\"duration\"]\n",
        "time = mp.apply(checki)"
      ]
    },
    {
      "cell_type": "code",
      "execution_count": 17,
      "metadata": {
        "colab": {
          "base_uri": "https://localhost:8080/",
          "height": 206
        },
        "id": "RPkT8SWe8tEY",
        "outputId": "23515caf-bc49-4e85-c1f6-6d4415f7dbe0"
      },
      "outputs": [
        {
          "data": {
            "text/html": [
              "<div>\n",
              "<style scoped>\n",
              "    .dataframe tbody tr th:only-of-type {\n",
              "        vertical-align: middle;\n",
              "    }\n",
              "\n",
              "    .dataframe tbody tr th {\n",
              "        vertical-align: top;\n",
              "    }\n",
              "\n",
              "    .dataframe thead th {\n",
              "        text-align: right;\n",
              "    }\n",
              "</style>\n",
              "<table border=\"1\" class=\"dataframe\">\n",
              "  <thead>\n",
              "    <tr style=\"text-align: right;\">\n",
              "      <th></th>\n",
              "      <th>vidid</th>\n",
              "      <th>adview</th>\n",
              "      <th>views</th>\n",
              "      <th>likes</th>\n",
              "      <th>dislikes</th>\n",
              "      <th>comment</th>\n",
              "      <th>published</th>\n",
              "      <th>duration</th>\n",
              "      <th>category_B</th>\n",
              "      <th>category_C</th>\n",
              "      <th>category_D</th>\n",
              "      <th>category_E</th>\n",
              "      <th>category_F</th>\n",
              "      <th>category_G</th>\n",
              "      <th>category_H</th>\n",
              "    </tr>\n",
              "  </thead>\n",
              "  <tbody>\n",
              "    <tr>\n",
              "      <th>0</th>\n",
              "      <td>VID_18655</td>\n",
              "      <td>40</td>\n",
              "      <td>1031602</td>\n",
              "      <td>8523</td>\n",
              "      <td>363</td>\n",
              "      <td>1095</td>\n",
              "      <td>2016-09-14</td>\n",
              "      <td>457</td>\n",
              "      <td>0</td>\n",
              "      <td>0</td>\n",
              "      <td>0</td>\n",
              "      <td>0</td>\n",
              "      <td>1</td>\n",
              "      <td>0</td>\n",
              "      <td>0</td>\n",
              "    </tr>\n",
              "    <tr>\n",
              "      <th>1</th>\n",
              "      <td>VID_14135</td>\n",
              "      <td>2</td>\n",
              "      <td>1707</td>\n",
              "      <td>56</td>\n",
              "      <td>2</td>\n",
              "      <td>6</td>\n",
              "      <td>2016-10-01</td>\n",
              "      <td>570</td>\n",
              "      <td>0</td>\n",
              "      <td>0</td>\n",
              "      <td>1</td>\n",
              "      <td>0</td>\n",
              "      <td>0</td>\n",
              "      <td>0</td>\n",
              "      <td>0</td>\n",
              "    </tr>\n",
              "    <tr>\n",
              "      <th>2</th>\n",
              "      <td>VID_2187</td>\n",
              "      <td>1</td>\n",
              "      <td>2023</td>\n",
              "      <td>25</td>\n",
              "      <td>0</td>\n",
              "      <td>2</td>\n",
              "      <td>2016-07-02</td>\n",
              "      <td>136</td>\n",
              "      <td>0</td>\n",
              "      <td>1</td>\n",
              "      <td>0</td>\n",
              "      <td>0</td>\n",
              "      <td>0</td>\n",
              "      <td>0</td>\n",
              "      <td>0</td>\n",
              "    </tr>\n",
              "    <tr>\n",
              "      <th>3</th>\n",
              "      <td>VID_23096</td>\n",
              "      <td>6</td>\n",
              "      <td>620860</td>\n",
              "      <td>777</td>\n",
              "      <td>161</td>\n",
              "      <td>153</td>\n",
              "      <td>2016-07-27</td>\n",
              "      <td>262</td>\n",
              "      <td>0</td>\n",
              "      <td>0</td>\n",
              "      <td>0</td>\n",
              "      <td>0</td>\n",
              "      <td>0</td>\n",
              "      <td>0</td>\n",
              "      <td>1</td>\n",
              "    </tr>\n",
              "    <tr>\n",
              "      <th>4</th>\n",
              "      <td>VID_10175</td>\n",
              "      <td>1</td>\n",
              "      <td>666</td>\n",
              "      <td>1</td>\n",
              "      <td>0</td>\n",
              "      <td>0</td>\n",
              "      <td>2016-06-29</td>\n",
              "      <td>31</td>\n",
              "      <td>0</td>\n",
              "      <td>0</td>\n",
              "      <td>1</td>\n",
              "      <td>0</td>\n",
              "      <td>0</td>\n",
              "      <td>0</td>\n",
              "      <td>0</td>\n",
              "    </tr>\n",
              "  </tbody>\n",
              "</table>\n",
              "</div>"
            ],
            "text/plain": [
              "       vidid  adview    views  likes  dislikes  comment   published  duration  \\\n",
              "0  VID_18655      40  1031602   8523       363     1095  2016-09-14       457   \n",
              "1  VID_14135       2     1707     56         2        6  2016-10-01       570   \n",
              "2   VID_2187       1     2023     25         0        2  2016-07-02       136   \n",
              "3  VID_23096       6   620860    777       161      153  2016-07-27       262   \n",
              "4  VID_10175       1      666      1         0        0  2016-06-29        31   \n",
              "\n",
              "   category_B  category_C  category_D  category_E  category_F  category_G  \\\n",
              "0           0           0           0           0           1           0   \n",
              "1           0           0           1           0           0           0   \n",
              "2           0           1           0           0           0           0   \n",
              "3           0           0           0           0           0           0   \n",
              "4           0           0           1           0           0           0   \n",
              "\n",
              "   category_H  \n",
              "0           0  \n",
              "1           0  \n",
              "2           0  \n",
              "3           1  \n",
              "4           0  "
            ]
          },
          "execution_count": 17,
          "metadata": {},
          "output_type": "execute_result"
        }
      ],
      "source": [
        "def func_sec(time_string):\n",
        "    h, m, s = time_string.split(':')\n",
        "    return int(h) * 3600 + int(m) * 60 + int(s)\n",
        "time1=time.apply(func_sec)\n",
        "data_train[\"duration\"]=time1\n",
        "data_train.head()"
      ]
    },
    {
      "cell_type": "code",
      "execution_count": 18,
      "metadata": {
        "id": "K41ZfJj3Oe4r"
      },
      "outputs": [],
      "source": [
        "data_train[\"published_year\"] = pd.to_datetime(data_train.published,).dt.year\n",
        "data_train[\"published_month\"] = pd.to_datetime(data_train.published,).dt.month\n",
        "data_train[\"published_day\"] = pd.to_datetime(data_train.published,).dt.day"
      ]
    },
    {
      "cell_type": "code",
      "execution_count": 19,
      "metadata": {
        "id": "7AHnorDHPtaR"
      },
      "outputs": [],
      "source": [
        "data_train.drop([\"published\"], axis = 1, inplace = True)"
      ]
    },
    {
      "cell_type": "code",
      "execution_count": 20,
      "metadata": {
        "colab": {
          "base_uri": "https://localhost:8080/",
          "height": 270
        },
        "id": "knGHn_RbPtcu",
        "outputId": "bcc3c670-bb8d-4ebc-c1fd-9cc7c71f235c"
      },
      "outputs": [
        {
          "data": {
            "text/html": [
              "<div>\n",
              "<style scoped>\n",
              "    .dataframe tbody tr th:only-of-type {\n",
              "        vertical-align: middle;\n",
              "    }\n",
              "\n",
              "    .dataframe tbody tr th {\n",
              "        vertical-align: top;\n",
              "    }\n",
              "\n",
              "    .dataframe thead th {\n",
              "        text-align: right;\n",
              "    }\n",
              "</style>\n",
              "<table border=\"1\" class=\"dataframe\">\n",
              "  <thead>\n",
              "    <tr style=\"text-align: right;\">\n",
              "      <th></th>\n",
              "      <th>vidid</th>\n",
              "      <th>adview</th>\n",
              "      <th>views</th>\n",
              "      <th>likes</th>\n",
              "      <th>dislikes</th>\n",
              "      <th>comment</th>\n",
              "      <th>duration</th>\n",
              "      <th>category_B</th>\n",
              "      <th>category_C</th>\n",
              "      <th>category_D</th>\n",
              "      <th>category_E</th>\n",
              "      <th>category_F</th>\n",
              "      <th>category_G</th>\n",
              "      <th>category_H</th>\n",
              "      <th>published_year</th>\n",
              "      <th>published_month</th>\n",
              "      <th>published_day</th>\n",
              "    </tr>\n",
              "  </thead>\n",
              "  <tbody>\n",
              "    <tr>\n",
              "      <th>0</th>\n",
              "      <td>VID_18655</td>\n",
              "      <td>40</td>\n",
              "      <td>1031602</td>\n",
              "      <td>8523</td>\n",
              "      <td>363</td>\n",
              "      <td>1095</td>\n",
              "      <td>457</td>\n",
              "      <td>0</td>\n",
              "      <td>0</td>\n",
              "      <td>0</td>\n",
              "      <td>0</td>\n",
              "      <td>1</td>\n",
              "      <td>0</td>\n",
              "      <td>0</td>\n",
              "      <td>2016</td>\n",
              "      <td>9</td>\n",
              "      <td>14</td>\n",
              "    </tr>\n",
              "    <tr>\n",
              "      <th>1</th>\n",
              "      <td>VID_14135</td>\n",
              "      <td>2</td>\n",
              "      <td>1707</td>\n",
              "      <td>56</td>\n",
              "      <td>2</td>\n",
              "      <td>6</td>\n",
              "      <td>570</td>\n",
              "      <td>0</td>\n",
              "      <td>0</td>\n",
              "      <td>1</td>\n",
              "      <td>0</td>\n",
              "      <td>0</td>\n",
              "      <td>0</td>\n",
              "      <td>0</td>\n",
              "      <td>2016</td>\n",
              "      <td>10</td>\n",
              "      <td>1</td>\n",
              "    </tr>\n",
              "    <tr>\n",
              "      <th>2</th>\n",
              "      <td>VID_2187</td>\n",
              "      <td>1</td>\n",
              "      <td>2023</td>\n",
              "      <td>25</td>\n",
              "      <td>0</td>\n",
              "      <td>2</td>\n",
              "      <td>136</td>\n",
              "      <td>0</td>\n",
              "      <td>1</td>\n",
              "      <td>0</td>\n",
              "      <td>0</td>\n",
              "      <td>0</td>\n",
              "      <td>0</td>\n",
              "      <td>0</td>\n",
              "      <td>2016</td>\n",
              "      <td>7</td>\n",
              "      <td>2</td>\n",
              "    </tr>\n",
              "    <tr>\n",
              "      <th>3</th>\n",
              "      <td>VID_23096</td>\n",
              "      <td>6</td>\n",
              "      <td>620860</td>\n",
              "      <td>777</td>\n",
              "      <td>161</td>\n",
              "      <td>153</td>\n",
              "      <td>262</td>\n",
              "      <td>0</td>\n",
              "      <td>0</td>\n",
              "      <td>0</td>\n",
              "      <td>0</td>\n",
              "      <td>0</td>\n",
              "      <td>0</td>\n",
              "      <td>1</td>\n",
              "      <td>2016</td>\n",
              "      <td>7</td>\n",
              "      <td>27</td>\n",
              "    </tr>\n",
              "    <tr>\n",
              "      <th>4</th>\n",
              "      <td>VID_10175</td>\n",
              "      <td>1</td>\n",
              "      <td>666</td>\n",
              "      <td>1</td>\n",
              "      <td>0</td>\n",
              "      <td>0</td>\n",
              "      <td>31</td>\n",
              "      <td>0</td>\n",
              "      <td>0</td>\n",
              "      <td>1</td>\n",
              "      <td>0</td>\n",
              "      <td>0</td>\n",
              "      <td>0</td>\n",
              "      <td>0</td>\n",
              "      <td>2016</td>\n",
              "      <td>6</td>\n",
              "      <td>29</td>\n",
              "    </tr>\n",
              "  </tbody>\n",
              "</table>\n",
              "</div>"
            ],
            "text/plain": [
              "       vidid  adview    views  likes  dislikes  comment  duration  category_B  \\\n",
              "0  VID_18655      40  1031602   8523       363     1095       457           0   \n",
              "1  VID_14135       2     1707     56         2        6       570           0   \n",
              "2   VID_2187       1     2023     25         0        2       136           0   \n",
              "3  VID_23096       6   620860    777       161      153       262           0   \n",
              "4  VID_10175       1      666      1         0        0        31           0   \n",
              "\n",
              "   category_C  category_D  category_E  category_F  category_G  category_H  \\\n",
              "0           0           0           0           1           0           0   \n",
              "1           0           1           0           0           0           0   \n",
              "2           1           0           0           0           0           0   \n",
              "3           0           0           0           0           0           1   \n",
              "4           0           1           0           0           0           0   \n",
              "\n",
              "   published_year  published_month  published_day  \n",
              "0            2016                9             14  \n",
              "1            2016               10              1  \n",
              "2            2016                7              2  \n",
              "3            2016                7             27  \n",
              "4            2016                6             29  "
            ]
          },
          "execution_count": 20,
          "metadata": {},
          "output_type": "execute_result"
        }
      ],
      "source": [
        "data_train.head()"
      ]
    },
    {
      "cell_type": "code",
      "execution_count": null,
      "metadata": {
        "id": "4chRO2dcPtfg"
      },
      "outputs": [],
      "source": []
    },
    {
      "cell_type": "code",
      "execution_count": 21,
      "metadata": {
        "colab": {
          "base_uri": "https://localhost:8080/",
          "height": 280
        },
        "id": "sCiWzECXq4O9",
        "outputId": "5b409f0c-367b-42f8-a021-076cc1b0a29c"
      },
      "outputs": [
        {
          "data": {
            "image/png": "[encoded data removed]",
            "text/plain": [
              "<Figure size 432x288 with 1 Axes>"
            ]
          },
          "metadata": {},
          "output_type": "display_data"
        }
      ],
      "source": [
        "\n",
        "sns.set_theme(style=\"whitegrid\")\n",
        "\n",
        "ax = sns.boxplot(data=data_train)"
      ]
    },
    {
      "cell_type": "code",
      "execution_count": 22,
      "metadata": {
        "colab": {
          "base_uri": "https://localhost:8080/",
          "height": 279
        },
        "id": "Rf-WxPmzKsag",
        "outputId": "7d92bff0-e1bd-4783-b0dc-26c432e9b7c4"
      },
      "outputs": [
        {
          "data": {
            "image/png": "[encoded data removed]",
            "text/plain": [
              "<Figure size 432x288 with 1 Axes>"
            ]
          },
          "metadata": {},
          "output_type": "display_data"
        }
      ],
      "source": [
        "data_train['adview'].plot(kind='box')\n",
        "plt.show()"
      ]
    },
    {
      "cell_type": "code",
      "execution_count": 23,
      "metadata": {
        "colab": {
          "base_uri": "https://localhost:8080/",
          "height": 340
        },
        "id": "Qb74SH84q4SD",
        "outputId": "21dc03c6-3cd0-463f-b020-8823e0ff9bb7"
      },
      "outputs": [
        {
          "name": "stderr",
          "output_type": "stream",
          "text": [
            "c:\\Users\\debna\\anaconda3\\lib\\site-packages\\seaborn\\_decorators.py:36: FutureWarning: Pass the following variable as a keyword arg: x. From version 0.12, the only valid positional argument will be `data`, and passing other arguments without an explicit keyword will result in an error or misinterpretation.\n",
            "  warnings.warn(\n"
          ]
        },
        {
          "data": {
            "image/png": "[encoded data removed]",
            "text/plain": [
              "<Figure size 432x288 with 1 Axes>"
            ]
          },
          "metadata": {},
          "output_type": "display_data"
        }
      ],
      "source": [
        "ax = sns.boxplot(data_train['adview'])"
      ]
    },
    {
      "cell_type": "code",
      "execution_count": 24,
      "metadata": {
        "id": "CCUjj7h2KyLG"
      },
      "outputs": [],
      "source": [
        "# Remove videos with adview greater than 2000000 as outlier\n",
        "data_train = data_train[data_train[\"adview\"] <2000000]"
      ]
    },
    {
      "cell_type": "code",
      "execution_count": 25,
      "metadata": {
        "colab": {
          "base_uri": "https://localhost:8080/"
        },
        "id": "LMdolYqHpY1c",
        "outputId": "d0afe84a-f757-4105-89cd-909405799cf7"
      },
      "outputs": [
        {
          "data": {
            "text/plain": [
              "(14636, 17)"
            ]
          },
          "execution_count": 25,
          "metadata": {},
          "output_type": "execute_result"
        }
      ],
      "source": [
        "data_train.shape "
      ]
    },
    {
      "cell_type": "code",
      "execution_count": 26,
      "metadata": {
        "colab": {
          "base_uri": "https://localhost:8080/",
          "height": 270
        },
        "id": "Kb36RdoAvIzY",
        "outputId": "09b00e53-9dbb-4c30-c7e2-16bcbc9941f9"
      },
      "outputs": [
        {
          "data": {
            "text/html": [
              "<div>\n",
              "<style scoped>\n",
              "    .dataframe tbody tr th:only-of-type {\n",
              "        vertical-align: middle;\n",
              "    }\n",
              "\n",
              "    .dataframe tbody tr th {\n",
              "        vertical-align: top;\n",
              "    }\n",
              "\n",
              "    .dataframe thead th {\n",
              "        text-align: right;\n",
              "    }\n",
              "</style>\n",
              "<table border=\"1\" class=\"dataframe\">\n",
              "  <thead>\n",
              "    <tr style=\"text-align: right;\">\n",
              "      <th></th>\n",
              "      <th>vidid</th>\n",
              "      <th>adview</th>\n",
              "      <th>views</th>\n",
              "      <th>likes</th>\n",
              "      <th>dislikes</th>\n",
              "      <th>comment</th>\n",
              "      <th>duration</th>\n",
              "      <th>category_B</th>\n",
              "      <th>category_C</th>\n",
              "      <th>category_D</th>\n",
              "      <th>category_E</th>\n",
              "      <th>category_F</th>\n",
              "      <th>category_G</th>\n",
              "      <th>category_H</th>\n",
              "      <th>published_year</th>\n",
              "      <th>published_month</th>\n",
              "      <th>published_day</th>\n",
              "    </tr>\n",
              "  </thead>\n",
              "  <tbody>\n",
              "    <tr>\n",
              "      <th>0</th>\n",
              "      <td>VID_18655</td>\n",
              "      <td>40</td>\n",
              "      <td>1031602</td>\n",
              "      <td>8523</td>\n",
              "      <td>363</td>\n",
              "      <td>1095</td>\n",
              "      <td>457</td>\n",
              "      <td>0</td>\n",
              "      <td>0</td>\n",
              "      <td>0</td>\n",
              "      <td>0</td>\n",
              "      <td>1</td>\n",
              "      <td>0</td>\n",
              "      <td>0</td>\n",
              "      <td>2016</td>\n",
              "      <td>9</td>\n",
              "      <td>14</td>\n",
              "    </tr>\n",
              "    <tr>\n",
              "      <th>1</th>\n",
              "      <td>VID_14135</td>\n",
              "      <td>2</td>\n",
              "      <td>1707</td>\n",
              "      <td>56</td>\n",
              "      <td>2</td>\n",
              "      <td>6</td>\n",
              "      <td>570</td>\n",
              "      <td>0</td>\n",
              "      <td>0</td>\n",
              "      <td>1</td>\n",
              "      <td>0</td>\n",
              "      <td>0</td>\n",
              "      <td>0</td>\n",
              "      <td>0</td>\n",
              "      <td>2016</td>\n",
              "      <td>10</td>\n",
              "      <td>1</td>\n",
              "    </tr>\n",
              "    <tr>\n",
              "      <th>2</th>\n",
              "      <td>VID_2187</td>\n",
              "      <td>1</td>\n",
              "      <td>2023</td>\n",
              "      <td>25</td>\n",
              "      <td>0</td>\n",
              "      <td>2</td>\n",
              "      <td>136</td>\n",
              "      <td>0</td>\n",
              "      <td>1</td>\n",
              "      <td>0</td>\n",
              "      <td>0</td>\n",
              "      <td>0</td>\n",
              "      <td>0</td>\n",
              "      <td>0</td>\n",
              "      <td>2016</td>\n",
              "      <td>7</td>\n",
              "      <td>2</td>\n",
              "    </tr>\n",
              "    <tr>\n",
              "      <th>3</th>\n",
              "      <td>VID_23096</td>\n",
              "      <td>6</td>\n",
              "      <td>620860</td>\n",
              "      <td>777</td>\n",
              "      <td>161</td>\n",
              "      <td>153</td>\n",
              "      <td>262</td>\n",
              "      <td>0</td>\n",
              "      <td>0</td>\n",
              "      <td>0</td>\n",
              "      <td>0</td>\n",
              "      <td>0</td>\n",
              "      <td>0</td>\n",
              "      <td>1</td>\n",
              "      <td>2016</td>\n",
              "      <td>7</td>\n",
              "      <td>27</td>\n",
              "    </tr>\n",
              "    <tr>\n",
              "      <th>4</th>\n",
              "      <td>VID_10175</td>\n",
              "      <td>1</td>\n",
              "      <td>666</td>\n",
              "      <td>1</td>\n",
              "      <td>0</td>\n",
              "      <td>0</td>\n",
              "      <td>31</td>\n",
              "      <td>0</td>\n",
              "      <td>0</td>\n",
              "      <td>1</td>\n",
              "      <td>0</td>\n",
              "      <td>0</td>\n",
              "      <td>0</td>\n",
              "      <td>0</td>\n",
              "      <td>2016</td>\n",
              "      <td>6</td>\n",
              "      <td>29</td>\n",
              "    </tr>\n",
              "  </tbody>\n",
              "</table>\n",
              "</div>"
            ],
            "text/plain": [
              "       vidid  adview    views  likes  dislikes  comment  duration  category_B  \\\n",
              "0  VID_18655      40  1031602   8523       363     1095       457           0   \n",
              "1  VID_14135       2     1707     56         2        6       570           0   \n",
              "2   VID_2187       1     2023     25         0        2       136           0   \n",
              "3  VID_23096       6   620860    777       161      153       262           0   \n",
              "4  VID_10175       1      666      1         0        0        31           0   \n",
              "\n",
              "   category_C  category_D  category_E  category_F  category_G  category_H  \\\n",
              "0           0           0           0           1           0           0   \n",
              "1           0           1           0           0           0           0   \n",
              "2           1           0           0           0           0           0   \n",
              "3           0           0           0           0           0           1   \n",
              "4           0           1           0           0           0           0   \n",
              "\n",
              "   published_year  published_month  published_day  \n",
              "0            2016                9             14  \n",
              "1            2016               10              1  \n",
              "2            2016                7              2  \n",
              "3            2016                7             27  \n",
              "4            2016                6             29  "
            ]
          },
          "execution_count": 26,
          "metadata": {},
          "output_type": "execute_result"
        }
      ],
      "source": [
        "data_train.head()"
      ]
    },
    {
      "cell_type": "code",
      "execution_count": 27,
      "metadata": {
        "colab": {
          "base_uri": "https://localhost:8080/"
        },
        "id": "__wUa2k1JRZs",
        "outputId": "8d85ca69-9252-473e-e6a9-998038167986"
      },
      "outputs": [
        {
          "data": {
            "text/plain": [
              "array([40,  2,  1, ...,  4,  1,  1], dtype=int64)"
            ]
          },
          "execution_count": 27,
          "metadata": {},
          "output_type": "execute_result"
        }
      ],
      "source": [
        "data_train.iloc[:,1].values"
      ]
    },
    {
      "cell_type": "code",
      "execution_count": 28,
      "metadata": {
        "colab": {
          "base_uri": "https://localhost:8080/",
          "height": 1000
        },
        "id": "1lZBhxGpNdka",
        "outputId": "066b0f9f-ed6e-4a3e-c18a-ec85a2362515"
      },
      "outputs": [
        {
          "data": {
            "image/png": "[encoded data removed]",
            "text/plain": [
              "<Figure size 1296x1296 with 2 Axes>"
            ]
          },
          "metadata": {},
          "output_type": "display_data"
        }
      ],
      "source": [
        "plt.figure(figsize = (18,18))\n",
        "sns.heatmap(data_train.corr(), annot = True, cmap = \"RdYlGn\")\n",
        "\n",
        "plt.show()"
      ]
    },
    {
      "cell_type": "code",
      "execution_count": 29,
      "metadata": {
        "colab": {
          "base_uri": "https://localhost:8080/"
        },
        "id": "2Xv5mdB-Pp16",
        "outputId": "6a5b4558-5a56-4897-92a3-59431645fcfe"
      },
      "outputs": [
        {
          "data": {
            "text/plain": [
              "Index(['vidid', 'adview', 'views', 'likes', 'dislikes', 'comment', 'duration',\n",
              "       'category_B', 'category_C', 'category_D', 'category_E', 'category_F',\n",
              "       'category_G', 'category_H', 'published_year', 'published_month',\n",
              "       'published_day'],\n",
              "      dtype='object')"
            ]
          },
          "execution_count": 29,
          "metadata": {},
          "output_type": "execute_result"
        }
      ],
      "source": [
        "data_train.columns"
      ]
    },
    {
      "cell_type": "code",
      "execution_count": 30,
      "metadata": {
        "colab": {
          "base_uri": "https://localhost:8080/",
          "height": 270
        },
        "id": "STavKp1P-FqT",
        "outputId": "de57f3da-a51d-4eec-962c-682101524bd3"
      },
      "outputs": [
        {
          "data": {
            "text/html": [
              "<div>\n",
              "<style scoped>\n",
              "    .dataframe tbody tr th:only-of-type {\n",
              "        vertical-align: middle;\n",
              "    }\n",
              "\n",
              "    .dataframe tbody tr th {\n",
              "        vertical-align: top;\n",
              "    }\n",
              "\n",
              "    .dataframe thead th {\n",
              "        text-align: right;\n",
              "    }\n",
              "</style>\n",
              "<table border=\"1\" class=\"dataframe\">\n",
              "  <thead>\n",
              "    <tr style=\"text-align: right;\">\n",
              "      <th></th>\n",
              "      <th>vidid</th>\n",
              "      <th>adview</th>\n",
              "      <th>views</th>\n",
              "      <th>likes</th>\n",
              "      <th>dislikes</th>\n",
              "      <th>comment</th>\n",
              "      <th>duration</th>\n",
              "      <th>category_B</th>\n",
              "      <th>category_C</th>\n",
              "      <th>category_D</th>\n",
              "      <th>category_E</th>\n",
              "      <th>category_F</th>\n",
              "      <th>category_G</th>\n",
              "      <th>category_H</th>\n",
              "      <th>published_year</th>\n",
              "      <th>published_month</th>\n",
              "      <th>published_day</th>\n",
              "    </tr>\n",
              "  </thead>\n",
              "  <tbody>\n",
              "    <tr>\n",
              "      <th>0</th>\n",
              "      <td>VID_18655</td>\n",
              "      <td>40</td>\n",
              "      <td>1031602</td>\n",
              "      <td>8523</td>\n",
              "      <td>363</td>\n",
              "      <td>1095</td>\n",
              "      <td>457</td>\n",
              "      <td>0</td>\n",
              "      <td>0</td>\n",
              "      <td>0</td>\n",
              "      <td>0</td>\n",
              "      <td>1</td>\n",
              "      <td>0</td>\n",
              "      <td>0</td>\n",
              "      <td>2016</td>\n",
              "      <td>9</td>\n",
              "      <td>14</td>\n",
              "    </tr>\n",
              "    <tr>\n",
              "      <th>1</th>\n",
              "      <td>VID_14135</td>\n",
              "      <td>2</td>\n",
              "      <td>1707</td>\n",
              "      <td>56</td>\n",
              "      <td>2</td>\n",
              "      <td>6</td>\n",
              "      <td>570</td>\n",
              "      <td>0</td>\n",
              "      <td>0</td>\n",
              "      <td>1</td>\n",
              "      <td>0</td>\n",
              "      <td>0</td>\n",
              "      <td>0</td>\n",
              "      <td>0</td>\n",
              "      <td>2016</td>\n",
              "      <td>10</td>\n",
              "      <td>1</td>\n",
              "    </tr>\n",
              "    <tr>\n",
              "      <th>2</th>\n",
              "      <td>VID_2187</td>\n",
              "      <td>1</td>\n",
              "      <td>2023</td>\n",
              "      <td>25</td>\n",
              "      <td>0</td>\n",
              "      <td>2</td>\n",
              "      <td>136</td>\n",
              "      <td>0</td>\n",
              "      <td>1</td>\n",
              "      <td>0</td>\n",
              "      <td>0</td>\n",
              "      <td>0</td>\n",
              "      <td>0</td>\n",
              "      <td>0</td>\n",
              "      <td>2016</td>\n",
              "      <td>7</td>\n",
              "      <td>2</td>\n",
              "    </tr>\n",
              "    <tr>\n",
              "      <th>3</th>\n",
              "      <td>VID_23096</td>\n",
              "      <td>6</td>\n",
              "      <td>620860</td>\n",
              "      <td>777</td>\n",
              "      <td>161</td>\n",
              "      <td>153</td>\n",
              "      <td>262</td>\n",
              "      <td>0</td>\n",
              "      <td>0</td>\n",
              "      <td>0</td>\n",
              "      <td>0</td>\n",
              "      <td>0</td>\n",
              "      <td>0</td>\n",
              "      <td>1</td>\n",
              "      <td>2016</td>\n",
              "      <td>7</td>\n",
              "      <td>27</td>\n",
              "    </tr>\n",
              "    <tr>\n",
              "      <th>4</th>\n",
              "      <td>VID_10175</td>\n",
              "      <td>1</td>\n",
              "      <td>666</td>\n",
              "      <td>1</td>\n",
              "      <td>0</td>\n",
              "      <td>0</td>\n",
              "      <td>31</td>\n",
              "      <td>0</td>\n",
              "      <td>0</td>\n",
              "      <td>1</td>\n",
              "      <td>0</td>\n",
              "      <td>0</td>\n",
              "      <td>0</td>\n",
              "      <td>0</td>\n",
              "      <td>2016</td>\n",
              "      <td>6</td>\n",
              "      <td>29</td>\n",
              "    </tr>\n",
              "  </tbody>\n",
              "</table>\n",
              "</div>"
            ],
            "text/plain": [
              "       vidid  adview    views  likes  dislikes  comment  duration  category_B  \\\n",
              "0  VID_18655      40  1031602   8523       363     1095       457           0   \n",
              "1  VID_14135       2     1707     56         2        6       570           0   \n",
              "2   VID_2187       1     2023     25         0        2       136           0   \n",
              "3  VID_23096       6   620860    777       161      153       262           0   \n",
              "4  VID_10175       1      666      1         0        0        31           0   \n",
              "\n",
              "   category_C  category_D  category_E  category_F  category_G  category_H  \\\n",
              "0           0           0           0           1           0           0   \n",
              "1           0           1           0           0           0           0   \n",
              "2           1           0           0           0           0           0   \n",
              "3           0           0           0           0           0           1   \n",
              "4           0           1           0           0           0           0   \n",
              "\n",
              "   published_year  published_month  published_day  \n",
              "0            2016                9             14  \n",
              "1            2016               10              1  \n",
              "2            2016                7              2  \n",
              "3            2016                7             27  \n",
              "4            2016                6             29  "
            ]
          },
          "execution_count": 30,
          "metadata": {},
          "output_type": "execute_result"
        }
      ],
      "source": [
        "data_train.head()"
      ]
    },
    {
      "cell_type": "code",
      "execution_count": 31,
      "metadata": {
        "id": "qr-aAKD8-NFJ"
      },
      "outputs": [],
      "source": [
        "data_train.drop(['vidid'],axis=1,inplace=True)"
      ]
    },
    {
      "cell_type": "code",
      "execution_count": 32,
      "metadata": {
        "colab": {
          "base_uri": "https://localhost:8080/",
          "height": 270
        },
        "id": "eGcmMoR4-c9Y",
        "outputId": "382ac32a-09c5-4ba3-f505-1eb15944b8a7"
      },
      "outputs": [
        {
          "data": {
            "text/html": [
              "<div>\n",
              "<style scoped>\n",
              "    .dataframe tbody tr th:only-of-type {\n",
              "        vertical-align: middle;\n",
              "    }\n",
              "\n",
              "    .dataframe tbody tr th {\n",
              "        vertical-align: top;\n",
              "    }\n",
              "\n",
              "    .dataframe thead th {\n",
              "        text-align: right;\n",
              "    }\n",
              "</style>\n",
              "<table border=\"1\" class=\"dataframe\">\n",
              "  <thead>\n",
              "    <tr style=\"text-align: right;\">\n",
              "      <th></th>\n",
              "      <th>adview</th>\n",
              "      <th>views</th>\n",
              "      <th>likes</th>\n",
              "      <th>dislikes</th>\n",
              "      <th>comment</th>\n",
              "      <th>duration</th>\n",
              "      <th>category_B</th>\n",
              "      <th>category_C</th>\n",
              "      <th>category_D</th>\n",
              "      <th>category_E</th>\n",
              "      <th>category_F</th>\n",
              "      <th>category_G</th>\n",
              "      <th>category_H</th>\n",
              "      <th>published_year</th>\n",
              "      <th>published_month</th>\n",
              "      <th>published_day</th>\n",
              "    </tr>\n",
              "  </thead>\n",
              "  <tbody>\n",
              "    <tr>\n",
              "      <th>0</th>\n",
              "      <td>40</td>\n",
              "      <td>1031602</td>\n",
              "      <td>8523</td>\n",
              "      <td>363</td>\n",
              "      <td>1095</td>\n",
              "      <td>457</td>\n",
              "      <td>0</td>\n",
              "      <td>0</td>\n",
              "      <td>0</td>\n",
              "      <td>0</td>\n",
              "      <td>1</td>\n",
              "      <td>0</td>\n",
              "      <td>0</td>\n",
              "      <td>2016</td>\n",
              "      <td>9</td>\n",
              "      <td>14</td>\n",
              "    </tr>\n",
              "    <tr>\n",
              "      <th>1</th>\n",
              "      <td>2</td>\n",
              "      <td>1707</td>\n",
              "      <td>56</td>\n",
              "      <td>2</td>\n",
              "      <td>6</td>\n",
              "      <td>570</td>\n",
              "      <td>0</td>\n",
              "      <td>0</td>\n",
              "      <td>1</td>\n",
              "      <td>0</td>\n",
              "      <td>0</td>\n",
              "      <td>0</td>\n",
              "      <td>0</td>\n",
              "      <td>2016</td>\n",
              "      <td>10</td>\n",
              "      <td>1</td>\n",
              "    </tr>\n",
              "    <tr>\n",
              "      <th>2</th>\n",
              "      <td>1</td>\n",
              "      <td>2023</td>\n",
              "      <td>25</td>\n",
              "      <td>0</td>\n",
              "      <td>2</td>\n",
              "      <td>136</td>\n",
              "      <td>0</td>\n",
              "      <td>1</td>\n",
              "      <td>0</td>\n",
              "      <td>0</td>\n",
              "      <td>0</td>\n",
              "      <td>0</td>\n",
              "      <td>0</td>\n",
              "      <td>2016</td>\n",
              "      <td>7</td>\n",
              "      <td>2</td>\n",
              "    </tr>\n",
              "    <tr>\n",
              "      <th>3</th>\n",
              "      <td>6</td>\n",
              "      <td>620860</td>\n",
              "      <td>777</td>\n",
              "      <td>161</td>\n",
              "      <td>153</td>\n",
              "      <td>262</td>\n",
              "      <td>0</td>\n",
              "      <td>0</td>\n",
              "      <td>0</td>\n",
              "      <td>0</td>\n",
              "      <td>0</td>\n",
              "      <td>0</td>\n",
              "      <td>1</td>\n",
              "      <td>2016</td>\n",
              "      <td>7</td>\n",
              "      <td>27</td>\n",
              "    </tr>\n",
              "    <tr>\n",
              "      <th>4</th>\n",
              "      <td>1</td>\n",
              "      <td>666</td>\n",
              "      <td>1</td>\n",
              "      <td>0</td>\n",
              "      <td>0</td>\n",
              "      <td>31</td>\n",
              "      <td>0</td>\n",
              "      <td>0</td>\n",
              "      <td>1</td>\n",
              "      <td>0</td>\n",
              "      <td>0</td>\n",
              "      <td>0</td>\n",
              "      <td>0</td>\n",
              "      <td>2016</td>\n",
              "      <td>6</td>\n",
              "      <td>29</td>\n",
              "    </tr>\n",
              "  </tbody>\n",
              "</table>\n",
              "</div>"
            ],
            "text/plain": [
              "   adview    views  likes  dislikes  comment  duration  category_B  \\\n",
              "0      40  1031602   8523       363     1095       457           0   \n",
              "1       2     1707     56         2        6       570           0   \n",
              "2       1     2023     25         0        2       136           0   \n",
              "3       6   620860    777       161      153       262           0   \n",
              "4       1      666      1         0        0        31           0   \n",
              "\n",
              "   category_C  category_D  category_E  category_F  category_G  category_H  \\\n",
              "0           0           0           0           1           0           0   \n",
              "1           0           1           0           0           0           0   \n",
              "2           1           0           0           0           0           0   \n",
              "3           0           0           0           0           0           1   \n",
              "4           0           1           0           0           0           0   \n",
              "\n",
              "   published_year  published_month  published_day  \n",
              "0            2016                9             14  \n",
              "1            2016               10              1  \n",
              "2            2016                7              2  \n",
              "3            2016                7             27  \n",
              "4            2016                6             29  "
            ]
          },
          "execution_count": 32,
          "metadata": {},
          "output_type": "execute_result"
        }
      ],
      "source": [
        "data_train.head()"
      ]
    },
    {
      "cell_type": "code",
      "execution_count": 33,
      "metadata": {
        "id": "U5pEZ08bAOYb"
      },
      "outputs": [],
      "source": [
        "data_train.to_csv('updated_data',index = False)"
      ]
    },
    {
      "cell_type": "code",
      "execution_count": 34,
      "metadata": {
        "colab": {
          "base_uri": "https://localhost:8080/",
          "height": 270
        },
        "id": "QNj6uK7HAOdD",
        "outputId": "bcd9f0ba-6fbf-4f96-85e0-21b39652f72c"
      },
      "outputs": [
        {
          "data": {
            "text/html": [
              "<div>\n",
              "<style scoped>\n",
              "    .dataframe tbody tr th:only-of-type {\n",
              "        vertical-align: middle;\n",
              "    }\n",
              "\n",
              "    .dataframe tbody tr th {\n",
              "        vertical-align: top;\n",
              "    }\n",
              "\n",
              "    .dataframe thead th {\n",
              "        text-align: right;\n",
              "    }\n",
              "</style>\n",
              "<table border=\"1\" class=\"dataframe\">\n",
              "  <thead>\n",
              "    <tr style=\"text-align: right;\">\n",
              "      <th></th>\n",
              "      <th>adview</th>\n",
              "      <th>views</th>\n",
              "      <th>likes</th>\n",
              "      <th>dislikes</th>\n",
              "      <th>comment</th>\n",
              "      <th>duration</th>\n",
              "      <th>category_B</th>\n",
              "      <th>category_C</th>\n",
              "      <th>category_D</th>\n",
              "      <th>category_E</th>\n",
              "      <th>category_F</th>\n",
              "      <th>category_G</th>\n",
              "      <th>category_H</th>\n",
              "      <th>published_year</th>\n",
              "      <th>published_month</th>\n",
              "      <th>published_day</th>\n",
              "    </tr>\n",
              "  </thead>\n",
              "  <tbody>\n",
              "    <tr>\n",
              "      <th>0</th>\n",
              "      <td>40</td>\n",
              "      <td>1031602</td>\n",
              "      <td>8523</td>\n",
              "      <td>363</td>\n",
              "      <td>1095</td>\n",
              "      <td>457</td>\n",
              "      <td>0</td>\n",
              "      <td>0</td>\n",
              "      <td>0</td>\n",
              "      <td>0</td>\n",
              "      <td>1</td>\n",
              "      <td>0</td>\n",
              "      <td>0</td>\n",
              "      <td>2016</td>\n",
              "      <td>9</td>\n",
              "      <td>14</td>\n",
              "    </tr>\n",
              "    <tr>\n",
              "      <th>1</th>\n",
              "      <td>2</td>\n",
              "      <td>1707</td>\n",
              "      <td>56</td>\n",
              "      <td>2</td>\n",
              "      <td>6</td>\n",
              "      <td>570</td>\n",
              "      <td>0</td>\n",
              "      <td>0</td>\n",
              "      <td>1</td>\n",
              "      <td>0</td>\n",
              "      <td>0</td>\n",
              "      <td>0</td>\n",
              "      <td>0</td>\n",
              "      <td>2016</td>\n",
              "      <td>10</td>\n",
              "      <td>1</td>\n",
              "    </tr>\n",
              "    <tr>\n",
              "      <th>2</th>\n",
              "      <td>1</td>\n",
              "      <td>2023</td>\n",
              "      <td>25</td>\n",
              "      <td>0</td>\n",
              "      <td>2</td>\n",
              "      <td>136</td>\n",
              "      <td>0</td>\n",
              "      <td>1</td>\n",
              "      <td>0</td>\n",
              "      <td>0</td>\n",
              "      <td>0</td>\n",
              "      <td>0</td>\n",
              "      <td>0</td>\n",
              "      <td>2016</td>\n",
              "      <td>7</td>\n",
              "      <td>2</td>\n",
              "    </tr>\n",
              "    <tr>\n",
              "      <th>3</th>\n",
              "      <td>6</td>\n",
              "      <td>620860</td>\n",
              "      <td>777</td>\n",
              "      <td>161</td>\n",
              "      <td>153</td>\n",
              "      <td>262</td>\n",
              "      <td>0</td>\n",
              "      <td>0</td>\n",
              "      <td>0</td>\n",
              "      <td>0</td>\n",
              "      <td>0</td>\n",
              "      <td>0</td>\n",
              "      <td>1</td>\n",
              "      <td>2016</td>\n",
              "      <td>7</td>\n",
              "      <td>27</td>\n",
              "    </tr>\n",
              "    <tr>\n",
              "      <th>4</th>\n",
              "      <td>1</td>\n",
              "      <td>666</td>\n",
              "      <td>1</td>\n",
              "      <td>0</td>\n",
              "      <td>0</td>\n",
              "      <td>31</td>\n",
              "      <td>0</td>\n",
              "      <td>0</td>\n",
              "      <td>1</td>\n",
              "      <td>0</td>\n",
              "      <td>0</td>\n",
              "      <td>0</td>\n",
              "      <td>0</td>\n",
              "      <td>2016</td>\n",
              "      <td>6</td>\n",
              "      <td>29</td>\n",
              "    </tr>\n",
              "  </tbody>\n",
              "</table>\n",
              "</div>"
            ],
            "text/plain": [
              "   adview    views  likes  dislikes  comment  duration  category_B  \\\n",
              "0      40  1031602   8523       363     1095       457           0   \n",
              "1       2     1707     56         2        6       570           0   \n",
              "2       1     2023     25         0        2       136           0   \n",
              "3       6   620860    777       161      153       262           0   \n",
              "4       1      666      1         0        0        31           0   \n",
              "\n",
              "   category_C  category_D  category_E  category_F  category_G  category_H  \\\n",
              "0           0           0           0           1           0           0   \n",
              "1           0           1           0           0           0           0   \n",
              "2           1           0           0           0           0           0   \n",
              "3           0           0           0           0           0           1   \n",
              "4           0           1           0           0           0           0   \n",
              "\n",
              "   published_year  published_month  published_day  \n",
              "0            2016                9             14  \n",
              "1            2016               10              1  \n",
              "2            2016                7              2  \n",
              "3            2016                7             27  \n",
              "4            2016                6             29  "
            ]
          },
          "execution_count": 34,
          "metadata": {},
          "output_type": "execute_result"
        }
      ],
      "source": [
        "df = pd.read_csv('updated_data')\n",
        "df.head()"
      ]
    },
    {
      "cell_type": "code",
      "execution_count": 35,
      "metadata": {
        "colab": {
          "base_uri": "https://localhost:8080/",
          "height": 206
        },
        "id": "RBS90CqE3HBx",
        "outputId": "fa143ff1-a425-4841-8d88-90f2c46604e0"
      },
      "outputs": [
        {
          "data": {
            "text/html": [
              "<div>\n",
              "<style scoped>\n",
              "    .dataframe tbody tr th:only-of-type {\n",
              "        vertical-align: middle;\n",
              "    }\n",
              "\n",
              "    .dataframe tbody tr th {\n",
              "        vertical-align: top;\n",
              "    }\n",
              "\n",
              "    .dataframe thead th {\n",
              "        text-align: right;\n",
              "    }\n",
              "</style>\n",
              "<table border=\"1\" class=\"dataframe\">\n",
              "  <thead>\n",
              "    <tr style=\"text-align: right;\">\n",
              "      <th></th>\n",
              "      <th>views</th>\n",
              "      <th>likes</th>\n",
              "      <th>dislikes</th>\n",
              "      <th>comment</th>\n",
              "      <th>duration</th>\n",
              "      <th>category_B</th>\n",
              "      <th>category_C</th>\n",
              "      <th>category_D</th>\n",
              "      <th>category_E</th>\n",
              "      <th>category_F</th>\n",
              "      <th>category_G</th>\n",
              "      <th>category_H</th>\n",
              "      <th>published_year</th>\n",
              "      <th>published_month</th>\n",
              "      <th>published_day</th>\n",
              "    </tr>\n",
              "  </thead>\n",
              "  <tbody>\n",
              "    <tr>\n",
              "      <th>0</th>\n",
              "      <td>1031602</td>\n",
              "      <td>8523</td>\n",
              "      <td>363</td>\n",
              "      <td>1095</td>\n",
              "      <td>457</td>\n",
              "      <td>0</td>\n",
              "      <td>0</td>\n",
              "      <td>0</td>\n",
              "      <td>0</td>\n",
              "      <td>1</td>\n",
              "      <td>0</td>\n",
              "      <td>0</td>\n",
              "      <td>2016</td>\n",
              "      <td>9</td>\n",
              "      <td>14</td>\n",
              "    </tr>\n",
              "    <tr>\n",
              "      <th>1</th>\n",
              "      <td>1707</td>\n",
              "      <td>56</td>\n",
              "      <td>2</td>\n",
              "      <td>6</td>\n",
              "      <td>570</td>\n",
              "      <td>0</td>\n",
              "      <td>0</td>\n",
              "      <td>1</td>\n",
              "      <td>0</td>\n",
              "      <td>0</td>\n",
              "      <td>0</td>\n",
              "      <td>0</td>\n",
              "      <td>2016</td>\n",
              "      <td>10</td>\n",
              "      <td>1</td>\n",
              "    </tr>\n",
              "    <tr>\n",
              "      <th>2</th>\n",
              "      <td>2023</td>\n",
              "      <td>25</td>\n",
              "      <td>0</td>\n",
              "      <td>2</td>\n",
              "      <td>136</td>\n",
              "      <td>0</td>\n",
              "      <td>1</td>\n",
              "      <td>0</td>\n",
              "      <td>0</td>\n",
              "      <td>0</td>\n",
              "      <td>0</td>\n",
              "      <td>0</td>\n",
              "      <td>2016</td>\n",
              "      <td>7</td>\n",
              "      <td>2</td>\n",
              "    </tr>\n",
              "    <tr>\n",
              "      <th>3</th>\n",
              "      <td>620860</td>\n",
              "      <td>777</td>\n",
              "      <td>161</td>\n",
              "      <td>153</td>\n",
              "      <td>262</td>\n",
              "      <td>0</td>\n",
              "      <td>0</td>\n",
              "      <td>0</td>\n",
              "      <td>0</td>\n",
              "      <td>0</td>\n",
              "      <td>0</td>\n",
              "      <td>1</td>\n",
              "      <td>2016</td>\n",
              "      <td>7</td>\n",
              "      <td>27</td>\n",
              "    </tr>\n",
              "    <tr>\n",
              "      <th>4</th>\n",
              "      <td>666</td>\n",
              "      <td>1</td>\n",
              "      <td>0</td>\n",
              "      <td>0</td>\n",
              "      <td>31</td>\n",
              "      <td>0</td>\n",
              "      <td>0</td>\n",
              "      <td>1</td>\n",
              "      <td>0</td>\n",
              "      <td>0</td>\n",
              "      <td>0</td>\n",
              "      <td>0</td>\n",
              "      <td>2016</td>\n",
              "      <td>6</td>\n",
              "      <td>29</td>\n",
              "    </tr>\n",
              "  </tbody>\n",
              "</table>\n",
              "</div>"
            ],
            "text/plain": [
              "     views  likes  dislikes  comment  duration  category_B  category_C  \\\n",
              "0  1031602   8523       363     1095       457           0           0   \n",
              "1     1707     56         2        6       570           0           0   \n",
              "2     2023     25         0        2       136           0           1   \n",
              "3   620860    777       161      153       262           0           0   \n",
              "4      666      1         0        0        31           0           0   \n",
              "\n",
              "   category_D  category_E  category_F  category_G  category_H  published_year  \\\n",
              "0           0           0           1           0           0            2016   \n",
              "1           1           0           0           0           0            2016   \n",
              "2           0           0           0           0           0            2016   \n",
              "3           0           0           0           0           1            2016   \n",
              "4           1           0           0           0           0            2016   \n",
              "\n",
              "   published_month  published_day  \n",
              "0                9             14  \n",
              "1               10              1  \n",
              "2                7              2  \n",
              "3                7             27  \n",
              "4                6             29  "
            ]
          },
          "execution_count": 35,
          "metadata": {},
          "output_type": "execute_result"
        }
      ],
      "source": [
        "X = data_train.loc[:,['views', 'likes', 'dislikes', 'comment', 'duration',\n",
        "       'category_B', 'category_C', 'category_D', 'category_E', 'category_F',\n",
        "       'category_G', 'category_H', 'published_year', 'published_month',\n",
        "       'published_day']]\n",
        "X.head()"
      ]
    },
    {
      "cell_type": "code",
      "execution_count": 36,
      "metadata": {
        "colab": {
          "base_uri": "https://localhost:8080/"
        },
        "id": "9E-WvNX47yCD",
        "outputId": "0f47acf9-2dff-4736-f59a-1af9d9687c2a"
      },
      "outputs": [
        {
          "data": {
            "text/html": [
              "<div>\n",
              "<style scoped>\n",
              "    .dataframe tbody tr th:only-of-type {\n",
              "        vertical-align: middle;\n",
              "    }\n",
              "\n",
              "    .dataframe tbody tr th {\n",
              "        vertical-align: top;\n",
              "    }\n",
              "\n",
              "    .dataframe thead th {\n",
              "        text-align: right;\n",
              "    }\n",
              "</style>\n",
              "<table border=\"1\" class=\"dataframe\">\n",
              "  <thead>\n",
              "    <tr style=\"text-align: right;\">\n",
              "      <th></th>\n",
              "      <th>adview</th>\n",
              "    </tr>\n",
              "  </thead>\n",
              "  <tbody>\n",
              "    <tr>\n",
              "      <th>0</th>\n",
              "      <td>40</td>\n",
              "    </tr>\n",
              "    <tr>\n",
              "      <th>1</th>\n",
              "      <td>2</td>\n",
              "    </tr>\n",
              "    <tr>\n",
              "      <th>2</th>\n",
              "      <td>1</td>\n",
              "    </tr>\n",
              "    <tr>\n",
              "      <th>3</th>\n",
              "      <td>6</td>\n",
              "    </tr>\n",
              "    <tr>\n",
              "      <th>4</th>\n",
              "      <td>1</td>\n",
              "    </tr>\n",
              "  </tbody>\n",
              "</table>\n",
              "</div>"
            ],
            "text/plain": [
              "   adview\n",
              "0      40\n",
              "1       2\n",
              "2       1\n",
              "3       6\n",
              "4       1"
            ]
          },
          "execution_count": 36,
          "metadata": {},
          "output_type": "execute_result"
        }
      ],
      "source": [
        "y = data_train.loc[:, ['adview']]\n",
        "y.head()"
      ]
    },
    {
      "cell_type": "code",
      "execution_count": 37,
      "metadata": {
        "colab": {
          "base_uri": "https://localhost:8080/"
        },
        "id": "t9TuoJpX8CIW",
        "outputId": "559a2210-6823-46b2-8fc2-2a2e9c75b03d"
      },
      "outputs": [
        {
          "name": "stderr",
          "output_type": "stream",
          "text": [
            "C:\\Users\\debna\\AppData\\Local\\Temp/ipykernel_10544/1978950146.py:3: DataConversionWarning: A column-vector y was passed when a 1d array was expected. Please change the shape of y to (n_samples,), for example using ravel().\n",
            "  selection.fit(X,y)\n"
          ]
        },
        {
          "data": {
            "text/plain": [
              "ExtraTreesRegressor()"
            ]
          },
          "execution_count": 37,
          "metadata": {},
          "output_type": "execute_result"
        }
      ],
      "source": [
        "from sklearn.ensemble import ExtraTreesRegressor\n",
        "selection = ExtraTreesRegressor()\n",
        "selection.fit(X,y)"
      ]
    },
    {
      "cell_type": "code",
      "execution_count": 38,
      "metadata": {
        "colab": {
          "base_uri": "https://localhost:8080/"
        },
        "id": "i2cv0FIq9XKQ",
        "outputId": "13389b84-ca2a-4856-ee43-4ea81ac3cf91"
      },
      "outputs": [
        {
          "name": "stdout",
          "output_type": "stream",
          "text": [
            "[2.35608526e-01 1.31412484e-01 1.36070186e-01 8.73371228e-02\n",
            " 9.29219037e-02 5.20227388e-03 1.85261976e-04 1.53262177e-02\n",
            " 6.24701341e-02 1.55696832e-03 4.66068288e-03 1.49957186e-04\n",
            " 3.53110597e-02 6.49952349e-02 1.26791986e-01]\n"
          ]
        }
      ],
      "source": [
        "print(selection.feature_importances_)"
      ]
    },
    {
      "cell_type": "code",
      "execution_count": 39,
      "metadata": {
        "colab": {
          "base_uri": "https://localhost:8080/",
          "height": 485
        },
        "id": "r0gnEtju9b11",
        "outputId": "dc48093b-17be-40c8-cc58-9ae155d1ceac"
      },
      "outputs": [
        {
          "data": {
            "image/png": "[encoded data removed]",
            "text/plain": [
              "<Figure size 864x576 with 1 Axes>"
            ]
          },
          "metadata": {},
          "output_type": "display_data"
        }
      ],
      "source": [
        "#plot graph of feature importances for better visualization\n",
        "\n",
        "plt.figure(figsize = (12,8))\n",
        "feat_importances = pd.Series(selection.feature_importances_, index=X.columns)\n",
        "feat_importances.nlargest(20).plot(kind='barh')\n",
        "plt.show()"
      ]
    },
    {
      "cell_type": "code",
      "execution_count": null,
      "metadata": {
        "id": "VxLMnlAC9nge"
      },
      "outputs": [],
      "source": []
    },
    {
      "cell_type": "code",
      "execution_count": 40,
      "metadata": {
        "colab": {
          "base_uri": "https://localhost:8080/"
        },
        "id": "Ip6HlMCP-0qW",
        "outputId": "c453747b-cbd8-4663-b87e-faa773761f6a"
      },
      "outputs": [
        {
          "data": {
            "text/plain": [
              "(11708, 15)"
            ]
          },
          "execution_count": 40,
          "metadata": {},
          "output_type": "execute_result"
        }
      ],
      "source": [
        "from sklearn.model_selection import train_test_split\n",
        "X_train, X_test, y_train, y_test = train_test_split(X, y, test_size=0.2, random_state=42)\n",
        "X_train.shape"
      ]
    },
    {
      "cell_type": "code",
      "execution_count": 41,
      "metadata": {},
      "outputs": [
        {
          "data": {
            "text/html": [
              "<div>\n",
              "<style scoped>\n",
              "    .dataframe tbody tr th:only-of-type {\n",
              "        vertical-align: middle;\n",
              "    }\n",
              "\n",
              "    .dataframe tbody tr th {\n",
              "        vertical-align: top;\n",
              "    }\n",
              "\n",
              "    .dataframe thead th {\n",
              "        text-align: right;\n",
              "    }\n",
              "</style>\n",
              "<table border=\"1\" class=\"dataframe\">\n",
              "  <thead>\n",
              "    <tr style=\"text-align: right;\">\n",
              "      <th></th>\n",
              "      <th>views</th>\n",
              "      <th>likes</th>\n",
              "      <th>dislikes</th>\n",
              "      <th>comment</th>\n",
              "      <th>duration</th>\n",
              "      <th>category_B</th>\n",
              "      <th>category_C</th>\n",
              "      <th>category_D</th>\n",
              "      <th>category_E</th>\n",
              "      <th>category_F</th>\n",
              "      <th>category_G</th>\n",
              "      <th>category_H</th>\n",
              "      <th>published_year</th>\n",
              "      <th>published_month</th>\n",
              "      <th>published_day</th>\n",
              "    </tr>\n",
              "  </thead>\n",
              "  <tbody>\n",
              "    <tr>\n",
              "      <th>13440</th>\n",
              "      <td>86739</td>\n",
              "      <td>117</td>\n",
              "      <td>9</td>\n",
              "      <td>4</td>\n",
              "      <td>180</td>\n",
              "      <td>0</td>\n",
              "      <td>0</td>\n",
              "      <td>1</td>\n",
              "      <td>0</td>\n",
              "      <td>0</td>\n",
              "      <td>0</td>\n",
              "      <td>0</td>\n",
              "      <td>2014</td>\n",
              "      <td>2</td>\n",
              "      <td>4</td>\n",
              "    </tr>\n",
              "    <tr>\n",
              "      <th>9523</th>\n",
              "      <td>1419766</td>\n",
              "      <td>887</td>\n",
              "      <td>362</td>\n",
              "      <td>232</td>\n",
              "      <td>5811</td>\n",
              "      <td>0</td>\n",
              "      <td>0</td>\n",
              "      <td>0</td>\n",
              "      <td>0</td>\n",
              "      <td>0</td>\n",
              "      <td>1</td>\n",
              "      <td>0</td>\n",
              "      <td>2015</td>\n",
              "      <td>1</td>\n",
              "      <td>2</td>\n",
              "    </tr>\n",
              "    <tr>\n",
              "      <th>3012</th>\n",
              "      <td>26086</td>\n",
              "      <td>19</td>\n",
              "      <td>0</td>\n",
              "      <td>9</td>\n",
              "      <td>178</td>\n",
              "      <td>0</td>\n",
              "      <td>0</td>\n",
              "      <td>0</td>\n",
              "      <td>0</td>\n",
              "      <td>1</td>\n",
              "      <td>0</td>\n",
              "      <td>0</td>\n",
              "      <td>2013</td>\n",
              "      <td>5</td>\n",
              "      <td>26</td>\n",
              "    </tr>\n",
              "    <tr>\n",
              "      <th>1888</th>\n",
              "      <td>305445</td>\n",
              "      <td>3662</td>\n",
              "      <td>45</td>\n",
              "      <td>555</td>\n",
              "      <td>257</td>\n",
              "      <td>0</td>\n",
              "      <td>0</td>\n",
              "      <td>0</td>\n",
              "      <td>0</td>\n",
              "      <td>0</td>\n",
              "      <td>1</td>\n",
              "      <td>0</td>\n",
              "      <td>2014</td>\n",
              "      <td>10</td>\n",
              "      <td>31</td>\n",
              "    </tr>\n",
              "    <tr>\n",
              "      <th>11378</th>\n",
              "      <td>737649</td>\n",
              "      <td>1702</td>\n",
              "      <td>96</td>\n",
              "      <td>53</td>\n",
              "      <td>895</td>\n",
              "      <td>0</td>\n",
              "      <td>0</td>\n",
              "      <td>1</td>\n",
              "      <td>0</td>\n",
              "      <td>0</td>\n",
              "      <td>0</td>\n",
              "      <td>0</td>\n",
              "      <td>2013</td>\n",
              "      <td>11</td>\n",
              "      <td>6</td>\n",
              "    </tr>\n",
              "  </tbody>\n",
              "</table>\n",
              "</div>"
            ],
            "text/plain": [
              "         views  likes  dislikes  comment  duration  category_B  category_C  \\\n",
              "13440    86739    117         9        4       180           0           0   \n",
              "9523   1419766    887       362      232      5811           0           0   \n",
              "3012     26086     19         0        9       178           0           0   \n",
              "1888    305445   3662        45      555       257           0           0   \n",
              "11378   737649   1702        96       53       895           0           0   \n",
              "\n",
              "       category_D  category_E  category_F  category_G  category_H  \\\n",
              "13440           1           0           0           0           0   \n",
              "9523            0           0           0           1           0   \n",
              "3012            0           0           1           0           0   \n",
              "1888            0           0           0           1           0   \n",
              "11378           1           0           0           0           0   \n",
              "\n",
              "       published_year  published_month  published_day  \n",
              "13440            2014                2              4  \n",
              "9523             2015                1              2  \n",
              "3012             2013                5             26  \n",
              "1888             2014               10             31  \n",
              "11378            2013               11              6  "
            ]
          },
          "execution_count": 41,
          "metadata": {},
          "output_type": "execute_result"
        }
      ],
      "source": [
        "X_train.head()"
      ]
    },
    {
      "cell_type": "code",
      "execution_count": 42,
      "metadata": {},
      "outputs": [
        {
          "data": {
            "text/html": [
              "<div>\n",
              "<style scoped>\n",
              "    .dataframe tbody tr th:only-of-type {\n",
              "        vertical-align: middle;\n",
              "    }\n",
              "\n",
              "    .dataframe tbody tr th {\n",
              "        vertical-align: top;\n",
              "    }\n",
              "\n",
              "    .dataframe thead th {\n",
              "        text-align: right;\n",
              "    }\n",
              "</style>\n",
              "<table border=\"1\" class=\"dataframe\">\n",
              "  <thead>\n",
              "    <tr style=\"text-align: right;\">\n",
              "      <th></th>\n",
              "      <th>views</th>\n",
              "      <th>likes</th>\n",
              "      <th>dislikes</th>\n",
              "      <th>comment</th>\n",
              "      <th>duration</th>\n",
              "      <th>category_B</th>\n",
              "      <th>category_C</th>\n",
              "      <th>category_D</th>\n",
              "      <th>category_E</th>\n",
              "      <th>category_F</th>\n",
              "      <th>category_G</th>\n",
              "      <th>category_H</th>\n",
              "      <th>published_year</th>\n",
              "      <th>published_month</th>\n",
              "      <th>published_day</th>\n",
              "    </tr>\n",
              "  </thead>\n",
              "  <tbody>\n",
              "    <tr>\n",
              "      <th>13440</th>\n",
              "      <td>86739</td>\n",
              "      <td>117</td>\n",
              "      <td>9</td>\n",
              "      <td>4</td>\n",
              "      <td>180</td>\n",
              "      <td>0</td>\n",
              "      <td>0</td>\n",
              "      <td>1</td>\n",
              "      <td>0</td>\n",
              "      <td>0</td>\n",
              "      <td>0</td>\n",
              "      <td>0</td>\n",
              "      <td>2014</td>\n",
              "      <td>2</td>\n",
              "      <td>4</td>\n",
              "    </tr>\n",
              "    <tr>\n",
              "      <th>9523</th>\n",
              "      <td>1419766</td>\n",
              "      <td>887</td>\n",
              "      <td>362</td>\n",
              "      <td>232</td>\n",
              "      <td>5811</td>\n",
              "      <td>0</td>\n",
              "      <td>0</td>\n",
              "      <td>0</td>\n",
              "      <td>0</td>\n",
              "      <td>0</td>\n",
              "      <td>1</td>\n",
              "      <td>0</td>\n",
              "      <td>2015</td>\n",
              "      <td>1</td>\n",
              "      <td>2</td>\n",
              "    </tr>\n",
              "    <tr>\n",
              "      <th>3012</th>\n",
              "      <td>26086</td>\n",
              "      <td>19</td>\n",
              "      <td>0</td>\n",
              "      <td>9</td>\n",
              "      <td>178</td>\n",
              "      <td>0</td>\n",
              "      <td>0</td>\n",
              "      <td>0</td>\n",
              "      <td>0</td>\n",
              "      <td>1</td>\n",
              "      <td>0</td>\n",
              "      <td>0</td>\n",
              "      <td>2013</td>\n",
              "      <td>5</td>\n",
              "      <td>26</td>\n",
              "    </tr>\n",
              "    <tr>\n",
              "      <th>1888</th>\n",
              "      <td>305445</td>\n",
              "      <td>3662</td>\n",
              "      <td>45</td>\n",
              "      <td>555</td>\n",
              "      <td>257</td>\n",
              "      <td>0</td>\n",
              "      <td>0</td>\n",
              "      <td>0</td>\n",
              "      <td>0</td>\n",
              "      <td>0</td>\n",
              "      <td>1</td>\n",
              "      <td>0</td>\n",
              "      <td>2014</td>\n",
              "      <td>10</td>\n",
              "      <td>31</td>\n",
              "    </tr>\n",
              "    <tr>\n",
              "      <th>11378</th>\n",
              "      <td>737649</td>\n",
              "      <td>1702</td>\n",
              "      <td>96</td>\n",
              "      <td>53</td>\n",
              "      <td>895</td>\n",
              "      <td>0</td>\n",
              "      <td>0</td>\n",
              "      <td>1</td>\n",
              "      <td>0</td>\n",
              "      <td>0</td>\n",
              "      <td>0</td>\n",
              "      <td>0</td>\n",
              "      <td>2013</td>\n",
              "      <td>11</td>\n",
              "      <td>6</td>\n",
              "    </tr>\n",
              "    <tr>\n",
              "      <th>...</th>\n",
              "      <td>...</td>\n",
              "      <td>...</td>\n",
              "      <td>...</td>\n",
              "      <td>...</td>\n",
              "      <td>...</td>\n",
              "      <td>...</td>\n",
              "      <td>...</td>\n",
              "      <td>...</td>\n",
              "      <td>...</td>\n",
              "      <td>...</td>\n",
              "      <td>...</td>\n",
              "      <td>...</td>\n",
              "      <td>...</td>\n",
              "      <td>...</td>\n",
              "      <td>...</td>\n",
              "    </tr>\n",
              "    <tr>\n",
              "      <th>5316</th>\n",
              "      <td>31648</td>\n",
              "      <td>140</td>\n",
              "      <td>24</td>\n",
              "      <td>14</td>\n",
              "      <td>231</td>\n",
              "      <td>0</td>\n",
              "      <td>0</td>\n",
              "      <td>0</td>\n",
              "      <td>0</td>\n",
              "      <td>0</td>\n",
              "      <td>1</td>\n",
              "      <td>0</td>\n",
              "      <td>2016</td>\n",
              "      <td>1</td>\n",
              "      <td>15</td>\n",
              "    </tr>\n",
              "    <tr>\n",
              "      <th>13748</th>\n",
              "      <td>1804</td>\n",
              "      <td>4</td>\n",
              "      <td>1</td>\n",
              "      <td>0</td>\n",
              "      <td>232</td>\n",
              "      <td>0</td>\n",
              "      <td>0</td>\n",
              "      <td>1</td>\n",
              "      <td>0</td>\n",
              "      <td>0</td>\n",
              "      <td>0</td>\n",
              "      <td>0</td>\n",
              "      <td>2013</td>\n",
              "      <td>8</td>\n",
              "      <td>19</td>\n",
              "    </tr>\n",
              "    <tr>\n",
              "      <th>5522</th>\n",
              "      <td>204817</td>\n",
              "      <td>86</td>\n",
              "      <td>35</td>\n",
              "      <td>11</td>\n",
              "      <td>218</td>\n",
              "      <td>0</td>\n",
              "      <td>0</td>\n",
              "      <td>1</td>\n",
              "      <td>0</td>\n",
              "      <td>0</td>\n",
              "      <td>0</td>\n",
              "      <td>0</td>\n",
              "      <td>2014</td>\n",
              "      <td>2</td>\n",
              "      <td>24</td>\n",
              "    </tr>\n",
              "    <tr>\n",
              "      <th>883</th>\n",
              "      <td>1361366</td>\n",
              "      <td>1384</td>\n",
              "      <td>757</td>\n",
              "      <td>185</td>\n",
              "      <td>240</td>\n",
              "      <td>0</td>\n",
              "      <td>0</td>\n",
              "      <td>0</td>\n",
              "      <td>0</td>\n",
              "      <td>0</td>\n",
              "      <td>1</td>\n",
              "      <td>0</td>\n",
              "      <td>2016</td>\n",
              "      <td>8</td>\n",
              "      <td>22</td>\n",
              "    </tr>\n",
              "    <tr>\n",
              "      <th>7445</th>\n",
              "      <td>39758</td>\n",
              "      <td>122</td>\n",
              "      <td>6</td>\n",
              "      <td>3</td>\n",
              "      <td>354</td>\n",
              "      <td>0</td>\n",
              "      <td>0</td>\n",
              "      <td>1</td>\n",
              "      <td>0</td>\n",
              "      <td>0</td>\n",
              "      <td>0</td>\n",
              "      <td>0</td>\n",
              "      <td>2010</td>\n",
              "      <td>10</td>\n",
              "      <td>4</td>\n",
              "    </tr>\n",
              "  </tbody>\n",
              "</table>\n",
              "<p>11708 rows × 15 columns</p>\n",
              "</div>"
            ],
            "text/plain": [
              "         views  likes  dislikes  comment  duration  category_B  category_C  \\\n",
              "13440    86739    117         9        4       180           0           0   \n",
              "9523   1419766    887       362      232      5811           0           0   \n",
              "3012     26086     19         0        9       178           0           0   \n",
              "1888    305445   3662        45      555       257           0           0   \n",
              "11378   737649   1702        96       53       895           0           0   \n",
              "...        ...    ...       ...      ...       ...         ...         ...   \n",
              "5316     31648    140        24       14       231           0           0   \n",
              "13748     1804      4         1        0       232           0           0   \n",
              "5522    204817     86        35       11       218           0           0   \n",
              "883    1361366   1384       757      185       240           0           0   \n",
              "7445     39758    122         6        3       354           0           0   \n",
              "\n",
              "       category_D  category_E  category_F  category_G  category_H  \\\n",
              "13440           1           0           0           0           0   \n",
              "9523            0           0           0           1           0   \n",
              "3012            0           0           1           0           0   \n",
              "1888            0           0           0           1           0   \n",
              "11378           1           0           0           0           0   \n",
              "...           ...         ...         ...         ...         ...   \n",
              "5316            0           0           0           1           0   \n",
              "13748           1           0           0           0           0   \n",
              "5522            1           0           0           0           0   \n",
              "883             0           0           0           1           0   \n",
              "7445            1           0           0           0           0   \n",
              "\n",
              "       published_year  published_month  published_day  \n",
              "13440            2014                2              4  \n",
              "9523             2015                1              2  \n",
              "3012             2013                5             26  \n",
              "1888             2014               10             31  \n",
              "11378            2013               11              6  \n",
              "...               ...              ...            ...  \n",
              "5316             2016                1             15  \n",
              "13748            2013                8             19  \n",
              "5522             2014                2             24  \n",
              "883              2016                8             22  \n",
              "7445             2010               10              4  \n",
              "\n",
              "[11708 rows x 15 columns]"
            ]
          },
          "execution_count": 42,
          "metadata": {},
          "output_type": "execute_result"
        }
      ],
      "source": [
        "X_train"
      ]
    },
    {
      "cell_type": "code",
      "execution_count": 43,
      "metadata": {},
      "outputs": [
        {
          "data": {
            "text/html": [
              "<div>\n",
              "<style scoped>\n",
              "    .dataframe tbody tr th:only-of-type {\n",
              "        vertical-align: middle;\n",
              "    }\n",
              "\n",
              "    .dataframe tbody tr th {\n",
              "        vertical-align: top;\n",
              "    }\n",
              "\n",
              "    .dataframe thead th {\n",
              "        text-align: right;\n",
              "    }\n",
              "</style>\n",
              "<table border=\"1\" class=\"dataframe\">\n",
              "  <thead>\n",
              "    <tr style=\"text-align: right;\">\n",
              "      <th></th>\n",
              "      <th>adview</th>\n",
              "    </tr>\n",
              "  </thead>\n",
              "  <tbody>\n",
              "    <tr>\n",
              "      <th>13440</th>\n",
              "      <td>39</td>\n",
              "    </tr>\n",
              "    <tr>\n",
              "      <th>9523</th>\n",
              "      <td>4</td>\n",
              "    </tr>\n",
              "    <tr>\n",
              "      <th>3012</th>\n",
              "      <td>18782</td>\n",
              "    </tr>\n",
              "    <tr>\n",
              "      <th>1888</th>\n",
              "      <td>2</td>\n",
              "    </tr>\n",
              "    <tr>\n",
              "      <th>11378</th>\n",
              "      <td>20</td>\n",
              "    </tr>\n",
              "    <tr>\n",
              "      <th>...</th>\n",
              "      <td>...</td>\n",
              "    </tr>\n",
              "    <tr>\n",
              "      <th>5316</th>\n",
              "      <td>21127</td>\n",
              "    </tr>\n",
              "    <tr>\n",
              "      <th>13748</th>\n",
              "      <td>1</td>\n",
              "    </tr>\n",
              "    <tr>\n",
              "      <th>5522</th>\n",
              "      <td>1</td>\n",
              "    </tr>\n",
              "    <tr>\n",
              "      <th>883</th>\n",
              "      <td>2</td>\n",
              "    </tr>\n",
              "    <tr>\n",
              "      <th>7445</th>\n",
              "      <td>1</td>\n",
              "    </tr>\n",
              "  </tbody>\n",
              "</table>\n",
              "<p>11708 rows × 1 columns</p>\n",
              "</div>"
            ],
            "text/plain": [
              "       adview\n",
              "13440      39\n",
              "9523        4\n",
              "3012    18782\n",
              "1888        2\n",
              "11378      20\n",
              "...       ...\n",
              "5316    21127\n",
              "13748       1\n",
              "5522        1\n",
              "883         2\n",
              "7445        1\n",
              "\n",
              "[11708 rows x 1 columns]"
            ]
          },
          "execution_count": 43,
          "metadata": {},
          "output_type": "execute_result"
        }
      ],
      "source": [
        "y_train"
      ]
    },
    {
      "cell_type": "code",
      "execution_count": 44,
      "metadata": {},
      "outputs": [
        {
          "data": {
            "text/html": [
              "<div>\n",
              "<style scoped>\n",
              "    .dataframe tbody tr th:only-of-type {\n",
              "        vertical-align: middle;\n",
              "    }\n",
              "\n",
              "    .dataframe tbody tr th {\n",
              "        vertical-align: top;\n",
              "    }\n",
              "\n",
              "    .dataframe thead th {\n",
              "        text-align: right;\n",
              "    }\n",
              "</style>\n",
              "<table border=\"1\" class=\"dataframe\">\n",
              "  <thead>\n",
              "    <tr style=\"text-align: right;\">\n",
              "      <th></th>\n",
              "      <th>views</th>\n",
              "      <th>likes</th>\n",
              "      <th>dislikes</th>\n",
              "      <th>comment</th>\n",
              "      <th>duration</th>\n",
              "      <th>category_B</th>\n",
              "      <th>category_C</th>\n",
              "      <th>category_D</th>\n",
              "      <th>category_E</th>\n",
              "      <th>category_F</th>\n",
              "      <th>category_G</th>\n",
              "      <th>category_H</th>\n",
              "      <th>published_year</th>\n",
              "      <th>published_month</th>\n",
              "      <th>published_day</th>\n",
              "    </tr>\n",
              "  </thead>\n",
              "  <tbody>\n",
              "    <tr>\n",
              "      <th>4912</th>\n",
              "      <td>630898</td>\n",
              "      <td>1625</td>\n",
              "      <td>117</td>\n",
              "      <td>80</td>\n",
              "      <td>365</td>\n",
              "      <td>0</td>\n",
              "      <td>0</td>\n",
              "      <td>1</td>\n",
              "      <td>0</td>\n",
              "      <td>0</td>\n",
              "      <td>0</td>\n",
              "      <td>0</td>\n",
              "      <td>2011</td>\n",
              "      <td>6</td>\n",
              "      <td>13</td>\n",
              "    </tr>\n",
              "    <tr>\n",
              "      <th>4921</th>\n",
              "      <td>384</td>\n",
              "      <td>2</td>\n",
              "      <td>0</td>\n",
              "      <td>0</td>\n",
              "      <td>15</td>\n",
              "      <td>0</td>\n",
              "      <td>0</td>\n",
              "      <td>0</td>\n",
              "      <td>1</td>\n",
              "      <td>0</td>\n",
              "      <td>0</td>\n",
              "      <td>0</td>\n",
              "      <td>2016</td>\n",
              "      <td>5</td>\n",
              "      <td>16</td>\n",
              "    </tr>\n",
              "    <tr>\n",
              "      <th>3813</th>\n",
              "      <td>36772</td>\n",
              "      <td>138</td>\n",
              "      <td>4</td>\n",
              "      <td>7</td>\n",
              "      <td>904</td>\n",
              "      <td>1</td>\n",
              "      <td>0</td>\n",
              "      <td>0</td>\n",
              "      <td>0</td>\n",
              "      <td>0</td>\n",
              "      <td>0</td>\n",
              "      <td>0</td>\n",
              "      <td>2014</td>\n",
              "      <td>4</td>\n",
              "      <td>9</td>\n",
              "    </tr>\n",
              "    <tr>\n",
              "      <th>9091</th>\n",
              "      <td>73482</td>\n",
              "      <td>74</td>\n",
              "      <td>21</td>\n",
              "      <td>4</td>\n",
              "      <td>1308</td>\n",
              "      <td>0</td>\n",
              "      <td>0</td>\n",
              "      <td>1</td>\n",
              "      <td>0</td>\n",
              "      <td>0</td>\n",
              "      <td>0</td>\n",
              "      <td>0</td>\n",
              "      <td>2011</td>\n",
              "      <td>5</td>\n",
              "      <td>3</td>\n",
              "    </tr>\n",
              "    <tr>\n",
              "      <th>8485</th>\n",
              "      <td>86827</td>\n",
              "      <td>257</td>\n",
              "      <td>5</td>\n",
              "      <td>128</td>\n",
              "      <td>481</td>\n",
              "      <td>0</td>\n",
              "      <td>0</td>\n",
              "      <td>1</td>\n",
              "      <td>0</td>\n",
              "      <td>0</td>\n",
              "      <td>0</td>\n",
              "      <td>0</td>\n",
              "      <td>2016</td>\n",
              "      <td>3</td>\n",
              "      <td>29</td>\n",
              "    </tr>\n",
              "    <tr>\n",
              "      <th>...</th>\n",
              "      <td>...</td>\n",
              "      <td>...</td>\n",
              "      <td>...</td>\n",
              "      <td>...</td>\n",
              "      <td>...</td>\n",
              "      <td>...</td>\n",
              "      <td>...</td>\n",
              "      <td>...</td>\n",
              "      <td>...</td>\n",
              "      <td>...</td>\n",
              "      <td>...</td>\n",
              "      <td>...</td>\n",
              "      <td>...</td>\n",
              "      <td>...</td>\n",
              "      <td>...</td>\n",
              "    </tr>\n",
              "    <tr>\n",
              "      <th>3788</th>\n",
              "      <td>40389</td>\n",
              "      <td>250</td>\n",
              "      <td>7</td>\n",
              "      <td>9</td>\n",
              "      <td>189</td>\n",
              "      <td>0</td>\n",
              "      <td>0</td>\n",
              "      <td>1</td>\n",
              "      <td>0</td>\n",
              "      <td>0</td>\n",
              "      <td>0</td>\n",
              "      <td>0</td>\n",
              "      <td>2016</td>\n",
              "      <td>11</td>\n",
              "      <td>17</td>\n",
              "    </tr>\n",
              "    <tr>\n",
              "      <th>4993</th>\n",
              "      <td>127443</td>\n",
              "      <td>61</td>\n",
              "      <td>10</td>\n",
              "      <td>0</td>\n",
              "      <td>143</td>\n",
              "      <td>0</td>\n",
              "      <td>0</td>\n",
              "      <td>1</td>\n",
              "      <td>0</td>\n",
              "      <td>0</td>\n",
              "      <td>0</td>\n",
              "      <td>0</td>\n",
              "      <td>2011</td>\n",
              "      <td>12</td>\n",
              "      <td>19</td>\n",
              "    </tr>\n",
              "    <tr>\n",
              "      <th>6953</th>\n",
              "      <td>85311</td>\n",
              "      <td>25</td>\n",
              "      <td>12</td>\n",
              "      <td>1</td>\n",
              "      <td>408</td>\n",
              "      <td>0</td>\n",
              "      <td>0</td>\n",
              "      <td>0</td>\n",
              "      <td>1</td>\n",
              "      <td>0</td>\n",
              "      <td>0</td>\n",
              "      <td>0</td>\n",
              "      <td>2012</td>\n",
              "      <td>4</td>\n",
              "      <td>23</td>\n",
              "    </tr>\n",
              "    <tr>\n",
              "      <th>769</th>\n",
              "      <td>67541</td>\n",
              "      <td>691</td>\n",
              "      <td>19</td>\n",
              "      <td>66</td>\n",
              "      <td>363</td>\n",
              "      <td>0</td>\n",
              "      <td>0</td>\n",
              "      <td>1</td>\n",
              "      <td>0</td>\n",
              "      <td>0</td>\n",
              "      <td>0</td>\n",
              "      <td>0</td>\n",
              "      <td>2016</td>\n",
              "      <td>8</td>\n",
              "      <td>7</td>\n",
              "    </tr>\n",
              "    <tr>\n",
              "      <th>10392</th>\n",
              "      <td>231471</td>\n",
              "      <td>226</td>\n",
              "      <td>29</td>\n",
              "      <td>31</td>\n",
              "      <td>683</td>\n",
              "      <td>0</td>\n",
              "      <td>0</td>\n",
              "      <td>0</td>\n",
              "      <td>1</td>\n",
              "      <td>0</td>\n",
              "      <td>0</td>\n",
              "      <td>0</td>\n",
              "      <td>2011</td>\n",
              "      <td>6</td>\n",
              "      <td>30</td>\n",
              "    </tr>\n",
              "  </tbody>\n",
              "</table>\n",
              "<p>2928 rows × 15 columns</p>\n",
              "</div>"
            ],
            "text/plain": [
              "        views  likes  dislikes  comment  duration  category_B  category_C  \\\n",
              "4912   630898   1625       117       80       365           0           0   \n",
              "4921      384      2         0        0        15           0           0   \n",
              "3813    36772    138         4        7       904           1           0   \n",
              "9091    73482     74        21        4      1308           0           0   \n",
              "8485    86827    257         5      128       481           0           0   \n",
              "...       ...    ...       ...      ...       ...         ...         ...   \n",
              "3788    40389    250         7        9       189           0           0   \n",
              "4993   127443     61        10        0       143           0           0   \n",
              "6953    85311     25        12        1       408           0           0   \n",
              "769     67541    691        19       66       363           0           0   \n",
              "10392  231471    226        29       31       683           0           0   \n",
              "\n",
              "       category_D  category_E  category_F  category_G  category_H  \\\n",
              "4912            1           0           0           0           0   \n",
              "4921            0           1           0           0           0   \n",
              "3813            0           0           0           0           0   \n",
              "9091            1           0           0           0           0   \n",
              "8485            1           0           0           0           0   \n",
              "...           ...         ...         ...         ...         ...   \n",
              "3788            1           0           0           0           0   \n",
              "4993            1           0           0           0           0   \n",
              "6953            0           1           0           0           0   \n",
              "769             1           0           0           0           0   \n",
              "10392           0           1           0           0           0   \n",
              "\n",
              "       published_year  published_month  published_day  \n",
              "4912             2011                6             13  \n",
              "4921             2016                5             16  \n",
              "3813             2014                4              9  \n",
              "9091             2011                5              3  \n",
              "8485             2016                3             29  \n",
              "...               ...              ...            ...  \n",
              "3788             2016               11             17  \n",
              "4993             2011               12             19  \n",
              "6953             2012                4             23  \n",
              "769              2016                8              7  \n",
              "10392            2011                6             30  \n",
              "\n",
              "[2928 rows x 15 columns]"
            ]
          },
          "execution_count": 44,
          "metadata": {},
          "output_type": "execute_result"
        }
      ],
      "source": [
        "X_test"
      ]
    },
    {
      "cell_type": "code",
      "execution_count": 45,
      "metadata": {},
      "outputs": [
        {
          "data": {
            "text/html": [
              "<div>\n",
              "<style scoped>\n",
              "    .dataframe tbody tr th:only-of-type {\n",
              "        vertical-align: middle;\n",
              "    }\n",
              "\n",
              "    .dataframe tbody tr th {\n",
              "        vertical-align: top;\n",
              "    }\n",
              "\n",
              "    .dataframe thead th {\n",
              "        text-align: right;\n",
              "    }\n",
              "</style>\n",
              "<table border=\"1\" class=\"dataframe\">\n",
              "  <thead>\n",
              "    <tr style=\"text-align: right;\">\n",
              "      <th></th>\n",
              "      <th>views</th>\n",
              "      <th>likes</th>\n",
              "      <th>dislikes</th>\n",
              "      <th>comment</th>\n",
              "      <th>duration</th>\n",
              "      <th>category_B</th>\n",
              "      <th>category_C</th>\n",
              "      <th>category_D</th>\n",
              "      <th>category_E</th>\n",
              "      <th>category_F</th>\n",
              "      <th>category_G</th>\n",
              "      <th>category_H</th>\n",
              "      <th>published_year</th>\n",
              "      <th>published_month</th>\n",
              "      <th>published_day</th>\n",
              "    </tr>\n",
              "  </thead>\n",
              "  <tbody>\n",
              "    <tr>\n",
              "      <th>4912</th>\n",
              "      <td>630898</td>\n",
              "      <td>1625</td>\n",
              "      <td>117</td>\n",
              "      <td>80</td>\n",
              "      <td>365</td>\n",
              "      <td>0</td>\n",
              "      <td>0</td>\n",
              "      <td>1</td>\n",
              "      <td>0</td>\n",
              "      <td>0</td>\n",
              "      <td>0</td>\n",
              "      <td>0</td>\n",
              "      <td>2011</td>\n",
              "      <td>6</td>\n",
              "      <td>13</td>\n",
              "    </tr>\n",
              "    <tr>\n",
              "      <th>4921</th>\n",
              "      <td>384</td>\n",
              "      <td>2</td>\n",
              "      <td>0</td>\n",
              "      <td>0</td>\n",
              "      <td>15</td>\n",
              "      <td>0</td>\n",
              "      <td>0</td>\n",
              "      <td>0</td>\n",
              "      <td>1</td>\n",
              "      <td>0</td>\n",
              "      <td>0</td>\n",
              "      <td>0</td>\n",
              "      <td>2016</td>\n",
              "      <td>5</td>\n",
              "      <td>16</td>\n",
              "    </tr>\n",
              "    <tr>\n",
              "      <th>3813</th>\n",
              "      <td>36772</td>\n",
              "      <td>138</td>\n",
              "      <td>4</td>\n",
              "      <td>7</td>\n",
              "      <td>904</td>\n",
              "      <td>1</td>\n",
              "      <td>0</td>\n",
              "      <td>0</td>\n",
              "      <td>0</td>\n",
              "      <td>0</td>\n",
              "      <td>0</td>\n",
              "      <td>0</td>\n",
              "      <td>2014</td>\n",
              "      <td>4</td>\n",
              "      <td>9</td>\n",
              "    </tr>\n",
              "    <tr>\n",
              "      <th>9091</th>\n",
              "      <td>73482</td>\n",
              "      <td>74</td>\n",
              "      <td>21</td>\n",
              "      <td>4</td>\n",
              "      <td>1308</td>\n",
              "      <td>0</td>\n",
              "      <td>0</td>\n",
              "      <td>1</td>\n",
              "      <td>0</td>\n",
              "      <td>0</td>\n",
              "      <td>0</td>\n",
              "      <td>0</td>\n",
              "      <td>2011</td>\n",
              "      <td>5</td>\n",
              "      <td>3</td>\n",
              "    </tr>\n",
              "    <tr>\n",
              "      <th>8485</th>\n",
              "      <td>86827</td>\n",
              "      <td>257</td>\n",
              "      <td>5</td>\n",
              "      <td>128</td>\n",
              "      <td>481</td>\n",
              "      <td>0</td>\n",
              "      <td>0</td>\n",
              "      <td>1</td>\n",
              "      <td>0</td>\n",
              "      <td>0</td>\n",
              "      <td>0</td>\n",
              "      <td>0</td>\n",
              "      <td>2016</td>\n",
              "      <td>3</td>\n",
              "      <td>29</td>\n",
              "    </tr>\n",
              "    <tr>\n",
              "      <th>...</th>\n",
              "      <td>...</td>\n",
              "      <td>...</td>\n",
              "      <td>...</td>\n",
              "      <td>...</td>\n",
              "      <td>...</td>\n",
              "      <td>...</td>\n",
              "      <td>...</td>\n",
              "      <td>...</td>\n",
              "      <td>...</td>\n",
              "      <td>...</td>\n",
              "      <td>...</td>\n",
              "      <td>...</td>\n",
              "      <td>...</td>\n",
              "      <td>...</td>\n",
              "      <td>...</td>\n",
              "    </tr>\n",
              "    <tr>\n",
              "      <th>3788</th>\n",
              "      <td>40389</td>\n",
              "      <td>250</td>\n",
              "      <td>7</td>\n",
              "      <td>9</td>\n",
              "      <td>189</td>\n",
              "      <td>0</td>\n",
              "      <td>0</td>\n",
              "      <td>1</td>\n",
              "      <td>0</td>\n",
              "      <td>0</td>\n",
              "      <td>0</td>\n",
              "      <td>0</td>\n",
              "      <td>2016</td>\n",
              "      <td>11</td>\n",
              "      <td>17</td>\n",
              "    </tr>\n",
              "    <tr>\n",
              "      <th>4993</th>\n",
              "      <td>127443</td>\n",
              "      <td>61</td>\n",
              "      <td>10</td>\n",
              "      <td>0</td>\n",
              "      <td>143</td>\n",
              "      <td>0</td>\n",
              "      <td>0</td>\n",
              "      <td>1</td>\n",
              "      <td>0</td>\n",
              "      <td>0</td>\n",
              "      <td>0</td>\n",
              "      <td>0</td>\n",
              "      <td>2011</td>\n",
              "      <td>12</td>\n",
              "      <td>19</td>\n",
              "    </tr>\n",
              "    <tr>\n",
              "      <th>6953</th>\n",
              "      <td>85311</td>\n",
              "      <td>25</td>\n",
              "      <td>12</td>\n",
              "      <td>1</td>\n",
              "      <td>408</td>\n",
              "      <td>0</td>\n",
              "      <td>0</td>\n",
              "      <td>0</td>\n",
              "      <td>1</td>\n",
              "      <td>0</td>\n",
              "      <td>0</td>\n",
              "      <td>0</td>\n",
              "      <td>2012</td>\n",
              "      <td>4</td>\n",
              "      <td>23</td>\n",
              "    </tr>\n",
              "    <tr>\n",
              "      <th>769</th>\n",
              "      <td>67541</td>\n",
              "      <td>691</td>\n",
              "      <td>19</td>\n",
              "      <td>66</td>\n",
              "      <td>363</td>\n",
              "      <td>0</td>\n",
              "      <td>0</td>\n",
              "      <td>1</td>\n",
              "      <td>0</td>\n",
              "      <td>0</td>\n",
              "      <td>0</td>\n",
              "      <td>0</td>\n",
              "      <td>2016</td>\n",
              "      <td>8</td>\n",
              "      <td>7</td>\n",
              "    </tr>\n",
              "    <tr>\n",
              "      <th>10392</th>\n",
              "      <td>231471</td>\n",
              "      <td>226</td>\n",
              "      <td>29</td>\n",
              "      <td>31</td>\n",
              "      <td>683</td>\n",
              "      <td>0</td>\n",
              "      <td>0</td>\n",
              "      <td>0</td>\n",
              "      <td>1</td>\n",
              "      <td>0</td>\n",
              "      <td>0</td>\n",
              "      <td>0</td>\n",
              "      <td>2011</td>\n",
              "      <td>6</td>\n",
              "      <td>30</td>\n",
              "    </tr>\n",
              "  </tbody>\n",
              "</table>\n",
              "<p>2928 rows × 15 columns</p>\n",
              "</div>"
            ],
            "text/plain": [
              "        views  likes  dislikes  comment  duration  category_B  category_C  \\\n",
              "4912   630898   1625       117       80       365           0           0   \n",
              "4921      384      2         0        0        15           0           0   \n",
              "3813    36772    138         4        7       904           1           0   \n",
              "9091    73482     74        21        4      1308           0           0   \n",
              "8485    86827    257         5      128       481           0           0   \n",
              "...       ...    ...       ...      ...       ...         ...         ...   \n",
              "3788    40389    250         7        9       189           0           0   \n",
              "4993   127443     61        10        0       143           0           0   \n",
              "6953    85311     25        12        1       408           0           0   \n",
              "769     67541    691        19       66       363           0           0   \n",
              "10392  231471    226        29       31       683           0           0   \n",
              "\n",
              "       category_D  category_E  category_F  category_G  category_H  \\\n",
              "4912            1           0           0           0           0   \n",
              "4921            0           1           0           0           0   \n",
              "3813            0           0           0           0           0   \n",
              "9091            1           0           0           0           0   \n",
              "8485            1           0           0           0           0   \n",
              "...           ...         ...         ...         ...         ...   \n",
              "3788            1           0           0           0           0   \n",
              "4993            1           0           0           0           0   \n",
              "6953            0           1           0           0           0   \n",
              "769             1           0           0           0           0   \n",
              "10392           0           1           0           0           0   \n",
              "\n",
              "       published_year  published_month  published_day  \n",
              "4912             2011                6             13  \n",
              "4921             2016                5             16  \n",
              "3813             2014                4              9  \n",
              "9091             2011                5              3  \n",
              "8485             2016                3             29  \n",
              "...               ...              ...            ...  \n",
              "3788             2016               11             17  \n",
              "4993             2011               12             19  \n",
              "6953             2012                4             23  \n",
              "769              2016                8              7  \n",
              "10392            2011                6             30  \n",
              "\n",
              "[2928 rows x 15 columns]"
            ]
          },
          "execution_count": 45,
          "metadata": {},
          "output_type": "execute_result"
        }
      ],
      "source": [
        "X_test"
      ]
    },
    {
      "cell_type": "code",
      "execution_count": 46,
      "metadata": {
        "colab": {
          "base_uri": "https://localhost:8080/"
        },
        "id": "9UhrI_lc-0s8",
        "outputId": "a65b4c87-c795-482c-de14-595c6db47b25"
      },
      "outputs": [
        {
          "data": {
            "text/plain": [
              "0.1880253911886025"
            ]
          },
          "execution_count": 46,
          "metadata": {},
          "output_type": "execute_result"
        }
      ],
      "source": [
        "# Normalise Data\n",
        "from sklearn.preprocessing import MinMaxScaler\n",
        "scaler = MinMaxScaler()\n",
        "X_train=scaler.fit_transform(X_train)\n",
        "X_test=scaler.fit_transform(X_test)\n",
        "X_train.mean()"
      ]
    },
    {
      "cell_type": "code",
      "execution_count": 47,
      "metadata": {
        "id": "sLszJaK6syzc"
      },
      "outputs": [],
      "source": [
        "from sklearn import metrics\n",
        "def print_error(X_test, y_test, model_name):\n",
        "    prediction = model_name.predict(X_test)\n",
        "    print('Mean Absolute Error:', metrics.mean_absolute_error(y_test, prediction))\n",
        "    print('Mean Squared Error:', metrics.mean_squared_error(y_test, prediction))\n",
        "    print('Root Mean Squared Error:', np.sqrt(metrics.mean_squared_error(y_test, prediction)))\n",
        "    "
      ]
    },
    {
      "cell_type": "markdown",
      "metadata": {},
      "source": [
        "# Linear Regression"
      ]
    },
    {
      "cell_type": "code",
      "execution_count": 48,
      "metadata": {
        "colab": {
          "base_uri": "https://localhost:8080/"
        },
        "id": "EEZyjiOU9heu",
        "outputId": "836e0bec-2757-4b7c-fab7-0d89c2e954b3"
      },
      "outputs": [
        {
          "name": "stdout",
          "output_type": "stream",
          "text": [
            "Mean Absolute Error: 3724.529814820523\n",
            "Mean Squared Error: 834947982.5474539\n",
            "Root Mean Squared Error: 28895.46647049419\n"
          ]
        }
      ],
      "source": [
        "# Linear Regression\n",
        "from sklearn.linear_model import LinearRegression\n",
        "linear_regression = LinearRegression()\n",
        "linear_regression.fit(X_train, y_train)\n",
        "print_error(X_test,y_test, linear_regression)"
      ]
    },
    {
      "cell_type": "code",
      "execution_count": 49,
      "metadata": {},
      "outputs": [
        {
          "data": {
            "text/plain": [
              "array([[-1679.28643291],\n",
              "       [ 3609.77739366],\n",
              "       [ -237.5744239 ],\n",
              "       ...,\n",
              "       [  -21.04738814],\n",
              "       [ 2581.32769087],\n",
              "       [ -340.46581702]])"
            ]
          },
          "execution_count": 49,
          "metadata": {},
          "output_type": "execute_result"
        }
      ],
      "source": [
        "y_pred_lr=linear_regression.predict(X_test)\n",
        "y_pred_lr"
      ]
    },
    {
      "cell_type": "code",
      "execution_count": 50,
      "metadata": {
        "colab": {
          "base_uri": "https://localhost:8080/"
        },
        "id": "M_P6ZmJvw9jh",
        "outputId": "2c6884c4-f7c0-4e0c-868f-6fcc2f184848"
      },
      "outputs": [
        {
          "data": {
            "text/plain": [
              "-0.004980769725374756"
            ]
          },
          "execution_count": 50,
          "metadata": {},
          "output_type": "execute_result"
        }
      ],
      "source": [
        "metrics.r2_score(y_test, y_pred_lr)"
      ]
    },
    {
      "cell_type": "code",
      "execution_count": 51,
      "metadata": {
        "colab": {
          "base_uri": "https://localhost:8080/",
          "height": 285
        },
        "id": "F469yikFwLKM",
        "outputId": "c1892925-0bac-4927-a112-a9c554dc1cb6"
      },
      "outputs": [
        {
          "data": {
            "image/png": "[encoded data removed]",
            "text/plain": [
              "<Figure size 432x288 with 1 Axes>"
            ]
          },
          "metadata": {},
          "output_type": "display_data"
        }
      ],
      "source": [
        "plt.scatter(y_test, y_pred_lr, alpha = 0.5)\n",
        "plt.xlabel(\"y_test\")\n",
        "plt.ylabel(\"y_pred_lr\")\n",
        "plt.show()"
      ]
    },
    {
      "cell_type": "markdown",
      "metadata": {},
      "source": [
        "# Support Vector Regression"
      ]
    },
    {
      "cell_type": "code",
      "execution_count": 52,
      "metadata": {
        "id": "awHFKXQBwLam"
      },
      "outputs": [
        {
          "name": "stderr",
          "output_type": "stream",
          "text": [
            "c:\\Users\\debna\\anaconda3\\lib\\site-packages\\sklearn\\utils\\validation.py:985: DataConversionWarning: A column-vector y was passed when a 1d array was expected. Please change the shape of y to (n_samples, ), for example using ravel().\n",
            "  y = column_or_1d(y, warn=True)\n"
          ]
        },
        {
          "name": "stdout",
          "output_type": "stream",
          "text": [
            "Mean Absolute Error: 1696.9871647371258\n",
            "Mean Squared Error: 833686995.4197395\n",
            "Root Mean Squared Error: 28873.638416724338\n"
          ]
        }
      ],
      "source": [
        "from sklearn.svm import SVR\n",
        "supportvector_regression = SVR()\n",
        "supportvector_regression.fit(X_train,y_train)\n",
        "print_error(X_test,y_test, supportvector_regression)"
      ]
    },
    {
      "cell_type": "code",
      "execution_count": 53,
      "metadata": {},
      "outputs": [
        {
          "data": {
            "text/plain": [
              "array([3.01134249, 1.8553349 , 2.2387364 , ..., 2.01451793, 1.86970092,\n",
              "       1.83137215])"
            ]
          },
          "execution_count": 53,
          "metadata": {},
          "output_type": "execute_result"
        }
      ],
      "source": [
        "y_pred_svr = supportvector_regression.predict(X_test)\n",
        "y_pred_svr"
      ]
    },
    {
      "cell_type": "code",
      "execution_count": 54,
      "metadata": {},
      "outputs": [
        {
          "data": {
            "text/plain": [
              "-0.0034629891681263736"
            ]
          },
          "execution_count": 54,
          "metadata": {},
          "output_type": "execute_result"
        }
      ],
      "source": [
        "metrics.r2_score(y_test, y_pred_svr)"
      ]
    },
    {
      "cell_type": "code",
      "execution_count": 59,
      "metadata": {},
      "outputs": [
        {
          "data": {
            "image/png": "[encoded data removed]",
            "text/plain": [
              "<Figure size 432x288 with 1 Axes>"
            ]
          },
          "metadata": {},
          "output_type": "display_data"
        }
      ],
      "source": [
        "plt.scatter(y_test, y_pred_svr, alpha = 0.5)\n",
        "plt.xlabel(\"y_test\")\n",
        "plt.ylabel(\"y_pred_svr\")\n",
        "plt.show()"
      ]
    },
    {
      "cell_type": "markdown",
      "metadata": {},
      "source": [
        "# Decision Tree Regression"
      ]
    },
    {
      "cell_type": "code",
      "execution_count": 56,
      "metadata": {},
      "outputs": [
        {
          "name": "stdout",
          "output_type": "stream",
          "text": [
            "Mean Absolute Error: 2836.6195355191257\n",
            "Mean Squared Error: 1603994812.353142\n",
            "Root Mean Squared Error: 40049.9040242688\n"
          ]
        }
      ],
      "source": [
        "from sklearn.tree import DecisionTreeRegressor\n",
        "decision_tree = DecisionTreeRegressor()\n",
        "decision_tree.fit(X_train, y_train)\n",
        "print_error(X_test,y_test, decision_tree)"
      ]
    },
    {
      "cell_type": "code",
      "execution_count": 57,
      "metadata": {},
      "outputs": [
        {
          "data": {
            "text/plain": [
              "array([24., 18., 12., ...,  1.,  1.,  1.])"
            ]
          },
          "execution_count": 57,
          "metadata": {},
          "output_type": "execute_result"
        }
      ],
      "source": [
        "y_pred_dt = decision_tree.predict(X_test)\n",
        "y_pred_dt\n"
      ]
    },
    {
      "cell_type": "code",
      "execution_count": 58,
      "metadata": {},
      "outputs": [
        {
          "data": {
            "text/plain": [
              "-0.0034629891681263736"
            ]
          },
          "execution_count": 58,
          "metadata": {},
          "output_type": "execute_result"
        }
      ],
      "source": [
        "metrics.r2_score(y_test, y_pred_svr)"
      ]
    },
    {
      "cell_type": "code",
      "execution_count": 60,
      "metadata": {},
      "outputs": [
        {
          "data": {
            "image/png": "[encoded data removed]",
            "text/plain": [
              "<Figure size 432x288 with 1 Axes>"
            ]
          },
          "metadata": {},
          "output_type": "display_data"
        }
      ],
      "source": [
        "plt.scatter(y_test, y_pred_dt, alpha = 0.5)\n",
        "plt.xlabel(\"y_test\")\n",
        "plt.ylabel(\"y_pred_dt\")\n",
        "plt.show()"
      ]
    },
    {
      "cell_type": "markdown",
      "metadata": {},
      "source": [
        "# Random Forest Regression"
      ]
    },
    {
      "cell_type": "code",
      "execution_count": 61,
      "metadata": {},
      "outputs": [
        {
          "name": "stderr",
          "output_type": "stream",
          "text": [
            "C:\\Users\\debna\\AppData\\Local\\Temp/ipykernel_10544/1335013658.py:9: DataConversionWarning: A column-vector y was passed when a 1d array was expected. Please change the shape of y to (n_samples,), for example using ravel().\n",
            "  random_forest.fit(X_train,y_train)\n"
          ]
        },
        {
          "name": "stdout",
          "output_type": "stream",
          "text": [
            "Mean Absolute Error: 3376.6618476775957\n",
            "Mean Squared Error: 738465684.9408529\n",
            "Root Mean Squared Error: 27174.72511251683\n"
          ]
        }
      ],
      "source": [
        "from sklearn.ensemble import RandomForestRegressor\n",
        "'''n_estimators = 200\n",
        "max_depth = 25\n",
        "min_samples_split=15\n",
        "min_samples_leaf=2\n",
        "'''\n",
        "#random_forest = RandomForestRegressor(n_estimators = n_estimators, max_depth = max_depth, min_samples_split=min_samples_split)\n",
        "random_forest = RandomForestRegressor()\n",
        "random_forest.fit(X_train,y_train)\n",
        "print_error(X_test,y_test, random_forest)"
      ]
    },
    {
      "cell_type": "code",
      "execution_count": 62,
      "metadata": {},
      "outputs": [
        {
          "data": {
            "text/plain": [
              "array([  24.75,   41.16,    4.51, ...,   10.88, 1581.82,   47.  ])"
            ]
          },
          "execution_count": 62,
          "metadata": {},
          "output_type": "execute_result"
        }
      ],
      "source": [
        "y_pred_rf = random_forest.predict(X_test)\n",
        "y_pred_rf"
      ]
    },
    {
      "cell_type": "code",
      "execution_count": 63,
      "metadata": {},
      "outputs": [
        {
          "data": {
            "text/plain": [
              "0.11114964287556084"
            ]
          },
          "execution_count": 63,
          "metadata": {},
          "output_type": "execute_result"
        }
      ],
      "source": [
        "metrics.r2_score(y_test, y_pred_rf)"
      ]
    },
    {
      "cell_type": "code",
      "execution_count": 64,
      "metadata": {},
      "outputs": [
        {
          "data": {
            "image/png": "[encoded data removed]",
            "text/plain": [
              "<Figure size 432x288 with 1 Axes>"
            ]
          },
          "metadata": {},
          "output_type": "display_data"
        }
      ],
      "source": [
        "plt.scatter(y_test, y_pred_rf, alpha = 0.5)\n",
        "plt.xlabel(\"y_test\")\n",
        "plt.ylabel(\"y_pred_rf\")\n",
        "plt.show()"
      ]
    },
    {
      "cell_type": "code",
      "execution_count": 97,
      "metadata": {},
      "outputs": [
        {
          "name": "stdout",
          "output_type": "stream",
          "text": [
            "Fitting 3 folds for each of 288 candidates, totalling 864 fits\n"
          ]
        },
        {
          "name": "stderr",
          "output_type": "stream",
          "text": [
            "c:\\Users\\debna\\anaconda3\\lib\\site-packages\\sklearn\\model_selection\\_search.py:926: DataConversionWarning: A column-vector y was passed when a 1d array was expected. Please change the shape of y to (n_samples,), for example using ravel().\n",
            "  self.best_estimator_.fit(X, y, **fit_params)\n"
          ]
        },
        {
          "data": {
            "text/plain": [
              "GridSearchCV(cv=3, estimator=RandomForestRegressor(), n_jobs=-1,\n",
              "             param_grid={'bootstrap': [True], 'max_depth': [80, 90, 100, 110],\n",
              "                         'max_features': ['sqrt', 'log2'],\n",
              "                         'min_samples_leaf': [3, 4, 5],\n",
              "                         'min_samples_split': [8, 10, 12],\n",
              "                         'n_estimators': [100, 200, 300, 1000]},\n",
              "             verbose=2)"
            ]
          },
          "execution_count": 97,
          "metadata": {},
          "output_type": "execute_result"
        }
      ],
      "source": [
        "from sklearn.model_selection import GridSearchCV,RandomizedSearchCV\n",
        "\n",
        "grid = { \n",
        "     'bootstrap': [True],\n",
        "    'max_depth': [80, 90, 100, 110],\n",
        "    'max_features': ['sqrt','log2'],\n",
        "    'min_samples_leaf': [3, 4, 5],\n",
        "    'min_samples_split': [8, 10, 12],\n",
        "    'n_estimators': [100, 200, 300, 1000]\n",
        "}\n",
        "\n",
        "## Grid Search function\n",
        "CV_rfr = GridSearchCV(estimator=RandomForestRegressor(), param_grid=grid, cv= 3,n_jobs = -1, verbose = 2)\n",
        "CV_rfr.fit(X_train, y_train)"
      ]
    },
    {
      "cell_type": "code",
      "execution_count": 98,
      "metadata": {},
      "outputs": [
        {
          "data": {
            "text/plain": [
              "{'bootstrap': True,\n",
              " 'max_depth': 100,\n",
              " 'max_features': 'sqrt',\n",
              " 'min_samples_leaf': 3,\n",
              " 'min_samples_split': 10,\n",
              " 'n_estimators': 300}"
            ]
          },
          "execution_count": 98,
          "metadata": {},
          "output_type": "execute_result"
        }
      ],
      "source": [
        "CV_rfr.best_params_"
      ]
    },
    {
      "cell_type": "code",
      "execution_count": 99,
      "metadata": {},
      "outputs": [
        {
          "data": {
            "text/plain": [
              "0.04316626172210055"
            ]
          },
          "execution_count": 99,
          "metadata": {},
          "output_type": "execute_result"
        }
      ],
      "source": [
        "CV_rfr.best_score_"
      ]
    },
    {
      "cell_type": "code",
      "execution_count": 100,
      "metadata": {},
      "outputs": [
        {
          "data": {
            "text/plain": [
              "RandomForestRegressor(max_depth=100, max_features='sqrt', min_samples_leaf=3,\n",
              "                      min_samples_split=10, n_estimators=300)"
            ]
          },
          "execution_count": 100,
          "metadata": {},
          "output_type": "execute_result"
        }
      ],
      "source": [
        "CV_rfr.best_estimator_"
      ]
    },
    {
      "cell_type": "code",
      "execution_count": 65,
      "metadata": {},
      "outputs": [
        {
          "name": "stderr",
          "output_type": "stream",
          "text": [
            "C:\\Users\\debna\\AppData\\Local\\Temp/ipykernel_10544/4148421538.py:3: DataConversionWarning: A column-vector y was passed when a 1d array was expected. Please change the shape of y to (n_samples,), for example using ravel().\n",
            "  random_forest1.fit(X_train,y_train)\n"
          ]
        },
        {
          "name": "stdout",
          "output_type": "stream",
          "text": [
            "Mean Absolute Error: 3313.7121755073395\n",
            "Mean Squared Error: 787686844.714959\n",
            "Root Mean Squared Error: 28065.75929339805\n"
          ]
        }
      ],
      "source": [
        "random_forest1 = RandomForestRegressor(max_depth=110, max_features='log2', min_samples_leaf=3,\n",
        "                      min_samples_split=8)\n",
        "random_forest1.fit(X_train,y_train)\n",
        "print_error(X_test,y_test, random_forest1)"
      ]
    },
    {
      "cell_type": "code",
      "execution_count": 66,
      "metadata": {},
      "outputs": [
        {
          "data": {
            "text/plain": [
              "0.0519048514986975"
            ]
          },
          "execution_count": 66,
          "metadata": {},
          "output_type": "execute_result"
        }
      ],
      "source": [
        "y_pred_rf1 =random_forest1.predict(X_test)\n",
        "metrics.r2_score(y_test, y_pred_rf1)"
      ]
    },
    {
      "cell_type": "code",
      "execution_count": 67,
      "metadata": {},
      "outputs": [
        {
          "data": {
            "image/png": "[encoded data removed]",
            "text/plain": [
              "<Figure size 432x288 with 1 Axes>"
            ]
          },
          "metadata": {},
          "output_type": "display_data"
        }
      ],
      "source": [
        "plt.scatter(y_test, y_pred_rf1, alpha = 0.5)\n",
        "plt.xlabel(\"y_test\")\n",
        "plt.ylabel(\"y_pred_rf1\")\n",
        "plt.show()"
      ]
    },
    {
      "cell_type": "code",
      "execution_count": 68,
      "metadata": {},
      "outputs": [
        {
          "name": "stderr",
          "output_type": "stream",
          "text": [
            "C:\\Users\\debna\\AppData\\Local\\Temp/ipykernel_10544/109475092.py:2: DataConversionWarning: A column-vector y was passed when a 1d array was expected. Please change the shape of y to (n_samples,), for example using ravel().\n",
            "  random_forest2.fit(X_train,y_train)\n"
          ]
        },
        {
          "name": "stdout",
          "output_type": "stream",
          "text": [
            "Mean Absolute Error: 3236.5362632026695\n",
            "Mean Squared Error: 715604513.7055233\n",
            "Root Mean Squared Error: 26750.7852913802\n"
          ]
        }
      ],
      "source": [
        "random_forest2 = RandomForestRegressor(n_estimators = 400, max_depth = 6, max_features= 'sqrt')\n",
        "random_forest2.fit(X_train,y_train)\n",
        "print_error(X_test,y_test, random_forest2)"
      ]
    },
    {
      "cell_type": "code",
      "execution_count": 69,
      "metadata": {},
      "outputs": [
        {
          "data": {
            "text/plain": [
              "0.1386663719953889"
            ]
          },
          "execution_count": 69,
          "metadata": {},
          "output_type": "execute_result"
        }
      ],
      "source": [
        "y_pred_rf2 =random_forest2.predict(X_test)\n",
        "metrics.r2_score(y_test, y_pred_rf2)"
      ]
    },
    {
      "cell_type": "code",
      "execution_count": 70,
      "metadata": {},
      "outputs": [
        {
          "data": {
            "image/png": "[encoded data removed]",
            "text/plain": [
              "<Figure size 432x288 with 1 Axes>"
            ]
          },
          "metadata": {},
          "output_type": "display_data"
        }
      ],
      "source": [
        "plt.scatter(y_test, y_pred_rf2, alpha = 0.5)\n",
        "plt.xlabel(\"y_test\")\n",
        "plt.ylabel(\"y_pred_rf2\")\n",
        "plt.show()"
      ]
    },
    {
      "cell_type": "markdown",
      "metadata": {},
      "source": [
        "# XGBoost Regression"
      ]
    },
    {
      "cell_type": "code",
      "execution_count": 71,
      "metadata": {},
      "outputs": [],
      "source": [
        "import xgboost as xgb\n",
        "#xg_reg = xgb.XGBRegressor(objective ='reg:linear', colsample_bytree = 0.3, learning_rate = 0.1,max_depth = 5, alpha = 10, n_estimators = 10)\n",
        "xg_reg = xgb.XGBRegressor()"
      ]
    },
    {
      "cell_type": "code",
      "execution_count": 72,
      "metadata": {},
      "outputs": [
        {
          "data": {
            "text/plain": [
              "0.06996371124781708"
            ]
          },
          "execution_count": 72,
          "metadata": {},
          "output_type": "execute_result"
        }
      ],
      "source": [
        "xg_reg.fit(X_train,y_train)\n",
        "y_pred_xgb =xg_reg.predict(X_test)\n",
        "metrics.r2_score(y_test, y_pred_xgb)\n"
      ]
    },
    {
      "cell_type": "code",
      "execution_count": 73,
      "metadata": {},
      "outputs": [
        {
          "data": {
            "image/png": "[encoded data removed]",
            "text/plain": [
              "<Figure size 432x288 with 1 Axes>"
            ]
          },
          "metadata": {},
          "output_type": "display_data"
        }
      ],
      "source": [
        "plt.scatter(y_test, y_pred_xgb, alpha = 0.5)\n",
        "plt.xlabel(\"y_test\")\n",
        "plt.ylabel(\"y_pred_xgb\")\n",
        "plt.show()"
      ]
    },
    {
      "cell_type": "code",
      "execution_count": 111,
      "metadata": {},
      "outputs": [],
      "source": [
        "params = { 'max_depth': [3,6,10],\n",
        "           'learning_rate': [0.01, 0.05, 0.1],\n",
        "           'n_estimators': [100, 500, 1000],\n",
        "           'colsample_bytree': [0.3, 0.7]}\n",
        "cv_xgb = GridSearchCV(estimator=xgb.XGBRegressor(), \n",
        "                   param_grid=params,\n",
        "                   scoring='neg_mean_squared_error', \n",
        "                   verbose=2)"
      ]
    },
    {
      "cell_type": "code",
      "execution_count": 112,
      "metadata": {},
      "outputs": [
        {
          "name": "stdout",
          "output_type": "stream",
          "text": [
            "Fitting 5 folds for each of 54 candidates, totalling 270 fits\n",
            "[CV] END colsample_bytree=0.3, learning_rate=0.01, max_depth=3, n_estimators=100; total time=   0.3s\n",
            "[CV] END colsample_bytree=0.3, learning_rate=0.01, max_depth=3, n_estimators=100; total time=   0.3s\n",
            "[CV] END colsample_bytree=0.3, learning_rate=0.01, max_depth=3, n_estimators=100; total time=   0.3s\n",
            "[CV] END colsample_bytree=0.3, learning_rate=0.01, max_depth=3, n_estimators=100; total time=   0.3s\n",
            "[CV] END colsample_bytree=0.3, learning_rate=0.01, max_depth=3, n_estimators=100; total time=   0.3s\n",
            "[CV] END colsample_bytree=0.3, learning_rate=0.01, max_depth=3, n_estimators=500; total time=   1.7s\n",
            "[CV] END colsample_bytree=0.3, learning_rate=0.01, max_depth=3, n_estimators=500; total time=   1.6s\n",
            "[CV] END colsample_bytree=0.3, learning_rate=0.01, max_depth=3, n_estimators=500; total time=   1.8s\n",
            "[CV] END colsample_bytree=0.3, learning_rate=0.01, max_depth=3, n_estimators=500; total time=   1.6s\n",
            "[CV] END colsample_bytree=0.3, learning_rate=0.01, max_depth=3, n_estimators=500; total time=   1.5s\n",
            "[CV] END colsample_bytree=0.3, learning_rate=0.01, max_depth=3, n_estimators=1000; total time=   2.9s\n",
            "[CV] END colsample_bytree=0.3, learning_rate=0.01, max_depth=3, n_estimators=1000; total time=   2.9s\n",
            "[CV] END colsample_bytree=0.3, learning_rate=0.01, max_depth=3, n_estimators=1000; total time=   3.0s\n",
            "[CV] END colsample_bytree=0.3, learning_rate=0.01, max_depth=3, n_estimators=1000; total time=   3.2s\n",
            "[CV] END colsample_bytree=0.3, learning_rate=0.01, max_depth=3, n_estimators=1000; total time=   3.2s\n",
            "[CV] END colsample_bytree=0.3, learning_rate=0.01, max_depth=6, n_estimators=100; total time=   0.7s\n",
            "[CV] END colsample_bytree=0.3, learning_rate=0.01, max_depth=6, n_estimators=100; total time=   0.7s\n",
            "[CV] END colsample_bytree=0.3, learning_rate=0.01, max_depth=6, n_estimators=100; total time=   0.7s\n",
            "[CV] END colsample_bytree=0.3, learning_rate=0.01, max_depth=6, n_estimators=100; total time=   0.7s\n",
            "[CV] END colsample_bytree=0.3, learning_rate=0.01, max_depth=6, n_estimators=100; total time=   0.6s\n",
            "[CV] END colsample_bytree=0.3, learning_rate=0.01, max_depth=6, n_estimators=500; total time=   3.2s\n",
            "[CV] END colsample_bytree=0.3, learning_rate=0.01, max_depth=6, n_estimators=500; total time=   3.1s\n",
            "[CV] END colsample_bytree=0.3, learning_rate=0.01, max_depth=6, n_estimators=500; total time=   3.1s\n",
            "[CV] END colsample_bytree=0.3, learning_rate=0.01, max_depth=6, n_estimators=500; total time=   2.8s\n",
            "[CV] END colsample_bytree=0.3, learning_rate=0.01, max_depth=6, n_estimators=500; total time=   2.9s\n",
            "[CV] END colsample_bytree=0.3, learning_rate=0.01, max_depth=6, n_estimators=1000; total time=   5.9s\n",
            "[CV] END colsample_bytree=0.3, learning_rate=0.01, max_depth=6, n_estimators=1000; total time=   6.2s\n",
            "[CV] END colsample_bytree=0.3, learning_rate=0.01, max_depth=6, n_estimators=1000; total time=   6.3s\n",
            "[CV] END colsample_bytree=0.3, learning_rate=0.01, max_depth=6, n_estimators=1000; total time=   5.6s\n",
            "[CV] END colsample_bytree=0.3, learning_rate=0.01, max_depth=6, n_estimators=1000; total time=   5.6s\n",
            "[CV] END colsample_bytree=0.3, learning_rate=0.01, max_depth=10, n_estimators=100; total time=   1.2s\n",
            "[CV] END colsample_bytree=0.3, learning_rate=0.01, max_depth=10, n_estimators=100; total time=   1.3s\n",
            "[CV] END colsample_bytree=0.3, learning_rate=0.01, max_depth=10, n_estimators=100; total time=   1.2s\n",
            "[CV] END colsample_bytree=0.3, learning_rate=0.01, max_depth=10, n_estimators=100; total time=   1.2s\n",
            "[CV] END colsample_bytree=0.3, learning_rate=0.01, max_depth=10, n_estimators=100; total time=   1.2s\n",
            "[CV] END colsample_bytree=0.3, learning_rate=0.01, max_depth=10, n_estimators=500; total time=   5.9s\n",
            "[CV] END colsample_bytree=0.3, learning_rate=0.01, max_depth=10, n_estimators=500; total time=   6.6s\n",
            "[CV] END colsample_bytree=0.3, learning_rate=0.01, max_depth=10, n_estimators=500; total time=   6.2s\n",
            "[CV] END colsample_bytree=0.3, learning_rate=0.01, max_depth=10, n_estimators=500; total time=   6.6s\n",
            "[CV] END colsample_bytree=0.3, learning_rate=0.01, max_depth=10, n_estimators=500; total time=   6.6s\n",
            "[CV] END colsample_bytree=0.3, learning_rate=0.01, max_depth=10, n_estimators=1000; total time=  12.0s\n",
            "[CV] END colsample_bytree=0.3, learning_rate=0.01, max_depth=10, n_estimators=1000; total time=  12.5s\n",
            "[CV] END colsample_bytree=0.3, learning_rate=0.01, max_depth=10, n_estimators=1000; total time=  12.1s\n",
            "[CV] END colsample_bytree=0.3, learning_rate=0.01, max_depth=10, n_estimators=1000; total time=  12.3s\n",
            "[CV] END colsample_bytree=0.3, learning_rate=0.01, max_depth=10, n_estimators=1000; total time=  12.4s\n",
            "[CV] END colsample_bytree=0.3, learning_rate=0.05, max_depth=3, n_estimators=100; total time=   0.2s\n",
            "[CV] END colsample_bytree=0.3, learning_rate=0.05, max_depth=3, n_estimators=100; total time=   0.2s\n",
            "[CV] END colsample_bytree=0.3, learning_rate=0.05, max_depth=3, n_estimators=100; total time=   0.2s\n",
            "[CV] END colsample_bytree=0.3, learning_rate=0.05, max_depth=3, n_estimators=100; total time=   0.3s\n",
            "[CV] END colsample_bytree=0.3, learning_rate=0.05, max_depth=3, n_estimators=100; total time=   0.3s\n",
            "[CV] END colsample_bytree=0.3, learning_rate=0.05, max_depth=3, n_estimators=500; total time=   1.5s\n",
            "[CV] END colsample_bytree=0.3, learning_rate=0.05, max_depth=3, n_estimators=500; total time=   1.5s\n",
            "[CV] END colsample_bytree=0.3, learning_rate=0.05, max_depth=3, n_estimators=500; total time=   1.4s\n",
            "[CV] END colsample_bytree=0.3, learning_rate=0.05, max_depth=3, n_estimators=500; total time=   1.5s\n",
            "[CV] END colsample_bytree=0.3, learning_rate=0.05, max_depth=3, n_estimators=500; total time=   1.5s\n",
            "[CV] END colsample_bytree=0.3, learning_rate=0.05, max_depth=3, n_estimators=1000; total time=   3.1s\n",
            "[CV] END colsample_bytree=0.3, learning_rate=0.05, max_depth=3, n_estimators=1000; total time=   3.0s\n",
            "[CV] END colsample_bytree=0.3, learning_rate=0.05, max_depth=3, n_estimators=1000; total time=   3.2s\n",
            "[CV] END colsample_bytree=0.3, learning_rate=0.05, max_depth=3, n_estimators=1000; total time=   3.8s\n",
            "[CV] END colsample_bytree=0.3, learning_rate=0.05, max_depth=3, n_estimators=1000; total time=   3.6s\n",
            "[CV] END colsample_bytree=0.3, learning_rate=0.05, max_depth=6, n_estimators=100; total time=   0.7s\n",
            "[CV] END colsample_bytree=0.3, learning_rate=0.05, max_depth=6, n_estimators=100; total time=   0.7s\n",
            "[CV] END colsample_bytree=0.3, learning_rate=0.05, max_depth=6, n_estimators=100; total time=   0.9s\n",
            "[CV] END colsample_bytree=0.3, learning_rate=0.05, max_depth=6, n_estimators=100; total time=   0.9s\n",
            "[CV] END colsample_bytree=0.3, learning_rate=0.05, max_depth=6, n_estimators=100; total time=   0.8s\n",
            "[CV] END colsample_bytree=0.3, learning_rate=0.05, max_depth=6, n_estimators=500; total time=   3.9s\n",
            "[CV] END colsample_bytree=0.3, learning_rate=0.05, max_depth=6, n_estimators=500; total time=   3.4s\n",
            "[CV] END colsample_bytree=0.3, learning_rate=0.05, max_depth=6, n_estimators=500; total time=   3.3s\n",
            "[CV] END colsample_bytree=0.3, learning_rate=0.05, max_depth=6, n_estimators=500; total time=   3.2s\n",
            "[CV] END colsample_bytree=0.3, learning_rate=0.05, max_depth=6, n_estimators=500; total time=   3.0s\n",
            "[CV] END colsample_bytree=0.3, learning_rate=0.05, max_depth=6, n_estimators=1000; total time=   6.2s\n",
            "[CV] END colsample_bytree=0.3, learning_rate=0.05, max_depth=6, n_estimators=1000; total time=   6.1s\n",
            "[CV] END colsample_bytree=0.3, learning_rate=0.05, max_depth=6, n_estimators=1000; total time=   6.0s\n",
            "[CV] END colsample_bytree=0.3, learning_rate=0.05, max_depth=6, n_estimators=1000; total time=   5.9s\n",
            "[CV] END colsample_bytree=0.3, learning_rate=0.05, max_depth=6, n_estimators=1000; total time=   5.9s\n",
            "[CV] END colsample_bytree=0.3, learning_rate=0.05, max_depth=10, n_estimators=100; total time=   1.2s\n",
            "[CV] END colsample_bytree=0.3, learning_rate=0.05, max_depth=10, n_estimators=100; total time=   1.4s\n",
            "[CV] END colsample_bytree=0.3, learning_rate=0.05, max_depth=10, n_estimators=100; total time=   1.3s\n",
            "[CV] END colsample_bytree=0.3, learning_rate=0.05, max_depth=10, n_estimators=100; total time=   1.2s\n",
            "[CV] END colsample_bytree=0.3, learning_rate=0.05, max_depth=10, n_estimators=100; total time=   1.2s\n",
            "[CV] END colsample_bytree=0.3, learning_rate=0.05, max_depth=10, n_estimators=500; total time=   6.0s\n",
            "[CV] END colsample_bytree=0.3, learning_rate=0.05, max_depth=10, n_estimators=500; total time=   6.2s\n",
            "[CV] END colsample_bytree=0.3, learning_rate=0.05, max_depth=10, n_estimators=500; total time=   6.1s\n",
            "[CV] END colsample_bytree=0.3, learning_rate=0.05, max_depth=10, n_estimators=500; total time=   6.0s\n",
            "[CV] END colsample_bytree=0.3, learning_rate=0.05, max_depth=10, n_estimators=500; total time=   6.1s\n",
            "[CV] END colsample_bytree=0.3, learning_rate=0.05, max_depth=10, n_estimators=1000; total time=  11.8s\n",
            "[CV] END colsample_bytree=0.3, learning_rate=0.05, max_depth=10, n_estimators=1000; total time=  12.8s\n",
            "[CV] END colsample_bytree=0.3, learning_rate=0.05, max_depth=10, n_estimators=1000; total time=  12.0s\n",
            "[CV] END colsample_bytree=0.3, learning_rate=0.05, max_depth=10, n_estimators=1000; total time=  12.8s\n",
            "[CV] END colsample_bytree=0.3, learning_rate=0.05, max_depth=10, n_estimators=1000; total time=  11.6s\n",
            "[CV] END colsample_bytree=0.3, learning_rate=0.1, max_depth=3, n_estimators=100; total time=   0.2s\n",
            "[CV] END colsample_bytree=0.3, learning_rate=0.1, max_depth=3, n_estimators=100; total time=   0.2s\n",
            "[CV] END colsample_bytree=0.3, learning_rate=0.1, max_depth=3, n_estimators=100; total time=   0.2s\n",
            "[CV] END colsample_bytree=0.3, learning_rate=0.1, max_depth=3, n_estimators=100; total time=   0.2s\n",
            "[CV] END colsample_bytree=0.3, learning_rate=0.1, max_depth=3, n_estimators=100; total time=   0.3s\n",
            "[CV] END colsample_bytree=0.3, learning_rate=0.1, max_depth=3, n_estimators=500; total time=   1.5s\n",
            "[CV] END colsample_bytree=0.3, learning_rate=0.1, max_depth=3, n_estimators=500; total time=   1.5s\n",
            "[CV] END colsample_bytree=0.3, learning_rate=0.1, max_depth=3, n_estimators=500; total time=   1.5s\n",
            "[CV] END colsample_bytree=0.3, learning_rate=0.1, max_depth=3, n_estimators=500; total time=   1.5s\n",
            "[CV] END colsample_bytree=0.3, learning_rate=0.1, max_depth=3, n_estimators=500; total time=   1.4s\n",
            "[CV] END colsample_bytree=0.3, learning_rate=0.1, max_depth=3, n_estimators=1000; total time=   2.8s\n",
            "[CV] END colsample_bytree=0.3, learning_rate=0.1, max_depth=3, n_estimators=1000; total time=   2.9s\n",
            "[CV] END colsample_bytree=0.3, learning_rate=0.1, max_depth=3, n_estimators=1000; total time=   2.9s\n",
            "[CV] END colsample_bytree=0.3, learning_rate=0.1, max_depth=3, n_estimators=1000; total time=   3.0s\n",
            "[CV] END colsample_bytree=0.3, learning_rate=0.1, max_depth=3, n_estimators=1000; total time=   2.9s\n",
            "[CV] END colsample_bytree=0.3, learning_rate=0.1, max_depth=6, n_estimators=100; total time=   0.5s\n",
            "[CV] END colsample_bytree=0.3, learning_rate=0.1, max_depth=6, n_estimators=100; total time=   0.5s\n",
            "[CV] END colsample_bytree=0.3, learning_rate=0.1, max_depth=6, n_estimators=100; total time=   0.5s\n",
            "[CV] END colsample_bytree=0.3, learning_rate=0.1, max_depth=6, n_estimators=100; total time=   0.5s\n",
            "[CV] END colsample_bytree=0.3, learning_rate=0.1, max_depth=6, n_estimators=100; total time=   0.5s\n",
            "[CV] END colsample_bytree=0.3, learning_rate=0.1, max_depth=6, n_estimators=500; total time=   2.9s\n",
            "[CV] END colsample_bytree=0.3, learning_rate=0.1, max_depth=6, n_estimators=500; total time=   3.0s\n",
            "[CV] END colsample_bytree=0.3, learning_rate=0.1, max_depth=6, n_estimators=500; total time=   2.8s\n",
            "[CV] END colsample_bytree=0.3, learning_rate=0.1, max_depth=6, n_estimators=500; total time=   2.8s\n",
            "[CV] END colsample_bytree=0.3, learning_rate=0.1, max_depth=6, n_estimators=500; total time=   2.8s\n",
            "[CV] END colsample_bytree=0.3, learning_rate=0.1, max_depth=6, n_estimators=1000; total time=   5.7s\n",
            "[CV] END colsample_bytree=0.3, learning_rate=0.1, max_depth=6, n_estimators=1000; total time=   5.7s\n",
            "[CV] END colsample_bytree=0.3, learning_rate=0.1, max_depth=6, n_estimators=1000; total time=   5.5s\n",
            "[CV] END colsample_bytree=0.3, learning_rate=0.1, max_depth=6, n_estimators=1000; total time=   5.5s\n",
            "[CV] END colsample_bytree=0.3, learning_rate=0.1, max_depth=6, n_estimators=1000; total time=   5.8s\n",
            "[CV] END colsample_bytree=0.3, learning_rate=0.1, max_depth=10, n_estimators=100; total time=   1.3s\n",
            "[CV] END colsample_bytree=0.3, learning_rate=0.1, max_depth=10, n_estimators=100; total time=   1.5s\n",
            "[CV] END colsample_bytree=0.3, learning_rate=0.1, max_depth=10, n_estimators=100; total time=   1.3s\n",
            "[CV] END colsample_bytree=0.3, learning_rate=0.1, max_depth=10, n_estimators=100; total time=   1.5s\n",
            "[CV] END colsample_bytree=0.3, learning_rate=0.1, max_depth=10, n_estimators=100; total time=   1.3s\n",
            "[CV] END colsample_bytree=0.3, learning_rate=0.1, max_depth=10, n_estimators=500; total time=   6.2s\n",
            "[CV] END colsample_bytree=0.3, learning_rate=0.1, max_depth=10, n_estimators=500; total time=   6.3s\n",
            "[CV] END colsample_bytree=0.3, learning_rate=0.1, max_depth=10, n_estimators=500; total time=   5.9s\n",
            "[CV] END colsample_bytree=0.3, learning_rate=0.1, max_depth=10, n_estimators=500; total time=   5.9s\n",
            "[CV] END colsample_bytree=0.3, learning_rate=0.1, max_depth=10, n_estimators=500; total time=   6.1s\n",
            "[CV] END colsample_bytree=0.3, learning_rate=0.1, max_depth=10, n_estimators=1000; total time=  11.6s\n",
            "[CV] END colsample_bytree=0.3, learning_rate=0.1, max_depth=10, n_estimators=1000; total time=  11.7s\n",
            "[CV] END colsample_bytree=0.3, learning_rate=0.1, max_depth=10, n_estimators=1000; total time=  11.2s\n",
            "[CV] END colsample_bytree=0.3, learning_rate=0.1, max_depth=10, n_estimators=1000; total time=  11.4s\n",
            "[CV] END colsample_bytree=0.3, learning_rate=0.1, max_depth=10, n_estimators=1000; total time=  11.3s\n",
            "[CV] END colsample_bytree=0.7, learning_rate=0.01, max_depth=3, n_estimators=100; total time=   0.3s\n",
            "[CV] END colsample_bytree=0.7, learning_rate=0.01, max_depth=3, n_estimators=100; total time=   0.4s\n",
            "[CV] END colsample_bytree=0.7, learning_rate=0.01, max_depth=3, n_estimators=100; total time=   0.3s\n",
            "[CV] END colsample_bytree=0.7, learning_rate=0.01, max_depth=3, n_estimators=100; total time=   0.4s\n",
            "[CV] END colsample_bytree=0.7, learning_rate=0.01, max_depth=3, n_estimators=100; total time=   0.3s\n",
            "[CV] END colsample_bytree=0.7, learning_rate=0.01, max_depth=3, n_estimators=500; total time=   1.9s\n",
            "[CV] END colsample_bytree=0.7, learning_rate=0.01, max_depth=3, n_estimators=500; total time=   2.0s\n",
            "[CV] END colsample_bytree=0.7, learning_rate=0.01, max_depth=3, n_estimators=500; total time=   1.8s\n",
            "[CV] END colsample_bytree=0.7, learning_rate=0.01, max_depth=3, n_estimators=500; total time=   2.1s\n",
            "[CV] END colsample_bytree=0.7, learning_rate=0.01, max_depth=3, n_estimators=500; total time=   2.0s\n",
            "[CV] END colsample_bytree=0.7, learning_rate=0.01, max_depth=3, n_estimators=1000; total time=   4.0s\n",
            "[CV] END colsample_bytree=0.7, learning_rate=0.01, max_depth=3, n_estimators=1000; total time=   4.0s\n",
            "[CV] END colsample_bytree=0.7, learning_rate=0.01, max_depth=3, n_estimators=1000; total time=   3.9s\n",
            "[CV] END colsample_bytree=0.7, learning_rate=0.01, max_depth=3, n_estimators=1000; total time=   3.9s\n",
            "[CV] END colsample_bytree=0.7, learning_rate=0.01, max_depth=3, n_estimators=1000; total time=   3.9s\n",
            "[CV] END colsample_bytree=0.7, learning_rate=0.01, max_depth=6, n_estimators=100; total time=   0.8s\n",
            "[CV] END colsample_bytree=0.7, learning_rate=0.01, max_depth=6, n_estimators=100; total time=   0.8s\n",
            "[CV] END colsample_bytree=0.7, learning_rate=0.01, max_depth=6, n_estimators=100; total time=   0.8s\n",
            "[CV] END colsample_bytree=0.7, learning_rate=0.01, max_depth=6, n_estimators=100; total time=   0.8s\n",
            "[CV] END colsample_bytree=0.7, learning_rate=0.01, max_depth=6, n_estimators=100; total time=   0.8s\n",
            "[CV] END colsample_bytree=0.7, learning_rate=0.01, max_depth=6, n_estimators=500; total time=   4.0s\n",
            "[CV] END colsample_bytree=0.7, learning_rate=0.01, max_depth=6, n_estimators=500; total time=   4.2s\n",
            "[CV] END colsample_bytree=0.7, learning_rate=0.01, max_depth=6, n_estimators=500; total time=   3.9s\n",
            "[CV] END colsample_bytree=0.7, learning_rate=0.01, max_depth=6, n_estimators=500; total time=   3.9s\n",
            "[CV] END colsample_bytree=0.7, learning_rate=0.01, max_depth=6, n_estimators=500; total time=   4.0s\n",
            "[CV] END colsample_bytree=0.7, learning_rate=0.01, max_depth=6, n_estimators=1000; total time=   8.0s\n",
            "[CV] END colsample_bytree=0.7, learning_rate=0.01, max_depth=6, n_estimators=1000; total time=   8.0s\n",
            "[CV] END colsample_bytree=0.7, learning_rate=0.01, max_depth=6, n_estimators=1000; total time=   7.9s\n",
            "[CV] END colsample_bytree=0.7, learning_rate=0.01, max_depth=6, n_estimators=1000; total time=   7.7s\n",
            "[CV] END colsample_bytree=0.7, learning_rate=0.01, max_depth=6, n_estimators=1000; total time=   7.9s\n",
            "[CV] END colsample_bytree=0.7, learning_rate=0.01, max_depth=10, n_estimators=100; total time=   1.6s\n",
            "[CV] END colsample_bytree=0.7, learning_rate=0.01, max_depth=10, n_estimators=100; total time=   1.8s\n",
            "[CV] END colsample_bytree=0.7, learning_rate=0.01, max_depth=10, n_estimators=100; total time=   1.6s\n",
            "[CV] END colsample_bytree=0.7, learning_rate=0.01, max_depth=10, n_estimators=100; total time=   1.6s\n",
            "[CV] END colsample_bytree=0.7, learning_rate=0.01, max_depth=10, n_estimators=100; total time=   1.6s\n",
            "[CV] END colsample_bytree=0.7, learning_rate=0.01, max_depth=10, n_estimators=500; total time=   8.1s\n",
            "[CV] END colsample_bytree=0.7, learning_rate=0.01, max_depth=10, n_estimators=500; total time=   8.8s\n",
            "[CV] END colsample_bytree=0.7, learning_rate=0.01, max_depth=10, n_estimators=500; total time=   8.1s\n",
            "[CV] END colsample_bytree=0.7, learning_rate=0.01, max_depth=10, n_estimators=500; total time=   7.7s\n",
            "[CV] END colsample_bytree=0.7, learning_rate=0.01, max_depth=10, n_estimators=500; total time=   8.1s\n",
            "[CV] END colsample_bytree=0.7, learning_rate=0.01, max_depth=10, n_estimators=1000; total time=  16.3s\n",
            "[CV] END colsample_bytree=0.7, learning_rate=0.01, max_depth=10, n_estimators=1000; total time=  17.7s\n",
            "[CV] END colsample_bytree=0.7, learning_rate=0.01, max_depth=10, n_estimators=1000; total time=  15.7s\n",
            "[CV] END colsample_bytree=0.7, learning_rate=0.01, max_depth=10, n_estimators=1000; total time=  15.4s\n",
            "[CV] END colsample_bytree=0.7, learning_rate=0.01, max_depth=10, n_estimators=1000; total time=  16.3s\n",
            "[CV] END colsample_bytree=0.7, learning_rate=0.05, max_depth=3, n_estimators=100; total time=   0.3s\n",
            "[CV] END colsample_bytree=0.7, learning_rate=0.05, max_depth=3, n_estimators=100; total time=   0.3s\n",
            "[CV] END colsample_bytree=0.7, learning_rate=0.05, max_depth=3, n_estimators=100; total time=   0.3s\n",
            "[CV] END colsample_bytree=0.7, learning_rate=0.05, max_depth=3, n_estimators=100; total time=   0.3s\n",
            "[CV] END colsample_bytree=0.7, learning_rate=0.05, max_depth=3, n_estimators=100; total time=   0.3s\n",
            "[CV] END colsample_bytree=0.7, learning_rate=0.05, max_depth=3, n_estimators=500; total time=   1.9s\n",
            "[CV] END colsample_bytree=0.7, learning_rate=0.05, max_depth=3, n_estimators=500; total time=   1.9s\n",
            "[CV] END colsample_bytree=0.7, learning_rate=0.05, max_depth=3, n_estimators=500; total time=   1.9s\n",
            "[CV] END colsample_bytree=0.7, learning_rate=0.05, max_depth=3, n_estimators=500; total time=   1.9s\n",
            "[CV] END colsample_bytree=0.7, learning_rate=0.05, max_depth=3, n_estimators=500; total time=   2.0s\n",
            "[CV] END colsample_bytree=0.7, learning_rate=0.05, max_depth=3, n_estimators=1000; total time=   3.8s\n",
            "[CV] END colsample_bytree=0.7, learning_rate=0.05, max_depth=3, n_estimators=1000; total time=   3.8s\n",
            "[CV] END colsample_bytree=0.7, learning_rate=0.05, max_depth=3, n_estimators=1000; total time=   3.8s\n",
            "[CV] END colsample_bytree=0.7, learning_rate=0.05, max_depth=3, n_estimators=1000; total time=   3.8s\n",
            "[CV] END colsample_bytree=0.7, learning_rate=0.05, max_depth=3, n_estimators=1000; total time=   3.9s\n",
            "[CV] END colsample_bytree=0.7, learning_rate=0.05, max_depth=6, n_estimators=100; total time=   0.8s\n",
            "[CV] END colsample_bytree=0.7, learning_rate=0.05, max_depth=6, n_estimators=100; total time=   0.8s\n",
            "[CV] END colsample_bytree=0.7, learning_rate=0.05, max_depth=6, n_estimators=100; total time=   0.7s\n",
            "[CV] END colsample_bytree=0.7, learning_rate=0.05, max_depth=6, n_estimators=100; total time=   0.7s\n",
            "[CV] END colsample_bytree=0.7, learning_rate=0.05, max_depth=6, n_estimators=100; total time=   0.8s\n",
            "[CV] END colsample_bytree=0.7, learning_rate=0.05, max_depth=6, n_estimators=500; total time=   3.8s\n",
            "[CV] END colsample_bytree=0.7, learning_rate=0.05, max_depth=6, n_estimators=500; total time=   3.9s\n",
            "[CV] END colsample_bytree=0.7, learning_rate=0.05, max_depth=6, n_estimators=500; total time=   3.8s\n",
            "[CV] END colsample_bytree=0.7, learning_rate=0.05, max_depth=6, n_estimators=500; total time=   3.9s\n",
            "[CV] END colsample_bytree=0.7, learning_rate=0.05, max_depth=6, n_estimators=500; total time=   3.9s\n",
            "[CV] END colsample_bytree=0.7, learning_rate=0.05, max_depth=6, n_estimators=1000; total time=   7.8s\n",
            "[CV] END colsample_bytree=0.7, learning_rate=0.05, max_depth=6, n_estimators=1000; total time=   7.9s\n",
            "[CV] END colsample_bytree=0.7, learning_rate=0.05, max_depth=6, n_estimators=1000; total time=   7.8s\n",
            "[CV] END colsample_bytree=0.7, learning_rate=0.05, max_depth=6, n_estimators=1000; total time=   8.0s\n",
            "[CV] END colsample_bytree=0.7, learning_rate=0.05, max_depth=6, n_estimators=1000; total time=   7.8s\n",
            "[CV] END colsample_bytree=0.7, learning_rate=0.05, max_depth=10, n_estimators=100; total time=   1.6s\n",
            "[CV] END colsample_bytree=0.7, learning_rate=0.05, max_depth=10, n_estimators=100; total time=   1.7s\n",
            "[CV] END colsample_bytree=0.7, learning_rate=0.05, max_depth=10, n_estimators=100; total time=   1.6s\n",
            "[CV] END colsample_bytree=0.7, learning_rate=0.05, max_depth=10, n_estimators=100; total time=   1.5s\n",
            "[CV] END colsample_bytree=0.7, learning_rate=0.05, max_depth=10, n_estimators=100; total time=   1.5s\n",
            "[CV] END colsample_bytree=0.7, learning_rate=0.05, max_depth=10, n_estimators=500; total time=   7.9s\n",
            "[CV] END colsample_bytree=0.7, learning_rate=0.05, max_depth=10, n_estimators=500; total time=   7.9s\n",
            "[CV] END colsample_bytree=0.7, learning_rate=0.05, max_depth=10, n_estimators=500; total time=   7.8s\n",
            "[CV] END colsample_bytree=0.7, learning_rate=0.05, max_depth=10, n_estimators=500; total time=   7.6s\n",
            "[CV] END colsample_bytree=0.7, learning_rate=0.05, max_depth=10, n_estimators=500; total time=   7.8s\n",
            "[CV] END colsample_bytree=0.7, learning_rate=0.05, max_depth=10, n_estimators=1000; total time=  15.5s\n",
            "[CV] END colsample_bytree=0.7, learning_rate=0.05, max_depth=10, n_estimators=1000; total time=  16.0s\n",
            "[CV] END colsample_bytree=0.7, learning_rate=0.05, max_depth=10, n_estimators=1000; total time=  15.8s\n",
            "[CV] END colsample_bytree=0.7, learning_rate=0.05, max_depth=10, n_estimators=1000; total time=  15.5s\n",
            "[CV] END colsample_bytree=0.7, learning_rate=0.05, max_depth=10, n_estimators=1000; total time=  15.7s\n",
            "[CV] END colsample_bytree=0.7, learning_rate=0.1, max_depth=3, n_estimators=100; total time=   0.3s\n",
            "[CV] END colsample_bytree=0.7, learning_rate=0.1, max_depth=3, n_estimators=100; total time=   0.3s\n",
            "[CV] END colsample_bytree=0.7, learning_rate=0.1, max_depth=3, n_estimators=100; total time=   0.3s\n",
            "[CV] END colsample_bytree=0.7, learning_rate=0.1, max_depth=3, n_estimators=100; total time=   0.3s\n",
            "[CV] END colsample_bytree=0.7, learning_rate=0.1, max_depth=3, n_estimators=100; total time=   0.3s\n",
            "[CV] END colsample_bytree=0.7, learning_rate=0.1, max_depth=3, n_estimators=500; total time=   1.9s\n",
            "[CV] END colsample_bytree=0.7, learning_rate=0.1, max_depth=3, n_estimators=500; total time=   1.9s\n",
            "[CV] END colsample_bytree=0.7, learning_rate=0.1, max_depth=3, n_estimators=500; total time=   1.9s\n",
            "[CV] END colsample_bytree=0.7, learning_rate=0.1, max_depth=3, n_estimators=500; total time=   2.0s\n",
            "[CV] END colsample_bytree=0.7, learning_rate=0.1, max_depth=3, n_estimators=500; total time=   1.9s\n",
            "[CV] END colsample_bytree=0.7, learning_rate=0.1, max_depth=3, n_estimators=1000; total time=   4.0s\n",
            "[CV] END colsample_bytree=0.7, learning_rate=0.1, max_depth=3, n_estimators=1000; total time=   3.9s\n",
            "[CV] END colsample_bytree=0.7, learning_rate=0.1, max_depth=3, n_estimators=1000; total time=   3.8s\n",
            "[CV] END colsample_bytree=0.7, learning_rate=0.1, max_depth=3, n_estimators=1000; total time=   3.9s\n",
            "[CV] END colsample_bytree=0.7, learning_rate=0.1, max_depth=3, n_estimators=1000; total time=   3.9s\n",
            "[CV] END colsample_bytree=0.7, learning_rate=0.1, max_depth=6, n_estimators=100; total time=   0.8s\n",
            "[CV] END colsample_bytree=0.7, learning_rate=0.1, max_depth=6, n_estimators=100; total time=   0.8s\n",
            "[CV] END colsample_bytree=0.7, learning_rate=0.1, max_depth=6, n_estimators=100; total time=   0.8s\n",
            "[CV] END colsample_bytree=0.7, learning_rate=0.1, max_depth=6, n_estimators=100; total time=   0.7s\n",
            "[CV] END colsample_bytree=0.7, learning_rate=0.1, max_depth=6, n_estimators=100; total time=   0.7s\n",
            "[CV] END colsample_bytree=0.7, learning_rate=0.1, max_depth=6, n_estimators=500; total time=   4.0s\n",
            "[CV] END colsample_bytree=0.7, learning_rate=0.1, max_depth=6, n_estimators=500; total time=   3.9s\n",
            "[CV] END colsample_bytree=0.7, learning_rate=0.1, max_depth=6, n_estimators=500; total time=   3.9s\n",
            "[CV] END colsample_bytree=0.7, learning_rate=0.1, max_depth=6, n_estimators=500; total time=   4.0s\n",
            "[CV] END colsample_bytree=0.7, learning_rate=0.1, max_depth=6, n_estimators=500; total time=   3.8s\n",
            "[CV] END colsample_bytree=0.7, learning_rate=0.1, max_depth=6, n_estimators=1000; total time=   8.1s\n",
            "[CV] END colsample_bytree=0.7, learning_rate=0.1, max_depth=6, n_estimators=1000; total time=   7.9s\n",
            "[CV] END colsample_bytree=0.7, learning_rate=0.1, max_depth=6, n_estimators=1000; total time=   7.7s\n",
            "[CV] END colsample_bytree=0.7, learning_rate=0.1, max_depth=6, n_estimators=1000; total time=   8.0s\n",
            "[CV] END colsample_bytree=0.7, learning_rate=0.1, max_depth=6, n_estimators=1000; total time=   7.8s\n",
            "[CV] END colsample_bytree=0.7, learning_rate=0.1, max_depth=10, n_estimators=100; total time=   1.5s\n",
            "[CV] END colsample_bytree=0.7, learning_rate=0.1, max_depth=10, n_estimators=100; total time=   1.7s\n",
            "[CV] END colsample_bytree=0.7, learning_rate=0.1, max_depth=10, n_estimators=100; total time=   1.5s\n",
            "[CV] END colsample_bytree=0.7, learning_rate=0.1, max_depth=10, n_estimators=100; total time=   1.5s\n",
            "[CV] END colsample_bytree=0.7, learning_rate=0.1, max_depth=10, n_estimators=100; total time=   1.5s\n",
            "[CV] END colsample_bytree=0.7, learning_rate=0.1, max_depth=10, n_estimators=500; total time=   7.7s\n",
            "[CV] END colsample_bytree=0.7, learning_rate=0.1, max_depth=10, n_estimators=500; total time=   7.8s\n",
            "[CV] END colsample_bytree=0.7, learning_rate=0.1, max_depth=10, n_estimators=500; total time=   7.9s\n",
            "[CV] END colsample_bytree=0.7, learning_rate=0.1, max_depth=10, n_estimators=500; total time=   7.8s\n",
            "[CV] END colsample_bytree=0.7, learning_rate=0.1, max_depth=10, n_estimators=500; total time=   7.8s\n",
            "[CV] END colsample_bytree=0.7, learning_rate=0.1, max_depth=10, n_estimators=1000; total time=  15.5s\n",
            "[CV] END colsample_bytree=0.7, learning_rate=0.1, max_depth=10, n_estimators=1000; total time=  15.4s\n",
            "[CV] END colsample_bytree=0.7, learning_rate=0.1, max_depth=10, n_estimators=1000; total time=  15.7s\n",
            "[CV] END colsample_bytree=0.7, learning_rate=0.1, max_depth=10, n_estimators=1000; total time=  15.4s\n",
            "[CV] END colsample_bytree=0.7, learning_rate=0.1, max_depth=10, n_estimators=1000; total time=  15.6s\n"
          ]
        },
        {
          "data": {
            "text/plain": [
              "GridSearchCV(estimator=XGBRegressor(base_score=None, booster=None,\n",
              "                                    colsample_bylevel=None,\n",
              "                                    colsample_bynode=None,\n",
              "                                    colsample_bytree=None,\n",
              "                                    enable_categorical=False, gamma=None,\n",
              "                                    gpu_id=None, importance_type=None,\n",
              "                                    interaction_constraints=None,\n",
              "                                    learning_rate=None, max_delta_step=None,\n",
              "                                    max_depth=None, min_child_weight=None,\n",
              "                                    missing=nan, monotone_constraints=None,\n",
              "                                    n_esti...\n",
              "                                    num_parallel_tree=None, predictor=None,\n",
              "                                    random_state=None, reg_alpha=None,\n",
              "                                    reg_lambda=None, scale_pos_weight=None,\n",
              "                                    subsample=None, tree_method=None,\n",
              "                                    validate_parameters=None, verbosity=None),\n",
              "             param_grid={'colsample_bytree': [0.3, 0.7],\n",
              "                         'learning_rate': [0.01, 0.05, 0.1],\n",
              "                         'max_depth': [3, 6, 10],\n",
              "                         'n_estimators': [100, 500, 1000]},\n",
              "             scoring='neg_mean_squared_error', verbose=2)"
            ]
          },
          "execution_count": 112,
          "metadata": {},
          "output_type": "execute_result"
        }
      ],
      "source": [
        "cv_xgb.fit(X_train, y_train)"
      ]
    },
    {
      "cell_type": "code",
      "execution_count": 113,
      "metadata": {},
      "outputs": [
        {
          "data": {
            "text/plain": [
              "{'colsample_bytree': 0.7,\n",
              " 'learning_rate': 0.01,\n",
              " 'max_depth': 10,\n",
              " 'n_estimators': 100}"
            ]
          },
          "execution_count": 113,
          "metadata": {},
          "output_type": "execute_result"
        }
      ],
      "source": [
        "cv_xgb.best_params_"
      ]
    },
    {
      "cell_type": "code",
      "execution_count": 114,
      "metadata": {},
      "outputs": [
        {
          "data": {
            "text/plain": [
              "-754505100.8431304"
            ]
          },
          "execution_count": 114,
          "metadata": {},
          "output_type": "execute_result"
        }
      ],
      "source": [
        "cv_xgb.best_score_"
      ]
    },
    {
      "cell_type": "code",
      "execution_count": 74,
      "metadata": {},
      "outputs": [
        {
          "name": "stdout",
          "output_type": "stream",
          "text": [
            "Mean Absolute Error: 2196.055911710791\n",
            "Mean Squared Error: 687128604.285527\n",
            "Root Mean Squared Error: 26213.13800912678\n"
          ]
        }
      ],
      "source": [
        "xg_reg2 = xgb.XGBRegressor(colsample_bytree = 0.7, learning_rate = 0.01,\n",
        "                max_depth = 10, n_estimators = 100)\n",
        "\n",
        "xg_reg2.fit(X_train,y_train)\n",
        "#\n",
        "print_error(X_test,y_test,xg_reg2)\n"
      ]
    },
    {
      "cell_type": "code",
      "execution_count": 75,
      "metadata": {},
      "outputs": [
        {
          "data": {
            "text/plain": [
              "0.1729412513480214"
            ]
          },
          "execution_count": 75,
          "metadata": {},
          "output_type": "execute_result"
        }
      ],
      "source": [
        "y_pred_xgb2 =xg_reg2.predict(X_test)\n",
        "metrics.r2_score(y_test, y_pred_xgb2)"
      ]
    },
    {
      "cell_type": "code",
      "execution_count": 76,
      "metadata": {},
      "outputs": [
        {
          "data": {
            "image/png": "[encoded data removed]",
            "text/plain": [
              "<Figure size 432x288 with 1 Axes>"
            ]
          },
          "metadata": {},
          "output_type": "display_data"
        }
      ],
      "source": [
        "plt.scatter(y_test, y_pred_xgb2, alpha = 0.5)\n",
        "plt.xlabel(\"y_test\")\n",
        "plt.ylabel(\"y_pred_xgb\")\n",
        "plt.show()"
      ]
    },
    {
      "cell_type": "code",
      "execution_count": 98,
      "metadata": {},
      "outputs": [],
      "source": [
        "import pickle\n",
        "with open('youtube_xgb.pickle','wb') as f:\n",
        "  pickle.dump(xg_reg2,f)"
      ]
    },
    {
      "cell_type": "markdown",
      "metadata": {},
      "source": [
        "# Testing"
      ]
    },
    {
      "cell_type": "code",
      "execution_count": 77,
      "metadata": {},
      "outputs": [],
      "source": [
        "data_test = pd.read_csv(\"test.csv\")"
      ]
    },
    {
      "cell_type": "code",
      "execution_count": 78,
      "metadata": {},
      "outputs": [
        {
          "data": {
            "text/plain": [
              "(8764, 8)"
            ]
          },
          "execution_count": 78,
          "metadata": {},
          "output_type": "execute_result"
        }
      ],
      "source": [
        "data_test.shape"
      ]
    },
    {
      "cell_type": "code",
      "execution_count": 79,
      "metadata": {},
      "outputs": [
        {
          "data": {
            "text/html": [
              "<div>\n",
              "<style scoped>\n",
              "    .dataframe tbody tr th:only-of-type {\n",
              "        vertical-align: middle;\n",
              "    }\n",
              "\n",
              "    .dataframe tbody tr th {\n",
              "        vertical-align: top;\n",
              "    }\n",
              "\n",
              "    .dataframe thead th {\n",
              "        text-align: right;\n",
              "    }\n",
              "</style>\n",
              "<table border=\"1\" class=\"dataframe\">\n",
              "  <thead>\n",
              "    <tr style=\"text-align: right;\">\n",
              "      <th></th>\n",
              "      <th>vidid</th>\n",
              "      <th>views</th>\n",
              "      <th>likes</th>\n",
              "      <th>dislikes</th>\n",
              "      <th>comment</th>\n",
              "      <th>published</th>\n",
              "      <th>duration</th>\n",
              "      <th>category</th>\n",
              "    </tr>\n",
              "  </thead>\n",
              "  <tbody>\n",
              "    <tr>\n",
              "      <th>0</th>\n",
              "      <td>VID_1054</td>\n",
              "      <td>440238</td>\n",
              "      <td>6153</td>\n",
              "      <td>218</td>\n",
              "      <td>1377</td>\n",
              "      <td>2017-02-18</td>\n",
              "      <td>PT7M29S</td>\n",
              "      <td>B</td>\n",
              "    </tr>\n",
              "    <tr>\n",
              "      <th>1</th>\n",
              "      <td>VID_18629</td>\n",
              "      <td>1040132</td>\n",
              "      <td>8171</td>\n",
              "      <td>340</td>\n",
              "      <td>1047</td>\n",
              "      <td>2016-06-28</td>\n",
              "      <td>PT6M29S</td>\n",
              "      <td>F</td>\n",
              "    </tr>\n",
              "    <tr>\n",
              "      <th>2</th>\n",
              "      <td>VID_13967</td>\n",
              "      <td>28534</td>\n",
              "      <td>31</td>\n",
              "      <td>11</td>\n",
              "      <td>1</td>\n",
              "      <td>2014-03-10</td>\n",
              "      <td>PT37M54S</td>\n",
              "      <td>D</td>\n",
              "    </tr>\n",
              "    <tr>\n",
              "      <th>3</th>\n",
              "      <td>VID_19442</td>\n",
              "      <td>1316715</td>\n",
              "      <td>2284</td>\n",
              "      <td>250</td>\n",
              "      <td>274</td>\n",
              "      <td>2010-06-05</td>\n",
              "      <td>PT9M55S</td>\n",
              "      <td>G</td>\n",
              "    </tr>\n",
              "    <tr>\n",
              "      <th>4</th>\n",
              "      <td>VID_770</td>\n",
              "      <td>1893173</td>\n",
              "      <td>2519</td>\n",
              "      <td>225</td>\n",
              "      <td>116</td>\n",
              "      <td>2016-09-03</td>\n",
              "      <td>PT3M8S</td>\n",
              "      <td>B</td>\n",
              "    </tr>\n",
              "  </tbody>\n",
              "</table>\n",
              "</div>"
            ],
            "text/plain": [
              "       vidid    views likes dislikes comment   published  duration category\n",
              "0   VID_1054   440238  6153      218    1377  2017-02-18   PT7M29S        B\n",
              "1  VID_18629  1040132  8171      340    1047  2016-06-28   PT6M29S        F\n",
              "2  VID_13967    28534    31       11       1  2014-03-10  PT37M54S        D\n",
              "3  VID_19442  1316715  2284      250     274  2010-06-05   PT9M55S        G\n",
              "4    VID_770  1893173  2519      225     116  2016-09-03    PT3M8S        B"
            ]
          },
          "execution_count": 79,
          "metadata": {},
          "output_type": "execute_result"
        }
      ],
      "source": [
        "data_test.head()"
      ]
    },
    {
      "cell_type": "code",
      "execution_count": 80,
      "metadata": {},
      "outputs": [
        {
          "data": {
            "text/html": [
              "<div>\n",
              "<style scoped>\n",
              "    .dataframe tbody tr th:only-of-type {\n",
              "        vertical-align: middle;\n",
              "    }\n",
              "\n",
              "    .dataframe tbody tr th {\n",
              "        vertical-align: top;\n",
              "    }\n",
              "\n",
              "    .dataframe thead th {\n",
              "        text-align: right;\n",
              "    }\n",
              "</style>\n",
              "<table border=\"1\" class=\"dataframe\">\n",
              "  <thead>\n",
              "    <tr style=\"text-align: right;\">\n",
              "      <th></th>\n",
              "      <th>vidid</th>\n",
              "      <th>views</th>\n",
              "      <th>likes</th>\n",
              "      <th>dislikes</th>\n",
              "      <th>comment</th>\n",
              "      <th>published</th>\n",
              "      <th>duration</th>\n",
              "      <th>category</th>\n",
              "    </tr>\n",
              "  </thead>\n",
              "  <tbody>\n",
              "    <tr>\n",
              "      <th>0</th>\n",
              "      <td>VID_1054</td>\n",
              "      <td>440238</td>\n",
              "      <td>6153</td>\n",
              "      <td>218</td>\n",
              "      <td>1377</td>\n",
              "      <td>2017-02-18</td>\n",
              "      <td>PT7M29S</td>\n",
              "      <td>B</td>\n",
              "    </tr>\n",
              "    <tr>\n",
              "      <th>1</th>\n",
              "      <td>VID_18629</td>\n",
              "      <td>1040132</td>\n",
              "      <td>8171</td>\n",
              "      <td>340</td>\n",
              "      <td>1047</td>\n",
              "      <td>2016-06-28</td>\n",
              "      <td>PT6M29S</td>\n",
              "      <td>F</td>\n",
              "    </tr>\n",
              "    <tr>\n",
              "      <th>2</th>\n",
              "      <td>VID_13967</td>\n",
              "      <td>28534</td>\n",
              "      <td>31</td>\n",
              "      <td>11</td>\n",
              "      <td>1</td>\n",
              "      <td>2014-03-10</td>\n",
              "      <td>PT37M54S</td>\n",
              "      <td>D</td>\n",
              "    </tr>\n",
              "    <tr>\n",
              "      <th>3</th>\n",
              "      <td>VID_19442</td>\n",
              "      <td>1316715</td>\n",
              "      <td>2284</td>\n",
              "      <td>250</td>\n",
              "      <td>274</td>\n",
              "      <td>2010-06-05</td>\n",
              "      <td>PT9M55S</td>\n",
              "      <td>G</td>\n",
              "    </tr>\n",
              "    <tr>\n",
              "      <th>4</th>\n",
              "      <td>VID_770</td>\n",
              "      <td>1893173</td>\n",
              "      <td>2519</td>\n",
              "      <td>225</td>\n",
              "      <td>116</td>\n",
              "      <td>2016-09-03</td>\n",
              "      <td>PT3M8S</td>\n",
              "      <td>B</td>\n",
              "    </tr>\n",
              "  </tbody>\n",
              "</table>\n",
              "</div>"
            ],
            "text/plain": [
              "       vidid    views likes dislikes comment   published  duration category\n",
              "0   VID_1054   440238  6153      218    1377  2017-02-18   PT7M29S        B\n",
              "1  VID_18629  1040132  8171      340    1047  2016-06-28   PT6M29S        F\n",
              "2  VID_13967    28534    31       11       1  2014-03-10  PT37M54S        D\n",
              "3  VID_19442  1316715  2284      250     274  2010-06-05   PT9M55S        G\n",
              "4    VID_770  1893173  2519      225     116  2016-09-03    PT3M8S        B"
            ]
          },
          "execution_count": 80,
          "metadata": {},
          "output_type": "execute_result"
        }
      ],
      "source": [
        "data_test=data_test[data_test.views!='F']\n",
        "data_test=data_test[data_test.likes!='F']\n",
        "data_test=data_test[data_test.dislikes!='F']\n",
        "data_test=data_test[data_test.comment!='F']\n",
        "data_test.head()"
      ]
    },
    {
      "cell_type": "code",
      "execution_count": 81,
      "metadata": {},
      "outputs": [
        {
          "data": {
            "text/plain": [
              "vidid        object\n",
              "views        object\n",
              "likes        object\n",
              "dislikes     object\n",
              "comment      object\n",
              "published    object\n",
              "duration     object\n",
              "category     object\n",
              "dtype: object"
            ]
          },
          "execution_count": 81,
          "metadata": {},
          "output_type": "execute_result"
        }
      ],
      "source": [
        "data_test.dtypes"
      ]
    },
    {
      "cell_type": "code",
      "execution_count": 82,
      "metadata": {},
      "outputs": [],
      "source": [
        "data_test[\"views\"] = pd.to_numeric(data_test[\"views\"])\n",
        "data_test[\"comment\"] = pd.to_numeric(data_test[\"comment\"])\n",
        "data_test[\"likes\"] = pd.to_numeric(data_test[\"likes\"])\n",
        "data_test[\"dislikes\"] = pd.to_numeric(data_test[\"dislikes\"])"
      ]
    },
    {
      "cell_type": "code",
      "execution_count": 83,
      "metadata": {},
      "outputs": [
        {
          "data": {
            "text/plain": [
              "vidid        object\n",
              "views         int64\n",
              "likes         int64\n",
              "dislikes      int64\n",
              "comment       int64\n",
              "published    object\n",
              "duration     object\n",
              "category     object\n",
              "dtype: object"
            ]
          },
          "execution_count": 83,
          "metadata": {},
          "output_type": "execute_result"
        }
      ],
      "source": [
        "data_test.dtypes"
      ]
    },
    {
      "cell_type": "code",
      "execution_count": 84,
      "metadata": {},
      "outputs": [
        {
          "data": {
            "text/html": [
              "<div>\n",
              "<style scoped>\n",
              "    .dataframe tbody tr th:only-of-type {\n",
              "        vertical-align: middle;\n",
              "    }\n",
              "\n",
              "    .dataframe tbody tr th {\n",
              "        vertical-align: top;\n",
              "    }\n",
              "\n",
              "    .dataframe thead th {\n",
              "        text-align: right;\n",
              "    }\n",
              "</style>\n",
              "<table border=\"1\" class=\"dataframe\">\n",
              "  <thead>\n",
              "    <tr style=\"text-align: right;\">\n",
              "      <th></th>\n",
              "      <th>vidid</th>\n",
              "      <th>views</th>\n",
              "      <th>likes</th>\n",
              "      <th>dislikes</th>\n",
              "      <th>comment</th>\n",
              "      <th>published</th>\n",
              "      <th>duration</th>\n",
              "      <th>category_B</th>\n",
              "      <th>category_C</th>\n",
              "      <th>category_D</th>\n",
              "      <th>category_E</th>\n",
              "      <th>category_F</th>\n",
              "      <th>category_G</th>\n",
              "      <th>category_H</th>\n",
              "    </tr>\n",
              "  </thead>\n",
              "  <tbody>\n",
              "    <tr>\n",
              "      <th>0</th>\n",
              "      <td>VID_1054</td>\n",
              "      <td>440238</td>\n",
              "      <td>6153</td>\n",
              "      <td>218</td>\n",
              "      <td>1377</td>\n",
              "      <td>2017-02-18</td>\n",
              "      <td>PT7M29S</td>\n",
              "      <td>1</td>\n",
              "      <td>0</td>\n",
              "      <td>0</td>\n",
              "      <td>0</td>\n",
              "      <td>0</td>\n",
              "      <td>0</td>\n",
              "      <td>0</td>\n",
              "    </tr>\n",
              "    <tr>\n",
              "      <th>1</th>\n",
              "      <td>VID_18629</td>\n",
              "      <td>1040132</td>\n",
              "      <td>8171</td>\n",
              "      <td>340</td>\n",
              "      <td>1047</td>\n",
              "      <td>2016-06-28</td>\n",
              "      <td>PT6M29S</td>\n",
              "      <td>0</td>\n",
              "      <td>0</td>\n",
              "      <td>0</td>\n",
              "      <td>0</td>\n",
              "      <td>1</td>\n",
              "      <td>0</td>\n",
              "      <td>0</td>\n",
              "    </tr>\n",
              "    <tr>\n",
              "      <th>2</th>\n",
              "      <td>VID_13967</td>\n",
              "      <td>28534</td>\n",
              "      <td>31</td>\n",
              "      <td>11</td>\n",
              "      <td>1</td>\n",
              "      <td>2014-03-10</td>\n",
              "      <td>PT37M54S</td>\n",
              "      <td>0</td>\n",
              "      <td>0</td>\n",
              "      <td>1</td>\n",
              "      <td>0</td>\n",
              "      <td>0</td>\n",
              "      <td>0</td>\n",
              "      <td>0</td>\n",
              "    </tr>\n",
              "    <tr>\n",
              "      <th>3</th>\n",
              "      <td>VID_19442</td>\n",
              "      <td>1316715</td>\n",
              "      <td>2284</td>\n",
              "      <td>250</td>\n",
              "      <td>274</td>\n",
              "      <td>2010-06-05</td>\n",
              "      <td>PT9M55S</td>\n",
              "      <td>0</td>\n",
              "      <td>0</td>\n",
              "      <td>0</td>\n",
              "      <td>0</td>\n",
              "      <td>0</td>\n",
              "      <td>1</td>\n",
              "      <td>0</td>\n",
              "    </tr>\n",
              "    <tr>\n",
              "      <th>4</th>\n",
              "      <td>VID_770</td>\n",
              "      <td>1893173</td>\n",
              "      <td>2519</td>\n",
              "      <td>225</td>\n",
              "      <td>116</td>\n",
              "      <td>2016-09-03</td>\n",
              "      <td>PT3M8S</td>\n",
              "      <td>1</td>\n",
              "      <td>0</td>\n",
              "      <td>0</td>\n",
              "      <td>0</td>\n",
              "      <td>0</td>\n",
              "      <td>0</td>\n",
              "      <td>0</td>\n",
              "    </tr>\n",
              "  </tbody>\n",
              "</table>\n",
              "</div>"
            ],
            "text/plain": [
              "       vidid    views  likes  dislikes  comment   published  duration  \\\n",
              "0   VID_1054   440238   6153       218     1377  2017-02-18   PT7M29S   \n",
              "1  VID_18629  1040132   8171       340     1047  2016-06-28   PT6M29S   \n",
              "2  VID_13967    28534     31        11        1  2014-03-10  PT37M54S   \n",
              "3  VID_19442  1316715   2284       250      274  2010-06-05   PT9M55S   \n",
              "4    VID_770  1893173   2519       225      116  2016-09-03    PT3M8S   \n",
              "\n",
              "   category_B  category_C  category_D  category_E  category_F  category_G  \\\n",
              "0           1           0           0           0           0           0   \n",
              "1           0           0           0           0           1           0   \n",
              "2           0           0           1           0           0           0   \n",
              "3           0           0           0           0           0           1   \n",
              "4           1           0           0           0           0           0   \n",
              "\n",
              "   category_H  \n",
              "0           0  \n",
              "1           0  \n",
              "2           0  \n",
              "3           0  \n",
              "4           0  "
            ]
          },
          "execution_count": 84,
          "metadata": {},
          "output_type": "execute_result"
        }
      ],
      "source": [
        "data_test = pd.get_dummies(data_test,columns = ['category'],drop_first=True)\n",
        "data_test.head()"
      ]
    },
    {
      "cell_type": "code",
      "execution_count": 85,
      "metadata": {},
      "outputs": [],
      "source": [
        "import datetime\n",
        "import time\n",
        "def checki(x):\n",
        "    y = x[2:]\n",
        "    h = ''\n",
        "    m = ''\n",
        "    s = ''\n",
        "    mm = ''\n",
        "    P = ['H','M','S']\n",
        "    for i in y:\n",
        "        if i not in P:\n",
        "            mm+=i\n",
        "        else:\n",
        "            if(i==\"H\"):\n",
        "                h = mm\n",
        "                mm = ''\n",
        "            elif(i == \"M\"):\n",
        "                m = mm\n",
        "                mm = ''\n",
        "            else:\n",
        "                s = mm\n",
        "                mm = ''\n",
        "    if(h==''):\n",
        "        h = '00'\n",
        "    if(m == ''):\n",
        "        m = '00'\n",
        "    if(s==''):\n",
        "        s='00'\n",
        "    bp = h+':'+m+':'+s\n",
        "    return bp\n",
        "train=pd.read_csv(\"test.csv\")\n",
        "mp = pd.read_csv(\"test.csv\")[\"duration\"]\n",
        "time = mp.apply(checki)"
      ]
    },
    {
      "cell_type": "code",
      "execution_count": 86,
      "metadata": {},
      "outputs": [
        {
          "data": {
            "text/html": [
              "<div>\n",
              "<style scoped>\n",
              "    .dataframe tbody tr th:only-of-type {\n",
              "        vertical-align: middle;\n",
              "    }\n",
              "\n",
              "    .dataframe tbody tr th {\n",
              "        vertical-align: top;\n",
              "    }\n",
              "\n",
              "    .dataframe thead th {\n",
              "        text-align: right;\n",
              "    }\n",
              "</style>\n",
              "<table border=\"1\" class=\"dataframe\">\n",
              "  <thead>\n",
              "    <tr style=\"text-align: right;\">\n",
              "      <th></th>\n",
              "      <th>vidid</th>\n",
              "      <th>views</th>\n",
              "      <th>likes</th>\n",
              "      <th>dislikes</th>\n",
              "      <th>comment</th>\n",
              "      <th>published</th>\n",
              "      <th>duration</th>\n",
              "      <th>category_B</th>\n",
              "      <th>category_C</th>\n",
              "      <th>category_D</th>\n",
              "      <th>category_E</th>\n",
              "      <th>category_F</th>\n",
              "      <th>category_G</th>\n",
              "      <th>category_H</th>\n",
              "    </tr>\n",
              "  </thead>\n",
              "  <tbody>\n",
              "    <tr>\n",
              "      <th>0</th>\n",
              "      <td>VID_1054</td>\n",
              "      <td>440238</td>\n",
              "      <td>6153</td>\n",
              "      <td>218</td>\n",
              "      <td>1377</td>\n",
              "      <td>2017-02-18</td>\n",
              "      <td>449</td>\n",
              "      <td>1</td>\n",
              "      <td>0</td>\n",
              "      <td>0</td>\n",
              "      <td>0</td>\n",
              "      <td>0</td>\n",
              "      <td>0</td>\n",
              "      <td>0</td>\n",
              "    </tr>\n",
              "    <tr>\n",
              "      <th>1</th>\n",
              "      <td>VID_18629</td>\n",
              "      <td>1040132</td>\n",
              "      <td>8171</td>\n",
              "      <td>340</td>\n",
              "      <td>1047</td>\n",
              "      <td>2016-06-28</td>\n",
              "      <td>389</td>\n",
              "      <td>0</td>\n",
              "      <td>0</td>\n",
              "      <td>0</td>\n",
              "      <td>0</td>\n",
              "      <td>1</td>\n",
              "      <td>0</td>\n",
              "      <td>0</td>\n",
              "    </tr>\n",
              "    <tr>\n",
              "      <th>2</th>\n",
              "      <td>VID_13967</td>\n",
              "      <td>28534</td>\n",
              "      <td>31</td>\n",
              "      <td>11</td>\n",
              "      <td>1</td>\n",
              "      <td>2014-03-10</td>\n",
              "      <td>2274</td>\n",
              "      <td>0</td>\n",
              "      <td>0</td>\n",
              "      <td>1</td>\n",
              "      <td>0</td>\n",
              "      <td>0</td>\n",
              "      <td>0</td>\n",
              "      <td>0</td>\n",
              "    </tr>\n",
              "    <tr>\n",
              "      <th>3</th>\n",
              "      <td>VID_19442</td>\n",
              "      <td>1316715</td>\n",
              "      <td>2284</td>\n",
              "      <td>250</td>\n",
              "      <td>274</td>\n",
              "      <td>2010-06-05</td>\n",
              "      <td>595</td>\n",
              "      <td>0</td>\n",
              "      <td>0</td>\n",
              "      <td>0</td>\n",
              "      <td>0</td>\n",
              "      <td>0</td>\n",
              "      <td>1</td>\n",
              "      <td>0</td>\n",
              "    </tr>\n",
              "    <tr>\n",
              "      <th>4</th>\n",
              "      <td>VID_770</td>\n",
              "      <td>1893173</td>\n",
              "      <td>2519</td>\n",
              "      <td>225</td>\n",
              "      <td>116</td>\n",
              "      <td>2016-09-03</td>\n",
              "      <td>188</td>\n",
              "      <td>1</td>\n",
              "      <td>0</td>\n",
              "      <td>0</td>\n",
              "      <td>0</td>\n",
              "      <td>0</td>\n",
              "      <td>0</td>\n",
              "      <td>0</td>\n",
              "    </tr>\n",
              "  </tbody>\n",
              "</table>\n",
              "</div>"
            ],
            "text/plain": [
              "       vidid    views  likes  dislikes  comment   published  duration  \\\n",
              "0   VID_1054   440238   6153       218     1377  2017-02-18       449   \n",
              "1  VID_18629  1040132   8171       340     1047  2016-06-28       389   \n",
              "2  VID_13967    28534     31        11        1  2014-03-10      2274   \n",
              "3  VID_19442  1316715   2284       250      274  2010-06-05       595   \n",
              "4    VID_770  1893173   2519       225      116  2016-09-03       188   \n",
              "\n",
              "   category_B  category_C  category_D  category_E  category_F  category_G  \\\n",
              "0           1           0           0           0           0           0   \n",
              "1           0           0           0           0           1           0   \n",
              "2           0           0           1           0           0           0   \n",
              "3           0           0           0           0           0           1   \n",
              "4           1           0           0           0           0           0   \n",
              "\n",
              "   category_H  \n",
              "0           0  \n",
              "1           0  \n",
              "2           0  \n",
              "3           0  \n",
              "4           0  "
            ]
          },
          "execution_count": 86,
          "metadata": {},
          "output_type": "execute_result"
        }
      ],
      "source": [
        "def func_sec(time_string):\n",
        "    h, m, s = time_string.split(':')\n",
        "    return int(h) * 3600 + int(m) * 60 + int(s)\n",
        "time1=time.apply(func_sec)\n",
        "data_test[\"duration\"]=time1\n",
        "data_test.head()"
      ]
    },
    {
      "cell_type": "code",
      "execution_count": 87,
      "metadata": {},
      "outputs": [],
      "source": [
        "data_test.drop(['vidid'],axis=1,inplace=True)"
      ]
    },
    {
      "cell_type": "code",
      "execution_count": 88,
      "metadata": {},
      "outputs": [
        {
          "data": {
            "text/html": [
              "<div>\n",
              "<style scoped>\n",
              "    .dataframe tbody tr th:only-of-type {\n",
              "        vertical-align: middle;\n",
              "    }\n",
              "\n",
              "    .dataframe tbody tr th {\n",
              "        vertical-align: top;\n",
              "    }\n",
              "\n",
              "    .dataframe thead th {\n",
              "        text-align: right;\n",
              "    }\n",
              "</style>\n",
              "<table border=\"1\" class=\"dataframe\">\n",
              "  <thead>\n",
              "    <tr style=\"text-align: right;\">\n",
              "      <th></th>\n",
              "      <th>views</th>\n",
              "      <th>likes</th>\n",
              "      <th>dislikes</th>\n",
              "      <th>comment</th>\n",
              "      <th>published</th>\n",
              "      <th>duration</th>\n",
              "      <th>category_B</th>\n",
              "      <th>category_C</th>\n",
              "      <th>category_D</th>\n",
              "      <th>category_E</th>\n",
              "      <th>category_F</th>\n",
              "      <th>category_G</th>\n",
              "      <th>category_H</th>\n",
              "    </tr>\n",
              "  </thead>\n",
              "  <tbody>\n",
              "    <tr>\n",
              "      <th>0</th>\n",
              "      <td>440238</td>\n",
              "      <td>6153</td>\n",
              "      <td>218</td>\n",
              "      <td>1377</td>\n",
              "      <td>2017-02-18</td>\n",
              "      <td>449</td>\n",
              "      <td>1</td>\n",
              "      <td>0</td>\n",
              "      <td>0</td>\n",
              "      <td>0</td>\n",
              "      <td>0</td>\n",
              "      <td>0</td>\n",
              "      <td>0</td>\n",
              "    </tr>\n",
              "    <tr>\n",
              "      <th>1</th>\n",
              "      <td>1040132</td>\n",
              "      <td>8171</td>\n",
              "      <td>340</td>\n",
              "      <td>1047</td>\n",
              "      <td>2016-06-28</td>\n",
              "      <td>389</td>\n",
              "      <td>0</td>\n",
              "      <td>0</td>\n",
              "      <td>0</td>\n",
              "      <td>0</td>\n",
              "      <td>1</td>\n",
              "      <td>0</td>\n",
              "      <td>0</td>\n",
              "    </tr>\n",
              "    <tr>\n",
              "      <th>2</th>\n",
              "      <td>28534</td>\n",
              "      <td>31</td>\n",
              "      <td>11</td>\n",
              "      <td>1</td>\n",
              "      <td>2014-03-10</td>\n",
              "      <td>2274</td>\n",
              "      <td>0</td>\n",
              "      <td>0</td>\n",
              "      <td>1</td>\n",
              "      <td>0</td>\n",
              "      <td>0</td>\n",
              "      <td>0</td>\n",
              "      <td>0</td>\n",
              "    </tr>\n",
              "    <tr>\n",
              "      <th>3</th>\n",
              "      <td>1316715</td>\n",
              "      <td>2284</td>\n",
              "      <td>250</td>\n",
              "      <td>274</td>\n",
              "      <td>2010-06-05</td>\n",
              "      <td>595</td>\n",
              "      <td>0</td>\n",
              "      <td>0</td>\n",
              "      <td>0</td>\n",
              "      <td>0</td>\n",
              "      <td>0</td>\n",
              "      <td>1</td>\n",
              "      <td>0</td>\n",
              "    </tr>\n",
              "    <tr>\n",
              "      <th>4</th>\n",
              "      <td>1893173</td>\n",
              "      <td>2519</td>\n",
              "      <td>225</td>\n",
              "      <td>116</td>\n",
              "      <td>2016-09-03</td>\n",
              "      <td>188</td>\n",
              "      <td>1</td>\n",
              "      <td>0</td>\n",
              "      <td>0</td>\n",
              "      <td>0</td>\n",
              "      <td>0</td>\n",
              "      <td>0</td>\n",
              "      <td>0</td>\n",
              "    </tr>\n",
              "  </tbody>\n",
              "</table>\n",
              "</div>"
            ],
            "text/plain": [
              "     views  likes  dislikes  comment   published  duration  category_B  \\\n",
              "0   440238   6153       218     1377  2017-02-18       449           1   \n",
              "1  1040132   8171       340     1047  2016-06-28       389           0   \n",
              "2    28534     31        11        1  2014-03-10      2274           0   \n",
              "3  1316715   2284       250      274  2010-06-05       595           0   \n",
              "4  1893173   2519       225      116  2016-09-03       188           1   \n",
              "\n",
              "   category_C  category_D  category_E  category_F  category_G  category_H  \n",
              "0           0           0           0           0           0           0  \n",
              "1           0           0           0           1           0           0  \n",
              "2           0           1           0           0           0           0  \n",
              "3           0           0           0           0           1           0  \n",
              "4           0           0           0           0           0           0  "
            ]
          },
          "execution_count": 88,
          "metadata": {},
          "output_type": "execute_result"
        }
      ],
      "source": [
        "data_test.head()"
      ]
    },
    {
      "cell_type": "code",
      "execution_count": 89,
      "metadata": {},
      "outputs": [],
      "source": [
        "data_test[\"published_year\"] = pd.to_datetime(data_test.published,).dt.year\n",
        "data_test[\"published_month\"] = pd.to_datetime(data_test.published,).dt.month\n",
        "data_test[\"published_day\"] = pd.to_datetime(data_test.published,).dt.day"
      ]
    },
    {
      "cell_type": "code",
      "execution_count": 90,
      "metadata": {},
      "outputs": [],
      "source": [
        "data_test.drop([\"published\"], axis = 1, inplace = True)"
      ]
    },
    {
      "cell_type": "code",
      "execution_count": 91,
      "metadata": {},
      "outputs": [
        {
          "data": {
            "text/html": [
              "<div>\n",
              "<style scoped>\n",
              "    .dataframe tbody tr th:only-of-type {\n",
              "        vertical-align: middle;\n",
              "    }\n",
              "\n",
              "    .dataframe tbody tr th {\n",
              "        vertical-align: top;\n",
              "    }\n",
              "\n",
              "    .dataframe thead th {\n",
              "        text-align: right;\n",
              "    }\n",
              "</style>\n",
              "<table border=\"1\" class=\"dataframe\">\n",
              "  <thead>\n",
              "    <tr style=\"text-align: right;\">\n",
              "      <th></th>\n",
              "      <th>views</th>\n",
              "      <th>likes</th>\n",
              "      <th>dislikes</th>\n",
              "      <th>comment</th>\n",
              "      <th>duration</th>\n",
              "      <th>category_B</th>\n",
              "      <th>category_C</th>\n",
              "      <th>category_D</th>\n",
              "      <th>category_E</th>\n",
              "      <th>category_F</th>\n",
              "      <th>category_G</th>\n",
              "      <th>category_H</th>\n",
              "      <th>published_year</th>\n",
              "      <th>published_month</th>\n",
              "      <th>published_day</th>\n",
              "    </tr>\n",
              "  </thead>\n",
              "  <tbody>\n",
              "    <tr>\n",
              "      <th>0</th>\n",
              "      <td>440238</td>\n",
              "      <td>6153</td>\n",
              "      <td>218</td>\n",
              "      <td>1377</td>\n",
              "      <td>449</td>\n",
              "      <td>1</td>\n",
              "      <td>0</td>\n",
              "      <td>0</td>\n",
              "      <td>0</td>\n",
              "      <td>0</td>\n",
              "      <td>0</td>\n",
              "      <td>0</td>\n",
              "      <td>2017</td>\n",
              "      <td>2</td>\n",
              "      <td>18</td>\n",
              "    </tr>\n",
              "    <tr>\n",
              "      <th>1</th>\n",
              "      <td>1040132</td>\n",
              "      <td>8171</td>\n",
              "      <td>340</td>\n",
              "      <td>1047</td>\n",
              "      <td>389</td>\n",
              "      <td>0</td>\n",
              "      <td>0</td>\n",
              "      <td>0</td>\n",
              "      <td>0</td>\n",
              "      <td>1</td>\n",
              "      <td>0</td>\n",
              "      <td>0</td>\n",
              "      <td>2016</td>\n",
              "      <td>6</td>\n",
              "      <td>28</td>\n",
              "    </tr>\n",
              "    <tr>\n",
              "      <th>2</th>\n",
              "      <td>28534</td>\n",
              "      <td>31</td>\n",
              "      <td>11</td>\n",
              "      <td>1</td>\n",
              "      <td>2274</td>\n",
              "      <td>0</td>\n",
              "      <td>0</td>\n",
              "      <td>1</td>\n",
              "      <td>0</td>\n",
              "      <td>0</td>\n",
              "      <td>0</td>\n",
              "      <td>0</td>\n",
              "      <td>2014</td>\n",
              "      <td>3</td>\n",
              "      <td>10</td>\n",
              "    </tr>\n",
              "    <tr>\n",
              "      <th>3</th>\n",
              "      <td>1316715</td>\n",
              "      <td>2284</td>\n",
              "      <td>250</td>\n",
              "      <td>274</td>\n",
              "      <td>595</td>\n",
              "      <td>0</td>\n",
              "      <td>0</td>\n",
              "      <td>0</td>\n",
              "      <td>0</td>\n",
              "      <td>0</td>\n",
              "      <td>1</td>\n",
              "      <td>0</td>\n",
              "      <td>2010</td>\n",
              "      <td>6</td>\n",
              "      <td>5</td>\n",
              "    </tr>\n",
              "    <tr>\n",
              "      <th>4</th>\n",
              "      <td>1893173</td>\n",
              "      <td>2519</td>\n",
              "      <td>225</td>\n",
              "      <td>116</td>\n",
              "      <td>188</td>\n",
              "      <td>1</td>\n",
              "      <td>0</td>\n",
              "      <td>0</td>\n",
              "      <td>0</td>\n",
              "      <td>0</td>\n",
              "      <td>0</td>\n",
              "      <td>0</td>\n",
              "      <td>2016</td>\n",
              "      <td>9</td>\n",
              "      <td>3</td>\n",
              "    </tr>\n",
              "  </tbody>\n",
              "</table>\n",
              "</div>"
            ],
            "text/plain": [
              "     views  likes  dislikes  comment  duration  category_B  category_C  \\\n",
              "0   440238   6153       218     1377       449           1           0   \n",
              "1  1040132   8171       340     1047       389           0           0   \n",
              "2    28534     31        11        1      2274           0           0   \n",
              "3  1316715   2284       250      274       595           0           0   \n",
              "4  1893173   2519       225      116       188           1           0   \n",
              "\n",
              "   category_D  category_E  category_F  category_G  category_H  published_year  \\\n",
              "0           0           0           0           0           0            2017   \n",
              "1           0           0           1           0           0            2016   \n",
              "2           1           0           0           0           0            2014   \n",
              "3           0           0           0           1           0            2010   \n",
              "4           0           0           0           0           0            2016   \n",
              "\n",
              "   published_month  published_day  \n",
              "0                2             18  \n",
              "1                6             28  \n",
              "2                3             10  \n",
              "3                6              5  \n",
              "4                9              3  "
            ]
          },
          "execution_count": 91,
          "metadata": {},
          "output_type": "execute_result"
        }
      ],
      "source": [
        "data_test.head()"
      ]
    },
    {
      "cell_type": "code",
      "execution_count": 92,
      "metadata": {},
      "outputs": [
        {
          "data": {
            "text/plain": [
              "0.18807027756409675"
            ]
          },
          "execution_count": 92,
          "metadata": {},
          "output_type": "execute_result"
        }
      ],
      "source": [
        "from sklearn.preprocessing import MinMaxScaler\n",
        "scaler = MinMaxScaler()\n",
        "data_test = scaler.fit_transform(data_test)\n",
        "data_test.mean()"
      ]
    },
    {
      "cell_type": "code",
      "execution_count": 93,
      "metadata": {},
      "outputs": [],
      "source": [
        "import pickle\n",
        "model = pickle.load(open('youtube_xgb.pickle', 'rb'))"
      ]
    },
    {
      "cell_type": "code",
      "execution_count": 108,
      "metadata": {},
      "outputs": [
        {
          "name": "stdout",
          "output_type": "stream",
          "text": [
            "74\n"
          ]
        }
      ],
      "source": [
        "print(np.round(model.predict(data_test)[2]).astype(int))"
      ]
    },
    {
      "cell_type": "code",
      "execution_count": 95,
      "metadata": {},
      "outputs": [],
      "source": [
        "values = [np.array([1031602,8523,363,1095,457,0,0,0,0,1,0,0,2016,9,14])]\n",
        "names = ['views','likes','dislikes','comment','duration','category_B','category_C','category_D','category_E','category_F','category_G','category_H','published_year','published_month','published day']\n",
        "data = pd.DataFrame(values, columns = names)\n"
      ]
    },
    {
      "cell_type": "code",
      "execution_count": 105,
      "metadata": {},
      "outputs": [
        {
          "data": {
            "text/html": [
              "<div>\n",
              "<style scoped>\n",
              "    .dataframe tbody tr th:only-of-type {\n",
              "        vertical-align: middle;\n",
              "    }\n",
              "\n",
              "    .dataframe tbody tr th {\n",
              "        vertical-align: top;\n",
              "    }\n",
              "\n",
              "    .dataframe thead th {\n",
              "        text-align: right;\n",
              "    }\n",
              "</style>\n",
              "<table border=\"1\" class=\"dataframe\">\n",
              "  <thead>\n",
              "    <tr style=\"text-align: right;\">\n",
              "      <th></th>\n",
              "      <th>views</th>\n",
              "      <th>likes</th>\n",
              "      <th>dislikes</th>\n",
              "      <th>comment</th>\n",
              "      <th>duration</th>\n",
              "      <th>category_B</th>\n",
              "      <th>category_C</th>\n",
              "      <th>category_D</th>\n",
              "      <th>category_E</th>\n",
              "      <th>category_F</th>\n",
              "      <th>category_G</th>\n",
              "      <th>category_H</th>\n",
              "      <th>published_year</th>\n",
              "      <th>published_month</th>\n",
              "      <th>published day</th>\n",
              "    </tr>\n",
              "  </thead>\n",
              "  <tbody>\n",
              "    <tr>\n",
              "      <th>0</th>\n",
              "      <td>1031602</td>\n",
              "      <td>8523</td>\n",
              "      <td>363</td>\n",
              "      <td>1095</td>\n",
              "      <td>457</td>\n",
              "      <td>0</td>\n",
              "      <td>0</td>\n",
              "      <td>0</td>\n",
              "      <td>0</td>\n",
              "      <td>1</td>\n",
              "      <td>0</td>\n",
              "      <td>0</td>\n",
              "      <td>2016</td>\n",
              "      <td>9</td>\n",
              "      <td>14</td>\n",
              "    </tr>\n",
              "  </tbody>\n",
              "</table>\n",
              "</div>"
            ],
            "text/plain": [
              "     views  likes  dislikes  comment  duration  category_B  category_C  \\\n",
              "0  1031602   8523       363     1095       457           0           0   \n",
              "\n",
              "   category_D  category_E  category_F  category_G  category_H  published_year  \\\n",
              "0           0           0           1           0           0            2016   \n",
              "\n",
              "   published_month  published day  \n",
              "0                9             14  "
            ]
          },
          "execution_count": 105,
          "metadata": {},
          "output_type": "execute_result"
        }
      ],
      "source": [
        "data"
      ]
    },
    {
      "cell_type": "code",
      "execution_count": 96,
      "metadata": {},
      "outputs": [
        {
          "name": "stdout",
          "output_type": "stream",
          "text": [
            "3951\n"
          ]
        }
      ],
      "source": [
        "print(np.round(model.predict(data)[0]).astype(int))"
      ]
    },
    {
      "cell_type": "code",
      "execution_count": 104,
      "metadata": {},
      "outputs": [
        {
          "data": {
            "text/plain": [
              "array([ 897.13525 ,  459.05267 ,   74.3788  , ..., 8154.1206  ,\n",
              "         96.944786,  664.59204 ], dtype=float32)"
            ]
          },
          "execution_count": 104,
          "metadata": {},
          "output_type": "execute_result"
        }
      ],
      "source": [
        "prediction = model.predict(data_test)\n",
        "prediction"
      ]
    },
    {
      "cell_type": "code",
      "execution_count": 116,
      "metadata": {},
      "outputs": [
        {
          "data": {
            "text/plain": [
              "array([ 897,  459,   74, ..., 8154,   96,  664])"
            ]
          },
          "execution_count": 116,
          "metadata": {},
          "output_type": "execute_result"
        }
      ],
      "source": [
        "pred_int = prediction.astype(int)\n",
        "pred_int"
      ]
    },
    {
      "cell_type": "code",
      "execution_count": 117,
      "metadata": {},
      "outputs": [
        {
          "data": {
            "text/html": [
              "<div>\n",
              "<style scoped>\n",
              "    .dataframe tbody tr th:only-of-type {\n",
              "        vertical-align: middle;\n",
              "    }\n",
              "\n",
              "    .dataframe tbody tr th {\n",
              "        vertical-align: top;\n",
              "    }\n",
              "\n",
              "    .dataframe thead th {\n",
              "        text-align: right;\n",
              "    }\n",
              "</style>\n",
              "<table border=\"1\" class=\"dataframe\">\n",
              "  <thead>\n",
              "    <tr style=\"text-align: right;\">\n",
              "      <th></th>\n",
              "      <th>Adview</th>\n",
              "    </tr>\n",
              "  </thead>\n",
              "  <tbody>\n",
              "    <tr>\n",
              "      <th>0</th>\n",
              "      <td>897</td>\n",
              "    </tr>\n",
              "    <tr>\n",
              "      <th>1</th>\n",
              "      <td>459</td>\n",
              "    </tr>\n",
              "    <tr>\n",
              "      <th>2</th>\n",
              "      <td>74</td>\n",
              "    </tr>\n",
              "    <tr>\n",
              "      <th>3</th>\n",
              "      <td>64</td>\n",
              "    </tr>\n",
              "    <tr>\n",
              "      <th>4</th>\n",
              "      <td>1456</td>\n",
              "    </tr>\n",
              "  </tbody>\n",
              "</table>\n",
              "</div>"
            ],
            "text/plain": [
              "   Adview\n",
              "0     897\n",
              "1     459\n",
              "2      74\n",
              "3      64\n",
              "4    1456"
            ]
          },
          "execution_count": 117,
          "metadata": {},
          "output_type": "execute_result"
        }
      ],
      "source": [
        "pred_int=pd.DataFrame(pred_int, columns=['Adview'])\n",
        "pred_int.head()"
      ]
    },
    {
      "cell_type": "code",
      "execution_count": null,
      "metadata": {},
      "outputs": [],
      "source": []
    }
  ],
  "metadata": {
    "colab": {
      "collapsed_sections": [],
      "name": "youtube adview.ipynb",
      "provenance": []
    },
    "kernelspec": {
      "display_name": "Python 3.9.12 ('base')",
      "language": "python",
      "name": "python3"
    },
    "language_info": {
      "codemirror_mode": {
        "name": "ipython",
        "version": 3
      },
      "file_extension": ".py",
      "mimetype": "text/x-python",
      "name": "python",
      "nbconvert_exporter": "python",
      "pygments_lexer": "ipython3",
      "version": "3.9.12"
    },
    "vscode": {
      "interpreter": {
        "hash": "6a86be28d392303c644b68911d325613dcf92cfd46028db17fab39a9d63193cf"
      }
    }
  },
  "nbformat": 4,
  "nbformat_minor": 0
}
